{
 "cells": [
  {
   "cell_type": "markdown",
   "metadata": {},
   "source": [
    "# Visualizations\n",
    "\n",
    "Today you will practice some of the visualization tools we learned about in the previous class. You will in the process need to combine some of the tools we have learned so far.\n",
    "\n",
    "The data today is about health care spending in the US, and is collected by the Peterson Center on Healthcare and the Kaiser Family Foundation [link here](https://www.healthsystemtracker.org/health-spending-explorer/?display=U.S.%2520%2524%2520Billions&service=Hospitals%252CPhysicians%2520%2526%2520Clinics%252CPrescription%2520Drug&source=Out%2520of%2520Pocket)\n",
    "\n",
    "I copy and pasted from the chart on this page. Note that there are tools to have Python slurp data from a webpage, but this is beyond the scope of this course. However if you end up doing a lot of this work, it would be worth learning those techniques (for example I use these tools to gather the class schedule and course enrollment data for UNC from our website automatically and on a periodic schedule - in fact my code sends me a text message when it is done or runs into an error).\n",
    "\n",
    "I'm not going to give a lot of instruction of what to do. You can use the techniques we've learned in the last three weeks, or you can use google to see if there is another way. I'll be available to chat if you want some help."
   ]
  },
  {
   "cell_type": "code",
   "execution_count": null,
   "metadata": {},
   "outputs": [],
   "source": [
    "# Load our usual set of packages\n",
    "\n",
    "import pandas as pd\n",
    "import seaborn as sns\n",
    "import matplotlib.pyplot as plt\n",
    "import numpy as np"
   ]
  },
  {
   "cell_type": "code",
   "execution_count": null,
   "metadata": {},
   "outputs": [],
   "source": [
    "total_url = 'https://drive.google.com/uc?export=download&id=1dya3ik2dg5g3Q2Y_SeP6MXNWJv8YK43U'\n",
    "total_data = pd.read_csv(total_url)\n",
    "total_data"
   ]
  },
  {
   "cell_type": "markdown",
   "metadata": {},
   "source": [
    "Do the following:\n",
    "\n",
    "1. Rename the first column to be 'Year'\n",
    "2. Fix the other columns so that their dtypes can be floats.\n",
    "3. Make a plot displaying how the Total Expenditure has Fluctuated by Year.\n",
    "4. Make a new dataframe that has the following columns:  'Year', 'Expenditure', 'Type of Expense'. Where the first two columns come from total_data and the third column is one of the three types of expenses in the data.\n",
    "5. Use Seaborn to plot the three types of data together in one chart and show how they have fluctuated by 'Year'.\n",
    "6. Experiment with one other Seaborn plot of the data (either the original dataframe or the new one)."
   ]
  },
  {
   "cell_type": "code",
   "execution_count": null,
   "metadata": {},
   "outputs": [],
   "source": []
  },
  {
   "cell_type": "markdown",
   "metadata": {},
   "source": [
    "Now the truly powerful thing about Python. The next data set is structured exactly the same as total_data, but it represents the out of pocket expenses (i.e. what individuals paid). Use the code from 1-6 above that you wrote to plot this data."
   ]
  },
  {
   "cell_type": "code",
   "execution_count": null,
   "metadata": {},
   "outputs": [],
   "source": [
    "pocket_url = 'https://drive.google.com/uc?export=download&id=1yX-fnUKCDd866ypt0Ed_ge5fD_V0_I8S'\n",
    "pocket_data = pd.read_csv(pocket_url)\n",
    "pocket_data"
   ]
  },
  {
   "cell_type": "code",
   "execution_count": null,
   "metadata": {},
   "outputs": [],
   "source": []
  }
 ],
 "metadata": {
  "kernelspec": {
   "display_name": "Python 3",
   "language": "python",
   "name": "python3"
  },
  "language_info": {
   "codemirror_mode": {
    "name": "ipython",
    "version": 3
   },
   "file_extension": ".py",
   "mimetype": "text/x-python",
   "name": "python",
   "nbconvert_exporter": "python",
   "pygments_lexer": "ipython3",
   "version": "3.7.4"
  }
 },
 "nbformat": 4,
 "nbformat_minor": 4
}
