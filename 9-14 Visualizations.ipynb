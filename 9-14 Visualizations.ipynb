{
 "cells": [
  {
   "cell_type": "code",
   "execution_count": 2,
   "metadata": {},
   "outputs": [],
   "source": [
    "# Load our usual set of packages\n",
    "\n",
    "import pandas as pd\n",
    "import seaborn as sns\n",
    "import matplotlib.pyplot as plt\n",
    "import numpy as np"
   ]
  },
  {
   "cell_type": "markdown",
   "metadata": {},
   "source": [
    "# Visualizations\n",
    "\n",
    "We have seen that DataFrames are a useful way of looking at data, and using the groupby function we can in some cases reduce a complicated dataframe down to a simpler one. However with large data sets we usually find that we need to use graphical representations of the data in order to understand the whole data set at once.\n",
    "\n",
    "Our goal this week is to explore some common tools for creating visualizations. We will not have time to go over everything, and in fact we hope to offer a STAT 202 - Data Visualization class that spends a whole semester on this topic. \n",
    "\n",
    "The first thing to understand is that our approach to visualizing *Numerical Data* is different from that for *Categorical Data*. Furthermore categorical data comes in two types *Ordered* and *Unordered*. Ordered categorical data are where the responses are not numbers, but there is an order to them:  For example the quality of the roof on a house might be classified as:  Excellent, Good, Fair, Poor, Awful. While these responses will be strings or objects in Python and Pandas; there is an order to them. Unordered categorical data is where the responses to a question do not have a natural order. For example the color of a house would be an unordered categorical data.\n",
    "\n",
    "In the interest of avoiding some complications from messy data, we will work this week using the data sets from our textbook: actors.csv, movies_by_year.csv, and top_movies.csv.\n",
    "\n",
    "## Numerical Data\n",
    "\n",
    "### Scatter Plots\n",
    "\n",
    "Let's start with the data set about actors:"
   ]
  },
  {
   "cell_type": "code",
   "execution_count": 3,
   "metadata": {},
   "outputs": [
    {
     "data": {
      "text/html": [
       "<div>\n",
       "<style scoped>\n",
       "    .dataframe tbody tr th:only-of-type {\n",
       "        vertical-align: middle;\n",
       "    }\n",
       "\n",
       "    .dataframe tbody tr th {\n",
       "        vertical-align: top;\n",
       "    }\n",
       "\n",
       "    .dataframe thead th {\n",
       "        text-align: right;\n",
       "    }\n",
       "</style>\n",
       "<table border=\"1\" class=\"dataframe\">\n",
       "  <thead>\n",
       "    <tr style=\"text-align: right;\">\n",
       "      <th></th>\n",
       "      <th>Actor</th>\n",
       "      <th>Total Gross</th>\n",
       "      <th>Number of Movies</th>\n",
       "      <th>Average per Movie</th>\n",
       "      <th>#1 Movie</th>\n",
       "      <th>Gross</th>\n",
       "    </tr>\n",
       "  </thead>\n",
       "  <tbody>\n",
       "    <tr>\n",
       "      <th>0</th>\n",
       "      <td>Harrison Ford</td>\n",
       "      <td>4871.7</td>\n",
       "      <td>41</td>\n",
       "      <td>118.8</td>\n",
       "      <td>Star Wars: The Force Awakens</td>\n",
       "      <td>936.7</td>\n",
       "    </tr>\n",
       "    <tr>\n",
       "      <th>1</th>\n",
       "      <td>Samuel L. Jackson</td>\n",
       "      <td>4772.8</td>\n",
       "      <td>69</td>\n",
       "      <td>69.2</td>\n",
       "      <td>The Avengers</td>\n",
       "      <td>623.4</td>\n",
       "    </tr>\n",
       "    <tr>\n",
       "      <th>2</th>\n",
       "      <td>Morgan Freeman</td>\n",
       "      <td>4468.3</td>\n",
       "      <td>61</td>\n",
       "      <td>73.3</td>\n",
       "      <td>The Dark Knight</td>\n",
       "      <td>534.9</td>\n",
       "    </tr>\n",
       "    <tr>\n",
       "      <th>3</th>\n",
       "      <td>Tom Hanks</td>\n",
       "      <td>4340.8</td>\n",
       "      <td>44</td>\n",
       "      <td>98.7</td>\n",
       "      <td>Toy Story 3</td>\n",
       "      <td>415.0</td>\n",
       "    </tr>\n",
       "    <tr>\n",
       "      <th>4</th>\n",
       "      <td>Robert Downey, Jr.</td>\n",
       "      <td>3947.3</td>\n",
       "      <td>53</td>\n",
       "      <td>74.5</td>\n",
       "      <td>The Avengers</td>\n",
       "      <td>623.4</td>\n",
       "    </tr>\n",
       "  </tbody>\n",
       "</table>\n",
       "</div>"
      ],
      "text/plain": [
       "                Actor  Total Gross  Number of Movies  Average per Movie  \\\n",
       "0       Harrison Ford       4871.7                41              118.8   \n",
       "1   Samuel L. Jackson       4772.8                69               69.2   \n",
       "2      Morgan Freeman       4468.3                61               73.3   \n",
       "3           Tom Hanks       4340.8                44               98.7   \n",
       "4  Robert Downey, Jr.       3947.3                53               74.5   \n",
       "\n",
       "                       #1 Movie  Gross  \n",
       "0  Star Wars: The Force Awakens  936.7  \n",
       "1                  The Avengers  623.4  \n",
       "2               The Dark Knight  534.9  \n",
       "3                   Toy Story 3  415.0  \n",
       "4                  The Avengers  623.4  "
      ]
     },
     "execution_count": 3,
     "metadata": {},
     "output_type": "execute_result"
    }
   ],
   "source": [
    "actors_url = 'https://drive.google.com/uc?export=download&id=1BkZuOs7u61DjhyaMn152ZbZUVhbInrwd'\n",
    "actors_data = pd.read_csv(actors_url)\n",
    "actors_data.head()"
   ]
  },
  {
   "cell_type": "code",
   "execution_count": 4,
   "metadata": {},
   "outputs": [
    {
     "data": {
      "text/plain": [
       "(50, 6)"
      ]
     },
     "execution_count": 4,
     "metadata": {},
     "output_type": "execute_result"
    }
   ],
   "source": [
    "# Check how big this dataset is\n",
    "\n",
    "actors_data.shape"
   ]
  },
  {
   "cell_type": "code",
   "execution_count": 5,
   "metadata": {},
   "outputs": [
    {
     "data": {
      "text/plain": [
       "Actor                 object\n",
       "Total Gross          float64\n",
       "Number of Movies       int64\n",
       "Average per Movie    float64\n",
       "#1 Movie              object\n",
       "Gross                float64\n",
       "dtype: object"
      ]
     },
     "execution_count": 5,
     "metadata": {},
     "output_type": "execute_result"
    }
   ],
   "source": [
    "# Check the dtypes and make sure they are what we expect\n",
    "\n",
    "actors_data.dtypes"
   ]
  },
  {
   "cell_type": "markdown",
   "metadata": {},
   "source": [
    "So the primary issue we have is that we can really only visualy handle two dimensional plots, which mostly means that for numerical data we can choose two of the variables and use them as the horizontal and vertical coordinates of a plot. We can (and sometimes will) try to use color, or shape/size to represent other variables at the same time.\n",
    "\n",
    "Seaborn has a convenient tool for trying to identify what numerical variables are interesting in a dataframe.\n",
    "\n",
    "(also before we go much futher, the [Seaborn help manual](https://seaborn.pydata.org/introduction.html) I particularly use the Gallery frequently).\n",
    "\n",
    "Also before we get started, this quote from the seaborn website is worth reading:  \n",
    "> There is no universally best way to visualize data. Different questions are best answered by different plots. Seaborn makes it easy to switch between different visual representations by using a consistent dataset-oriented API."
   ]
  },
  {
   "cell_type": "code",
   "execution_count": 9,
   "metadata": {},
   "outputs": [
    {
     "data": {
      "image/png": "[encoded data removed]",
      "text/plain": [
       "<Figure size 720x720 with 20 Axes>"
      ]
     },
     "metadata": {
      "needs_background": "light"
     },
     "output_type": "display_data"
    }
   ],
   "source": [
    "# Let's start with an overview of the numerical variables in the dataset\n",
    "\n",
    "sns.pairplot(data=actors_data );"
   ]
  },
  {
   "cell_type": "markdown",
   "metadata": {},
   "source": [
    "Pairplot gives us **scatter plots** for all of the pairs of numerical data in the DataFrame. What we are looking for depends on the questions we want to answer. What stands out to you?"
   ]
  },
  {
   "cell_type": "code",
   "execution_count": 12,
   "metadata": {},
   "outputs": [
    {
     "data": {
      "image/png": "[encoded data removed]",
      "text/plain": [
       "<Figure size 432x288 with 1 Axes>"
      ]
     },
     "metadata": {
      "needs_background": "light"
     },
     "output_type": "display_data"
    }
   ],
   "source": [
    "# Look at a single scatter plot\n",
    "\n",
    "sns.scatterplot(data=actors_data, x='Number of Movies', y='Average per Movie');"
   ]
  },
  {
   "cell_type": "markdown",
   "metadata": {},
   "source": [
    "Okay. So who is the actor off by themselves with very few movies, but a very high average gross of box office receipts (i.e. movies that sold a lot of tickets)?"
   ]
  },
  {
   "cell_type": "code",
   "execution_count": 14,
   "metadata": {},
   "outputs": [
    {
     "data": {
      "text/html": [
       "<div>\n",
       "<style scoped>\n",
       "    .dataframe tbody tr th:only-of-type {\n",
       "        vertical-align: middle;\n",
       "    }\n",
       "\n",
       "    .dataframe tbody tr th {\n",
       "        vertical-align: top;\n",
       "    }\n",
       "\n",
       "    .dataframe thead th {\n",
       "        text-align: right;\n",
       "    }\n",
       "</style>\n",
       "<table border=\"1\" class=\"dataframe\">\n",
       "  <thead>\n",
       "    <tr style=\"text-align: right;\">\n",
       "      <th></th>\n",
       "      <th>Actor</th>\n",
       "      <th>Total Gross</th>\n",
       "      <th>Number of Movies</th>\n",
       "      <th>Average per Movie</th>\n",
       "      <th>#1 Movie</th>\n",
       "      <th>Gross</th>\n",
       "    </tr>\n",
       "  </thead>\n",
       "  <tbody>\n",
       "    <tr>\n",
       "      <th>14</th>\n",
       "      <td>Anthony Daniels</td>\n",
       "      <td>3162.9</td>\n",
       "      <td>7</td>\n",
       "      <td>451.8</td>\n",
       "      <td>Star Wars: The Force Awakens</td>\n",
       "      <td>936.7</td>\n",
       "    </tr>\n",
       "  </tbody>\n",
       "</table>\n",
       "</div>"
      ],
      "text/plain": [
       "              Actor  Total Gross  Number of Movies  Average per Movie  \\\n",
       "14  Anthony Daniels       3162.9                 7              451.8   \n",
       "\n",
       "                        #1 Movie  Gross  \n",
       "14  Star Wars: The Force Awakens  936.7  "
      ]
     },
     "execution_count": 14,
     "metadata": {},
     "output_type": "execute_result"
    }
   ],
   "source": [
    "actors_data.loc[actors_data.loc[:, 'Number of Movies']<10]"
   ]
  },
  {
   "cell_type": "markdown",
   "metadata": {},
   "source": [
    "Who is Anthony Daniels?  Well it turns out he is someone whose only roles are in the Star Wars series, and he has been in nearly all of them*. (I actually want to say all of them, I think our dataset may be somewhat out of date).\n",
    "\n",
    "### Outliers\n",
    "\n",
    "So let's redo the plot but without this outlier. However first an interlude.\n",
    "\n",
    "We need to be very careful about dropping outliers from our dataset without thinking about what we are doing. For this dataset about actors, the consequences of removing an actor and drawing a mistaken conclusion are relatively low. However:  [Be careful removing outliers](https://fivethirtyeight.com/features/what-went-wrong-in-flint-water-crisis-michigan/)\n",
    "\n",
    "In 2014 the City of Flint, MI was conducting an EPA mandated periodic test of the water quality in the city. This involved testers collecting water samples from inside a random sample of houses. There were problems with the sampling methadology, the testers were not properly trained or supervised. Some of them did not run the faucet for the required time before collecting the samples, others collected the samples only from one faucet and not multiple faucets in the house.\n",
    "\n",
    "When the city analyzed the data, to their dismay they discovered that more than 10% of the samples collected had an actionable level of lead (more than 15 parts per billion). The data analysts looked at the results and realized that if they removed two of the outliers with very high lead readings, justifying it with their knowledge that testing procedures were possibly not followed leading to a highere reading, then the percentage of samples at the actionable level would be less than 10%.\n",
    "\n",
    "Why is 10% important to the city water company?  Well if more than 10% of the samples are above the actionable level, they are required by law to notify their customers that the city water may be contaminated with lead. At less than 10%of the samples being high, they did not need to notify anyone. \n",
    "\n",
    "**Three years later** a group of pediatricians in the city would come to the umistakable conclusion that the city water supply was contaiminated with lead. Lead poisoning is particularly insiduous because it causes damage to DNA that is then passed on to cause diseases in peoples offspring. \n",
    "\n",
    "We can remove outliers from datasets. However we need to do it with an awareness of (a) first and foremost what are the consequences if we make the wrong conclusion and (b) realizing that some problems will naturually have outliers and that they are true results not always evidence of errors in the samples. \n"
   ]
  },
  {
   "cell_type": "code",
   "execution_count": 16,
   "metadata": {},
   "outputs": [
    {
     "data": {
      "image/png": "[encoded data removed]",
      "text/plain": [
       "<Figure size 432x288 with 1 Axes>"
      ]
     },
     "metadata": {
      "needs_background": "light"
     },
     "output_type": "display_data"
    }
   ],
   "source": [
    "# Look at a single scatter plot\n",
    "\n",
    "sns.scatterplot(data=actors_data.drop(14), x='Number of Movies', y='Average per Movie');"
   ]
  },
  {
   "cell_type": "markdown",
   "metadata": {},
   "source": [
    "It appears there is a negative association between the number of movies an actor is in, and the average gross box office receipt for those movies. Why might this be? What else would you like to know?"
   ]
  },
  {
   "cell_type": "markdown",
   "metadata": {},
   "source": [
    "### Line Graphs\n",
    "\n",
    "Line graphs are commonly used for data that is *chronological* or *time series*. The classic example of time series data is studying how the price of a commodity or stock evolves over time. Consider this dataset of the price of regular gasoline and diesel in the US over time."
   ]
  },
  {
   "cell_type": "code",
   "execution_count": 18,
   "metadata": {},
   "outputs": [
    {
     "data": {
      "text/html": [
       "<div>\n",
       "<style scoped>\n",
       "    .dataframe tbody tr th:only-of-type {\n",
       "        vertical-align: middle;\n",
       "    }\n",
       "\n",
       "    .dataframe tbody tr th {\n",
       "        vertical-align: top;\n",
       "    }\n",
       "\n",
       "    .dataframe thead th {\n",
       "        text-align: right;\n",
       "    }\n",
       "</style>\n",
       "<table border=\"1\" class=\"dataframe\">\n",
       "  <thead>\n",
       "    <tr style=\"text-align: right;\">\n",
       "      <th></th>\n",
       "      <th>Week of</th>\n",
       "      <th>U.S. No 2 Diesel Retail Prices $/gal</th>\n",
       "      <th>U.S. Regular All Formulations Retail Gasoline Prices $/gal</th>\n",
       "    </tr>\n",
       "  </thead>\n",
       "  <tbody>\n",
       "    <tr>\n",
       "      <th>0</th>\n",
       "      <td>09/07/2020</td>\n",
       "      <td>2.435</td>\n",
       "      <td>2.211</td>\n",
       "    </tr>\n",
       "    <tr>\n",
       "      <th>1</th>\n",
       "      <td>08/31/2020</td>\n",
       "      <td>2.441</td>\n",
       "      <td>2.222</td>\n",
       "    </tr>\n",
       "    <tr>\n",
       "      <th>2</th>\n",
       "      <td>08/24/2020</td>\n",
       "      <td>2.426</td>\n",
       "      <td>2.182</td>\n",
       "    </tr>\n",
       "    <tr>\n",
       "      <th>3</th>\n",
       "      <td>08/17/2020</td>\n",
       "      <td>2.427</td>\n",
       "      <td>2.166</td>\n",
       "    </tr>\n",
       "    <tr>\n",
       "      <th>4</th>\n",
       "      <td>08/10/2020</td>\n",
       "      <td>2.428</td>\n",
       "      <td>2.166</td>\n",
       "    </tr>\n",
       "    <tr>\n",
       "      <th>...</th>\n",
       "      <td>...</td>\n",
       "      <td>...</td>\n",
       "      <td>...</td>\n",
       "    </tr>\n",
       "    <tr>\n",
       "      <th>1564</th>\n",
       "      <td>09/17/1990</td>\n",
       "      <td>NaN</td>\n",
       "      <td>1.266</td>\n",
       "    </tr>\n",
       "    <tr>\n",
       "      <th>1565</th>\n",
       "      <td>09/10/1990</td>\n",
       "      <td>NaN</td>\n",
       "      <td>1.252</td>\n",
       "    </tr>\n",
       "    <tr>\n",
       "      <th>1566</th>\n",
       "      <td>09/03/1990</td>\n",
       "      <td>NaN</td>\n",
       "      <td>1.242</td>\n",
       "    </tr>\n",
       "    <tr>\n",
       "      <th>1567</th>\n",
       "      <td>08/27/1990</td>\n",
       "      <td>NaN</td>\n",
       "      <td>1.245</td>\n",
       "    </tr>\n",
       "    <tr>\n",
       "      <th>1568</th>\n",
       "      <td>08/20/1990</td>\n",
       "      <td>NaN</td>\n",
       "      <td>1.191</td>\n",
       "    </tr>\n",
       "  </tbody>\n",
       "</table>\n",
       "<p>1569 rows × 3 columns</p>\n",
       "</div>"
      ],
      "text/plain": [
       "         Week of  U.S. No 2 Diesel Retail Prices $/gal  \\\n",
       "0     09/07/2020                                 2.435   \n",
       "1     08/31/2020                                 2.441   \n",
       "2     08/24/2020                                 2.426   \n",
       "3     08/17/2020                                 2.427   \n",
       "4     08/10/2020                                 2.428   \n",
       "...          ...                                   ...   \n",
       "1564  09/17/1990                                   NaN   \n",
       "1565  09/10/1990                                   NaN   \n",
       "1566  09/03/1990                                   NaN   \n",
       "1567  08/27/1990                                   NaN   \n",
       "1568  08/20/1990                                   NaN   \n",
       "\n",
       "      U.S. Regular All Formulations Retail Gasoline Prices $/gal  \n",
       "0                                                 2.211           \n",
       "1                                                 2.222           \n",
       "2                                                 2.182           \n",
       "3                                                 2.166           \n",
       "4                                                 2.166           \n",
       "...                                                 ...           \n",
       "1564                                              1.266           \n",
       "1565                                              1.252           \n",
       "1566                                              1.242           \n",
       "1567                                              1.245           \n",
       "1568                                              1.191           \n",
       "\n",
       "[1569 rows x 3 columns]"
      ]
     },
     "execution_count": 18,
     "metadata": {},
     "output_type": "execute_result"
    }
   ],
   "source": [
    "gas_url = 'https://drive.google.com/uc?export=download&id=17CZVxZb_UwxpoOcGADfkdNzdIe8p1ngF'\n",
    "gas_data = pd.read_csv(gas_url)\n",
    "gas_data"
   ]
  },
  {
   "cell_type": "code",
   "execution_count": 37,
   "metadata": {},
   "outputs": [
    {
     "data": {
      "text/plain": [
       "Week of                                                        object\n",
       "U.S. No 2 Diesel Retail Prices $/gal                          float64\n",
       "U.S. Regular All Formulations Retail Gasoline Prices $/gal    float64\n",
       "dtype: object"
      ]
     },
     "execution_count": 37,
     "metadata": {},
     "output_type": "execute_result"
    }
   ],
   "source": [
    "# Okay so small problem here. We have the dates but you might notice that they are not numerical\n",
    "\n",
    "gas_data.dtypes"
   ]
  },
  {
   "cell_type": "markdown",
   "metadata": {},
   "source": [
    "Python actually gives us some convenient tools for working with dates, and I'd like to use them here to show you how it sort of looks. \n",
    "\n",
    "First we are going to go through the 'Week of' columns and convert it to a Python date value. This is also going to be our first example of a Python function written by us."
   ]
  },
  {
   "cell_type": "code",
   "execution_count": 57,
   "metadata": {},
   "outputs": [],
   "source": [
    "from datetime import date\n",
    "\n",
    "\n",
    "# Define a function read_date that takes a string of the form 'mm/dd/yyyy' or 'm/d/yyyy' and converts it to a \n",
    "# date(yyyy, mm, dd) object.\n",
    "\n",
    "def read_date(str):\n",
    "    \n",
    "    month = int(str[:str.find('/')])   # Note you did exactly this construction on Friday\n",
    "    year = int(str[-4:])   # The year is always the last 4 digits\n",
    "    str2 = str[str.find('/')+1:]\n",
    "    day = int(str2[:str2.find('/')] ) # Finallly we get the day by peeling off the month and then looking for the next '/'\n",
    "    \n",
    "    # Note the advantage of doing it this way is we did not need to assume that month or day were two digits\n",
    "    # in the string. \n",
    "    \n",
    "    return date(year, month, day)\n",
    "\n",
    "    # Every Python function starts with a def function_name(arguments):\n",
    "    \n",
    "    # Has its commands one tab in from the def\n",
    "    \n",
    "    # Ends when it reaches a return and returns whatever object is put there."
   ]
  },
  {
   "cell_type": "code",
   "execution_count": 58,
   "metadata": {},
   "outputs": [
    {
     "data": {
      "text/plain": [
       "datetime.date(2020, 9, 14)"
      ]
     },
     "execution_count": 58,
     "metadata": {},
     "output_type": "execute_result"
    }
   ],
   "source": [
    "# Let's make sure it works:\n",
    "\n",
    "read_date('9/14/2020')"
   ]
  },
  {
   "cell_type": "code",
   "execution_count": 62,
   "metadata": {},
   "outputs": [],
   "source": [
    "gas_data.loc[:, 'Week of'] = [read_date(x) for x in gas_data.loc[:, 'Week of']]"
   ]
  },
  {
   "cell_type": "code",
   "execution_count": 63,
   "metadata": {},
   "outputs": [
    {
     "data": {
      "text/html": [
       "<div>\n",
       "<style scoped>\n",
       "    .dataframe tbody tr th:only-of-type {\n",
       "        vertical-align: middle;\n",
       "    }\n",
       "\n",
       "    .dataframe tbody tr th {\n",
       "        vertical-align: top;\n",
       "    }\n",
       "\n",
       "    .dataframe thead th {\n",
       "        text-align: right;\n",
       "    }\n",
       "</style>\n",
       "<table border=\"1\" class=\"dataframe\">\n",
       "  <thead>\n",
       "    <tr style=\"text-align: right;\">\n",
       "      <th></th>\n",
       "      <th>Week of</th>\n",
       "      <th>U.S. No 2 Diesel Retail Prices $/gal</th>\n",
       "      <th>U.S. Regular All Formulations Retail Gasoline Prices $/gal</th>\n",
       "    </tr>\n",
       "  </thead>\n",
       "  <tbody>\n",
       "    <tr>\n",
       "      <th>0</th>\n",
       "      <td>2020-09-07</td>\n",
       "      <td>2.435</td>\n",
       "      <td>2.211</td>\n",
       "    </tr>\n",
       "    <tr>\n",
       "      <th>1</th>\n",
       "      <td>2020-08-31</td>\n",
       "      <td>2.441</td>\n",
       "      <td>2.222</td>\n",
       "    </tr>\n",
       "    <tr>\n",
       "      <th>2</th>\n",
       "      <td>2020-08-24</td>\n",
       "      <td>2.426</td>\n",
       "      <td>2.182</td>\n",
       "    </tr>\n",
       "    <tr>\n",
       "      <th>3</th>\n",
       "      <td>2020-08-17</td>\n",
       "      <td>2.427</td>\n",
       "      <td>2.166</td>\n",
       "    </tr>\n",
       "    <tr>\n",
       "      <th>4</th>\n",
       "      <td>2020-08-10</td>\n",
       "      <td>2.428</td>\n",
       "      <td>2.166</td>\n",
       "    </tr>\n",
       "    <tr>\n",
       "      <th>...</th>\n",
       "      <td>...</td>\n",
       "      <td>...</td>\n",
       "      <td>...</td>\n",
       "    </tr>\n",
       "    <tr>\n",
       "      <th>1564</th>\n",
       "      <td>1990-09-17</td>\n",
       "      <td>NaN</td>\n",
       "      <td>1.266</td>\n",
       "    </tr>\n",
       "    <tr>\n",
       "      <th>1565</th>\n",
       "      <td>1990-09-10</td>\n",
       "      <td>NaN</td>\n",
       "      <td>1.252</td>\n",
       "    </tr>\n",
       "    <tr>\n",
       "      <th>1566</th>\n",
       "      <td>1990-09-03</td>\n",
       "      <td>NaN</td>\n",
       "      <td>1.242</td>\n",
       "    </tr>\n",
       "    <tr>\n",
       "      <th>1567</th>\n",
       "      <td>1990-08-27</td>\n",
       "      <td>NaN</td>\n",
       "      <td>1.245</td>\n",
       "    </tr>\n",
       "    <tr>\n",
       "      <th>1568</th>\n",
       "      <td>1990-08-20</td>\n",
       "      <td>NaN</td>\n",
       "      <td>1.191</td>\n",
       "    </tr>\n",
       "  </tbody>\n",
       "</table>\n",
       "<p>1569 rows × 3 columns</p>\n",
       "</div>"
      ],
      "text/plain": [
       "         Week of  U.S. No 2 Diesel Retail Prices $/gal  \\\n",
       "0     2020-09-07                                 2.435   \n",
       "1     2020-08-31                                 2.441   \n",
       "2     2020-08-24                                 2.426   \n",
       "3     2020-08-17                                 2.427   \n",
       "4     2020-08-10                                 2.428   \n",
       "...          ...                                   ...   \n",
       "1564  1990-09-17                                   NaN   \n",
       "1565  1990-09-10                                   NaN   \n",
       "1566  1990-09-03                                   NaN   \n",
       "1567  1990-08-27                                   NaN   \n",
       "1568  1990-08-20                                   NaN   \n",
       "\n",
       "      U.S. Regular All Formulations Retail Gasoline Prices $/gal  \n",
       "0                                                 2.211           \n",
       "1                                                 2.222           \n",
       "2                                                 2.182           \n",
       "3                                                 2.166           \n",
       "4                                                 2.166           \n",
       "...                                                 ...           \n",
       "1564                                              1.266           \n",
       "1565                                              1.252           \n",
       "1566                                              1.242           \n",
       "1567                                              1.245           \n",
       "1568                                              1.191           \n",
       "\n",
       "[1569 rows x 3 columns]"
      ]
     },
     "execution_count": 63,
     "metadata": {},
     "output_type": "execute_result"
    }
   ],
   "source": [
    "gas_data"
   ]
  },
  {
   "cell_type": "markdown",
   "metadata": {},
   "source": [
    "Once we have the date in this standard Python format, Seaborn knows how to handle it."
   ]
  },
  {
   "cell_type": "code",
   "execution_count": 77,
   "metadata": {},
   "outputs": [
    {
     "data": {
      "text/plain": [
       "<AxesSubplot:xlabel='Week of', ylabel='U.S. Regular All Formulations Retail Gasoline Prices $/gal'>"
      ]
     },
     "execution_count": 77,
     "metadata": {},
     "output_type": "execute_result"
    },
    {
     "data": {
      "image/png": "[encoded data removed]",
      "text/plain": [
       "<Figure size 432x288 with 1 Axes>"
      ]
     },
     "metadata": {
      "needs_background": "light"
     },
     "output_type": "display_data"
    }
   ],
   "source": [
    "sns.lineplot(x='Week of', y='U.S. Regular All Formulations Retail Gasoline Prices $/gal', data=gas_data)"
   ]
  },
  {
   "cell_type": "markdown",
   "metadata": {},
   "source": [
    "### Multiple Line Plots\n",
    "\n",
    "Suppose we want to plot both columns at once and use a color to identify them.\n",
    "\n",
    "What we need to do is create a new data frame with a column that is the date, a column that is the price, and a third column that specifies what type of fuel."
   ]
  },
  {
   "cell_type": "code",
   "execution_count": 101,
   "metadata": {},
   "outputs": [
    {
     "data": {
      "text/html": [
       "<div>\n",
       "<style scoped>\n",
       "    .dataframe tbody tr th:only-of-type {\n",
       "        vertical-align: middle;\n",
       "    }\n",
       "\n",
       "    .dataframe tbody tr th {\n",
       "        vertical-align: top;\n",
       "    }\n",
       "\n",
       "    .dataframe thead th {\n",
       "        text-align: right;\n",
       "    }\n",
       "</style>\n",
       "<table border=\"1\" class=\"dataframe\">\n",
       "  <thead>\n",
       "    <tr style=\"text-align: right;\">\n",
       "      <th></th>\n",
       "      <th>date</th>\n",
       "      <th>price</th>\n",
       "      <th>type</th>\n",
       "    </tr>\n",
       "  </thead>\n",
       "  <tbody>\n",
       "    <tr>\n",
       "      <th>0</th>\n",
       "      <td>2020-09-07</td>\n",
       "      <td>2.211</td>\n",
       "      <td>gasoline</td>\n",
       "    </tr>\n",
       "    <tr>\n",
       "      <th>1</th>\n",
       "      <td>2020-08-31</td>\n",
       "      <td>2.222</td>\n",
       "      <td>gasoline</td>\n",
       "    </tr>\n",
       "    <tr>\n",
       "      <th>2</th>\n",
       "      <td>2020-08-24</td>\n",
       "      <td>2.182</td>\n",
       "      <td>gasoline</td>\n",
       "    </tr>\n",
       "    <tr>\n",
       "      <th>3</th>\n",
       "      <td>2020-08-17</td>\n",
       "      <td>2.166</td>\n",
       "      <td>gasoline</td>\n",
       "    </tr>\n",
       "    <tr>\n",
       "      <th>4</th>\n",
       "      <td>2020-08-10</td>\n",
       "      <td>2.166</td>\n",
       "      <td>gasoline</td>\n",
       "    </tr>\n",
       "    <tr>\n",
       "      <th>...</th>\n",
       "      <td>...</td>\n",
       "      <td>...</td>\n",
       "      <td>...</td>\n",
       "    </tr>\n",
       "    <tr>\n",
       "      <th>1564</th>\n",
       "      <td>1990-09-17</td>\n",
       "      <td>1.266</td>\n",
       "      <td>gasoline</td>\n",
       "    </tr>\n",
       "    <tr>\n",
       "      <th>1565</th>\n",
       "      <td>1990-09-10</td>\n",
       "      <td>1.252</td>\n",
       "      <td>gasoline</td>\n",
       "    </tr>\n",
       "    <tr>\n",
       "      <th>1566</th>\n",
       "      <td>1990-09-03</td>\n",
       "      <td>1.242</td>\n",
       "      <td>gasoline</td>\n",
       "    </tr>\n",
       "    <tr>\n",
       "      <th>1567</th>\n",
       "      <td>1990-08-27</td>\n",
       "      <td>1.245</td>\n",
       "      <td>gasoline</td>\n",
       "    </tr>\n",
       "    <tr>\n",
       "      <th>1568</th>\n",
       "      <td>1990-08-20</td>\n",
       "      <td>1.191</td>\n",
       "      <td>gasoline</td>\n",
       "    </tr>\n",
       "  </tbody>\n",
       "</table>\n",
       "<p>1569 rows × 3 columns</p>\n",
       "</div>"
      ],
      "text/plain": [
       "            date  price      type\n",
       "0     2020-09-07  2.211  gasoline\n",
       "1     2020-08-31  2.222  gasoline\n",
       "2     2020-08-24  2.182  gasoline\n",
       "3     2020-08-17  2.166  gasoline\n",
       "4     2020-08-10  2.166  gasoline\n",
       "...          ...    ...       ...\n",
       "1564  1990-09-17  1.266  gasoline\n",
       "1565  1990-09-10  1.252  gasoline\n",
       "1566  1990-09-03  1.242  gasoline\n",
       "1567  1990-08-27  1.245  gasoline\n",
       "1568  1990-08-20  1.191  gasoline\n",
       "\n",
       "[1569 rows x 3 columns]"
      ]
     },
     "execution_count": 101,
     "metadata": {},
     "output_type": "execute_result"
    }
   ],
   "source": [
    "fuel_gas_data = pd.DataFrame([gas_data.iloc[:, 0], gas_data.iloc[:, 2]], index = ['date', 'price']).transpose()\n",
    "# Note the transpose. For some reason Pandas defaults to rows when doing this.\n",
    "\n",
    "fuel_gas_data.loc[:, 'type'] = 'gasoline'\n",
    "# Set the type to be 'gasoline'\n",
    "\n",
    "fuel_gas_data"
   ]
  },
  {
   "cell_type": "code",
   "execution_count": 116,
   "metadata": {},
   "outputs": [],
   "source": [
    "# Now do the same for diesel (column 1 rather than 2) note it is going to be important that we use the same\n",
    "# names for the columns in this DataFrame\n",
    "\n",
    "fuel_diesel_data = pd.DataFrame([gas_data.iloc[:, 0], gas_data.iloc[:, 1]], index = ['date', 'price']).transpose()\n",
    "\n",
    "fuel_diesel_data.loc[:, 'type'] = 'diesel'"
   ]
  },
  {
   "cell_type": "code",
   "execution_count": 107,
   "metadata": {},
   "outputs": [
    {
     "data": {
      "text/html": [
       "<div>\n",
       "<style scoped>\n",
       "    .dataframe tbody tr th:only-of-type {\n",
       "        vertical-align: middle;\n",
       "    }\n",
       "\n",
       "    .dataframe tbody tr th {\n",
       "        vertical-align: top;\n",
       "    }\n",
       "\n",
       "    .dataframe thead th {\n",
       "        text-align: right;\n",
       "    }\n",
       "</style>\n",
       "<table border=\"1\" class=\"dataframe\">\n",
       "  <thead>\n",
       "    <tr style=\"text-align: right;\">\n",
       "      <th></th>\n",
       "      <th>date</th>\n",
       "      <th>price</th>\n",
       "      <th>type</th>\n",
       "    </tr>\n",
       "  </thead>\n",
       "  <tbody>\n",
       "    <tr>\n",
       "      <th>0</th>\n",
       "      <td>2020-09-07</td>\n",
       "      <td>2.211</td>\n",
       "      <td>gasoline</td>\n",
       "    </tr>\n",
       "    <tr>\n",
       "      <th>1</th>\n",
       "      <td>2020-08-31</td>\n",
       "      <td>2.222</td>\n",
       "      <td>gasoline</td>\n",
       "    </tr>\n",
       "    <tr>\n",
       "      <th>2</th>\n",
       "      <td>2020-08-24</td>\n",
       "      <td>2.182</td>\n",
       "      <td>gasoline</td>\n",
       "    </tr>\n",
       "    <tr>\n",
       "      <th>3</th>\n",
       "      <td>2020-08-17</td>\n",
       "      <td>2.166</td>\n",
       "      <td>gasoline</td>\n",
       "    </tr>\n",
       "    <tr>\n",
       "      <th>4</th>\n",
       "      <td>2020-08-10</td>\n",
       "      <td>2.166</td>\n",
       "      <td>gasoline</td>\n",
       "    </tr>\n",
       "    <tr>\n",
       "      <th>...</th>\n",
       "      <td>...</td>\n",
       "      <td>...</td>\n",
       "      <td>...</td>\n",
       "    </tr>\n",
       "    <tr>\n",
       "      <th>1564</th>\n",
       "      <td>1990-09-17</td>\n",
       "      <td>NaN</td>\n",
       "      <td>diesel</td>\n",
       "    </tr>\n",
       "    <tr>\n",
       "      <th>1565</th>\n",
       "      <td>1990-09-10</td>\n",
       "      <td>NaN</td>\n",
       "      <td>diesel</td>\n",
       "    </tr>\n",
       "    <tr>\n",
       "      <th>1566</th>\n",
       "      <td>1990-09-03</td>\n",
       "      <td>NaN</td>\n",
       "      <td>diesel</td>\n",
       "    </tr>\n",
       "    <tr>\n",
       "      <th>1567</th>\n",
       "      <td>1990-08-27</td>\n",
       "      <td>NaN</td>\n",
       "      <td>diesel</td>\n",
       "    </tr>\n",
       "    <tr>\n",
       "      <th>1568</th>\n",
       "      <td>1990-08-20</td>\n",
       "      <td>NaN</td>\n",
       "      <td>diesel</td>\n",
       "    </tr>\n",
       "  </tbody>\n",
       "</table>\n",
       "<p>3138 rows × 3 columns</p>\n",
       "</div>"
      ],
      "text/plain": [
       "            date  price      type\n",
       "0     2020-09-07  2.211  gasoline\n",
       "1     2020-08-31  2.222  gasoline\n",
       "2     2020-08-24  2.182  gasoline\n",
       "3     2020-08-17  2.166  gasoline\n",
       "4     2020-08-10  2.166  gasoline\n",
       "...          ...    ...       ...\n",
       "1564  1990-09-17    NaN    diesel\n",
       "1565  1990-09-10    NaN    diesel\n",
       "1566  1990-09-03    NaN    diesel\n",
       "1567  1990-08-27    NaN    diesel\n",
       "1568  1990-08-20    NaN    diesel\n",
       "\n",
       "[3138 rows x 3 columns]"
      ]
     },
     "execution_count": 107,
     "metadata": {},
     "output_type": "execute_result"
    }
   ],
   "source": [
    "# Now combine the two dataframes into one with pandas.concat\n",
    "\n",
    "fuel_data = pd.concat([fuel_gas_data, fuel_diesel_data], axis = 0)\n",
    "\n",
    "# The dtype of 'price' needs to be reset (more or less the problem is the .transpose() I had to use above. \n",
    "# Python casts the dtype by column not by row).\n",
    "\n",
    "fuel_data.loc[:, 'price'] = fuel_data.loc[:, 'price'].astype('float64')\n",
    "\n",
    "\n",
    "fuel_data"
   ]
  },
  {
   "cell_type": "code",
   "execution_count": 112,
   "metadata": {},
   "outputs": [
    {
     "data": {
      "text/plain": [
       "<AxesSubplot:xlabel='date', ylabel='price'>"
      ]
     },
     "execution_count": 112,
     "metadata": {},
     "output_type": "execute_result"
    },
    {
     "data": {
      "image/png": "[encoded data removed]",
      "text/plain": [
       "<Figure size 864x576 with 1 Axes>"
      ]
     },
     "metadata": {
      "needs_background": "light"
     },
     "output_type": "display_data"
    }
   ],
   "source": [
    "# Now send it to seaborn lineplot again, but now with a hue\n",
    "\n",
    "plt.figure(figsize = (12, 8))\n",
    "sns.lineplot(x='date', y='price', hue='type', data=fuel_data)"
   ]
  },
  {
   "cell_type": "markdown",
   "metadata": {},
   "source": [
    "That's really neat. \n",
    "\n",
    "What if we just want the plot since January, 2016?  What could we do?"
   ]
  },
  {
   "cell_type": "code",
   "execution_count": null,
   "metadata": {},
   "outputs": [],
   "source": []
  },
  {
   "cell_type": "markdown",
   "metadata": {},
   "source": [
    "So one of the punchlines here is that you need the x, y, hue, and shape variables to all be single columns from your dataframe. But you need to be ready to manipulate your initial dataframe into one that is set up to produce the graph you have in mind."
   ]
  },
  {
   "cell_type": "code",
   "execution_count": null,
   "metadata": {},
   "outputs": [],
   "source": []
  }
 ],
 "metadata": {
  "kernelspec": {
   "display_name": "Python 3",
   "language": "python",
   "name": "python3"
  },
  "language_info": {
   "codemirror_mode": {
    "name": "ipython",
    "version": 3
   },
   "file_extension": ".py",
   "mimetype": "text/x-python",
   "name": "python",
   "nbconvert_exporter": "python",
   "pygments_lexer": "ipython3",
   "version": "3.7.4"
  }
 },
 "nbformat": 4,
 "nbformat_minor": 4
}
