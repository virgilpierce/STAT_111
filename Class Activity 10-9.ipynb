{
 "cells": [
  {
   "cell_type": "code",
   "execution_count": 1,
   "metadata": {},
   "outputs": [],
   "source": [
    "import pandas as pd\n",
    "import seaborn as sns\n",
    "import numpy as np\n",
    "import matplotlib.pyplot as plt\n",
    "import random"
   ]
  },
  {
   "cell_type": "markdown",
   "metadata": {},
   "source": [
    "# Penguins Dataset\n",
    "\n",
    "Part of our discussion has been sampling with or without replacement. We use random.sample(list, k=n) for sampling from a population without replacement, and random.choices(list, k=n) for sampling from a population with replacement. The general guidelines:\n",
    "\n",
    "- we can use sampling with replacement if the sample size is small compared to the size of the population. \n",
    "- Sampling without replacement is more appropriate if the sample size is large compared to the population (the question we should ask is whether the sample selction could change the distribution.\n",
    "- Sampling with replacement is also called for if the category of interest in the population is small compared to the population size.\n",
    "\n",
    "## Bootstrapping\n",
    "\n",
    "Today's example is another case where samping with replacement is called for. In many cases the data we have does not represent the whole population but is itself a sample from the population. Consider the examples we have seen so far for resampling:\n",
    "\n",
    "- Baseball Players:  Our dataset was all of the players in one season.\n",
    "- Presidential Pardons:  Our dataset was all of the recent pardon petitions.\n",
    "- PPP Data: Our dataset was all of the large PPP loans (well except for the ones with no state listed or no jobs reported as saved)\n",
    "- Airline Flights:  Our dataset was all of the flights in one year.\n",
    "- Class Performance:  Our data (not really a dataset) was the grade distributions from multiple years worth of students in MATH 120.\n",
    "\n",
    "Compare these with the penguin data:  We have a dataset of measurments taken from selected penguins from three islands in Antarctica.  Clearly our dataset is not the population of all penguins but just a sample from it. \n",
    "\n",
    "- Problems with the original sampling methadology that built the dataset.\n",
    "- The number of times we run the experiment.\n",
    "- Irreducible errors in the data.\n",
    "\n",
    "What we would like to try and understand is what is the potential variablity in the mean when the data we have is just a sample of the population."
   ]
  },
  {
   "cell_type": "code",
   "execution_count": 2,
   "metadata": {},
   "outputs": [
    {
     "data": {
      "text/html": [
       "<div>\n",
       "<style scoped>\n",
       "    .dataframe tbody tr th:only-of-type {\n",
       "        vertical-align: middle;\n",
       "    }\n",
       "\n",
       "    .dataframe tbody tr th {\n",
       "        vertical-align: top;\n",
       "    }\n",
       "\n",
       "    .dataframe thead th {\n",
       "        text-align: right;\n",
       "    }\n",
       "</style>\n",
       "<table border=\"1\" class=\"dataframe\">\n",
       "  <thead>\n",
       "    <tr style=\"text-align: right;\">\n",
       "      <th></th>\n",
       "      <th>species</th>\n",
       "      <th>island</th>\n",
       "      <th>bill_length_mm</th>\n",
       "      <th>bill_depth_mm</th>\n",
       "      <th>flipper_length_mm</th>\n",
       "      <th>body_mass_g</th>\n",
       "      <th>sex</th>\n",
       "      <th>year</th>\n",
       "    </tr>\n",
       "  </thead>\n",
       "  <tbody>\n",
       "    <tr>\n",
       "      <th>0</th>\n",
       "      <td>Adelie</td>\n",
       "      <td>Torgersen</td>\n",
       "      <td>39.1</td>\n",
       "      <td>18.7</td>\n",
       "      <td>181.0</td>\n",
       "      <td>3750.0</td>\n",
       "      <td>male</td>\n",
       "      <td>2007</td>\n",
       "    </tr>\n",
       "    <tr>\n",
       "      <th>1</th>\n",
       "      <td>Adelie</td>\n",
       "      <td>Torgersen</td>\n",
       "      <td>39.5</td>\n",
       "      <td>17.4</td>\n",
       "      <td>186.0</td>\n",
       "      <td>3800.0</td>\n",
       "      <td>female</td>\n",
       "      <td>2007</td>\n",
       "    </tr>\n",
       "    <tr>\n",
       "      <th>2</th>\n",
       "      <td>Adelie</td>\n",
       "      <td>Torgersen</td>\n",
       "      <td>40.3</td>\n",
       "      <td>18.0</td>\n",
       "      <td>195.0</td>\n",
       "      <td>3250.0</td>\n",
       "      <td>female</td>\n",
       "      <td>2007</td>\n",
       "    </tr>\n",
       "    <tr>\n",
       "      <th>3</th>\n",
       "      <td>Adelie</td>\n",
       "      <td>Torgersen</td>\n",
       "      <td>NaN</td>\n",
       "      <td>NaN</td>\n",
       "      <td>NaN</td>\n",
       "      <td>NaN</td>\n",
       "      <td>NaN</td>\n",
       "      <td>2007</td>\n",
       "    </tr>\n",
       "    <tr>\n",
       "      <th>4</th>\n",
       "      <td>Adelie</td>\n",
       "      <td>Torgersen</td>\n",
       "      <td>36.7</td>\n",
       "      <td>19.3</td>\n",
       "      <td>193.0</td>\n",
       "      <td>3450.0</td>\n",
       "      <td>female</td>\n",
       "      <td>2007</td>\n",
       "    </tr>\n",
       "    <tr>\n",
       "      <th>...</th>\n",
       "      <td>...</td>\n",
       "      <td>...</td>\n",
       "      <td>...</td>\n",
       "      <td>...</td>\n",
       "      <td>...</td>\n",
       "      <td>...</td>\n",
       "      <td>...</td>\n",
       "      <td>...</td>\n",
       "    </tr>\n",
       "    <tr>\n",
       "      <th>339</th>\n",
       "      <td>Chinstrap</td>\n",
       "      <td>Dream</td>\n",
       "      <td>55.8</td>\n",
       "      <td>19.8</td>\n",
       "      <td>207.0</td>\n",
       "      <td>4000.0</td>\n",
       "      <td>male</td>\n",
       "      <td>2009</td>\n",
       "    </tr>\n",
       "    <tr>\n",
       "      <th>340</th>\n",
       "      <td>Chinstrap</td>\n",
       "      <td>Dream</td>\n",
       "      <td>43.5</td>\n",
       "      <td>18.1</td>\n",
       "      <td>202.0</td>\n",
       "      <td>3400.0</td>\n",
       "      <td>female</td>\n",
       "      <td>2009</td>\n",
       "    </tr>\n",
       "    <tr>\n",
       "      <th>341</th>\n",
       "      <td>Chinstrap</td>\n",
       "      <td>Dream</td>\n",
       "      <td>49.6</td>\n",
       "      <td>18.2</td>\n",
       "      <td>193.0</td>\n",
       "      <td>3775.0</td>\n",
       "      <td>male</td>\n",
       "      <td>2009</td>\n",
       "    </tr>\n",
       "    <tr>\n",
       "      <th>342</th>\n",
       "      <td>Chinstrap</td>\n",
       "      <td>Dream</td>\n",
       "      <td>50.8</td>\n",
       "      <td>19.0</td>\n",
       "      <td>210.0</td>\n",
       "      <td>4100.0</td>\n",
       "      <td>male</td>\n",
       "      <td>2009</td>\n",
       "    </tr>\n",
       "    <tr>\n",
       "      <th>343</th>\n",
       "      <td>Chinstrap</td>\n",
       "      <td>Dream</td>\n",
       "      <td>50.2</td>\n",
       "      <td>18.7</td>\n",
       "      <td>198.0</td>\n",
       "      <td>3775.0</td>\n",
       "      <td>female</td>\n",
       "      <td>2009</td>\n",
       "    </tr>\n",
       "  </tbody>\n",
       "</table>\n",
       "<p>344 rows × 8 columns</p>\n",
       "</div>"
      ],
      "text/plain": [
       "       species     island  bill_length_mm  bill_depth_mm  flipper_length_mm  \\\n",
       "0       Adelie  Torgersen            39.1           18.7              181.0   \n",
       "1       Adelie  Torgersen            39.5           17.4              186.0   \n",
       "2       Adelie  Torgersen            40.3           18.0              195.0   \n",
       "3       Adelie  Torgersen             NaN            NaN                NaN   \n",
       "4       Adelie  Torgersen            36.7           19.3              193.0   \n",
       "..         ...        ...             ...            ...                ...   \n",
       "339  Chinstrap      Dream            55.8           19.8              207.0   \n",
       "340  Chinstrap      Dream            43.5           18.1              202.0   \n",
       "341  Chinstrap      Dream            49.6           18.2              193.0   \n",
       "342  Chinstrap      Dream            50.8           19.0              210.0   \n",
       "343  Chinstrap      Dream            50.2           18.7              198.0   \n",
       "\n",
       "     body_mass_g     sex  year  \n",
       "0         3750.0    male  2007  \n",
       "1         3800.0  female  2007  \n",
       "2         3250.0  female  2007  \n",
       "3            NaN     NaN  2007  \n",
       "4         3450.0  female  2007  \n",
       "..           ...     ...   ...  \n",
       "339       4000.0    male  2009  \n",
       "340       3400.0  female  2009  \n",
       "341       3775.0    male  2009  \n",
       "342       4100.0    male  2009  \n",
       "343       3775.0  female  2009  \n",
       "\n",
       "[344 rows x 8 columns]"
      ]
     },
     "execution_count": 2,
     "metadata": {},
     "output_type": "execute_result"
    }
   ],
   "source": [
    "# Let's continue exploring the penguins data set (our first Case Study that we will work on together)\n",
    "\n",
    "penguins_url = 'https://drive.google.com/uc?export=download&id=1-SiGKvihMs9sP2I2FZd-sVRm-VnZFihi'\n",
    "penguins_data = pd.read_csv(penguins_url)\n",
    "penguins_data"
   ]
  },
  {
   "cell_type": "markdown",
   "metadata": {},
   "source": [
    "Consider just the set of bill lengths of the Adelie penguins. Make a DataFrame, Series, or list of those numbers."
   ]
  },
  {
   "cell_type": "code",
   "execution_count": 4,
   "metadata": {},
   "outputs": [
    {
     "data": {
      "text/plain": [
       "0      39.1\n",
       "1      39.5\n",
       "2      40.3\n",
       "4      36.7\n",
       "5      39.3\n",
       "       ... \n",
       "147    36.6\n",
       "148    36.0\n",
       "149    37.8\n",
       "150    36.0\n",
       "151    41.5\n",
       "Name: bill_length_mm, Length: 151, dtype: float64"
      ]
     },
     "execution_count": 4,
     "metadata": {},
     "output_type": "execute_result"
    }
   ],
   "source": [
    "pop_sample = penguins_data.loc[penguins_data.loc[:, 'species']=='Adelie', 'bill_length_mm'].dropna()\n",
    "pop_sample"
   ]
  },
  {
   "cell_type": "markdown",
   "metadata": {},
   "source": [
    "### Q1:  Make a plot of the distribution of the bill_lengths of the penguins."
   ]
  },
  {
   "cell_type": "code",
   "execution_count": 5,
   "metadata": {},
   "outputs": [
    {
     "data": {
      "image/png": "[encoded data removed]",
      "text/plain": [
       "<Figure size 360x360 with 1 Axes>"
      ]
     },
     "metadata": {
      "needs_background": "light"
     },
     "output_type": "display_data"
    }
   ],
   "source": [
    "sns.displot(data=pop_sample);"
   ]
  },
  {
   "cell_type": "markdown",
   "metadata": {},
   "source": [
    "### Q2: Find the mean bill length for the Adelie penguins."
   ]
  },
  {
   "cell_type": "code",
   "execution_count": 6,
   "metadata": {},
   "outputs": [
    {
     "data": {
      "text/plain": [
       "38.79139072847682"
      ]
     },
     "execution_count": 6,
     "metadata": {},
     "output_type": "execute_result"
    }
   ],
   "source": [
    "pop_sample.mean()"
   ]
  },
  {
   "cell_type": "markdown",
   "metadata": {},
   "source": [
    "### Q3:  How many Adelie penguins do we have in our population sample? "
   ]
  },
  {
   "cell_type": "code",
   "execution_count": 7,
   "metadata": {},
   "outputs": [
    {
     "data": {
      "text/plain": [
       "151"
      ]
     },
     "execution_count": 7,
     "metadata": {},
     "output_type": "execute_result"
    }
   ],
   "source": [
    "size = len(pop_sample)\n",
    "size"
   ]
  },
  {
   "cell_type": "markdown",
   "metadata": {},
   "source": [
    "## Variability\n",
    "\n",
    "### Standard Deviation\n",
    "\n",
    "There are two types of measures of variability we us. One is the **Standard Deviation** and the related **Variance**.\n",
    "\n",
    "The *Variance* of a number is average of the squares of the values differences from the mean:\n",
    "\n",
    "$$ \\mbox{Variance} = \\frac{1}{N-1} \\sum_{n=1}^N \\left( x_i - \\bar{x} \\right)^2 $$\n",
    "\n",
    "Note that it is not *exactly* the average, we divide by N-1. This because the mean $$\\bar{x}$$ is included and that is reducing the degrees of freedom by 1, hence $$N -1$$ is what we divide by.\n",
    "\n",
    "The problem with Variance is that the units it has are the square of the units of our variable. This is not great for actually comparing the spread of our data with the data itself, and so we take the square root of the variance to give the standard deviation:\n",
    "\n",
    "$$ \\mbox{Standard Deviation} = \\sqrt{ \\mbox{Variance} } $$\n",
    "\n",
    "The larger the *Standard Deviation* the more our data is spread away from the mean. In the case of the Guassian distribution *Standard Deviation* has a precise meaning and interpretation, but for our purposes it is more useful to just treat it as the appropriate measure of spread if we are working with the mean.\n",
    "\n",
    "Python can compute it.\n"
   ]
  },
  {
   "cell_type": "code",
   "execution_count": 8,
   "metadata": {},
   "outputs": [
    {
     "data": {
      "text/plain": [
       "2.663404848368619"
      ]
     },
     "execution_count": 8,
     "metadata": {},
     "output_type": "execute_result"
    }
   ],
   "source": [
    "pop_sample.std()"
   ]
  },
  {
   "cell_type": "markdown",
   "metadata": {},
   "source": [
    "Larger standard deviations indicate more spread.\n",
    "\n",
    "### Percentiles and Quartiles\n",
    "\n",
    "The other notion of spread, related to the *median* is the locations of quartiles and percentiles for the data. The advantage of this measurment over Standard Deviation is it neglects the distance of the data points from each other and in particular is less influenced by outliers and very large values (like for the median).  The pth percentile is the value where p percent of the data is at that value or less."
   ]
  },
  {
   "cell_type": "code",
   "execution_count": 9,
   "metadata": {},
   "outputs": [
    {
     "data": {
      "text/plain": [
       "(36.75, 38.8, 40.75)"
      ]
     },
     "execution_count": 9,
     "metadata": {},
     "output_type": "execute_result"
    }
   ],
   "source": [
    "pop_sample.quantile(q=0.25), pop_sample.median(), pop_sample.quantile(q=0.75)"
   ]
  },
  {
   "cell_type": "markdown",
   "metadata": {},
   "source": [
    "Note for this problem the quartiles and standard deviation are relatively close in their notion of spread. This indicates the data does not have values that are significantly different from the rest of the values."
   ]
  },
  {
   "cell_type": "markdown",
   "metadata": {},
   "source": [
    "## How much does the mean vary?\n",
    "\n",
    "Our question though is not really how much variablity there is in individual Adelie penguins, but how much the mean of the population sample we have taken should be expected to vary.\n",
    "\n",
    "What we have is a sample of the population and so the best we can do is use that. What we will do is choose sets of bill lenghts from the Adelie lengths with replacement that are the same size as the original population sample. \n",
    "\n",
    "Let me pause and point out that this means, because the sample size is large we are likely to repeat a penguin in our sample, because we are likely to repeat one, that also means we are likely to skip others. This is actually a feature, we are going to learn how important the presence of small changes like that are to our conclusions."
   ]
  },
  {
   "cell_type": "markdown",
   "metadata": {},
   "source": [
    "The following function is going to run our **bootstrap** of the data. In this case the size of the sample we draw for the experiment will match the size of the population sample we have.\n",
    "\n",
    "I'm writing the function so it returns the means. You will need to modify it to return the medians."
   ]
  },
  {
   "cell_type": "code",
   "execution_count": 22,
   "metadata": {},
   "outputs": [],
   "source": [
    "def experiment(N, s=size, pop = list(pop_sample)):\n",
    "    \n",
    "    # The random functions are a little touchy. They work best when we pass them a list. When I pass them pop_sample\n",
    "    # the pandas series, sometimes it works fine and sometimes it does not.\n",
    "    \n",
    "    result = pd.DataFrame([], columns=['Sample Mean'])\n",
    "    \n",
    "    for k in range(N):\n",
    "        sample = random.choices(pop, k=s)  # We have to use replacement here because the set we are building\n",
    "                                           # is the same size as the population sample.\n",
    "        \n",
    "        result.loc[k, 'Sample Mean'] = np.mean(sample)  # Note I have to use the Numpy Mean because we are acting on list\n",
    "        if pd.isna(result.loc[k, 'Sample Mean']):\n",
    "            print(sample)\n",
    "        \n",
    "        \n",
    "    return result"
   ]
  },
  {
   "cell_type": "code",
   "execution_count": 26,
   "metadata": {},
   "outputs": [
    {
     "data": {
      "text/html": [
       "<div>\n",
       "<style scoped>\n",
       "    .dataframe tbody tr th:only-of-type {\n",
       "        vertical-align: middle;\n",
       "    }\n",
       "\n",
       "    .dataframe tbody tr th {\n",
       "        vertical-align: top;\n",
       "    }\n",
       "\n",
       "    .dataframe thead th {\n",
       "        text-align: right;\n",
       "    }\n",
       "</style>\n",
       "<table border=\"1\" class=\"dataframe\">\n",
       "  <thead>\n",
       "    <tr style=\"text-align: right;\">\n",
       "      <th></th>\n",
       "      <th>Sample Mean</th>\n",
       "    </tr>\n",
       "  </thead>\n",
       "  <tbody>\n",
       "    <tr>\n",
       "      <th>0</th>\n",
       "      <td>38.9636</td>\n",
       "    </tr>\n",
       "    <tr>\n",
       "      <th>1</th>\n",
       "      <td>38.9781</td>\n",
       "    </tr>\n",
       "    <tr>\n",
       "      <th>2</th>\n",
       "      <td>38.955</td>\n",
       "    </tr>\n",
       "    <tr>\n",
       "      <th>3</th>\n",
       "      <td>39.2629</td>\n",
       "    </tr>\n",
       "    <tr>\n",
       "      <th>4</th>\n",
       "      <td>38.445</td>\n",
       "    </tr>\n",
       "    <tr>\n",
       "      <th>...</th>\n",
       "      <td>...</td>\n",
       "    </tr>\n",
       "    <tr>\n",
       "      <th>195</th>\n",
       "      <td>38.7702</td>\n",
       "    </tr>\n",
       "    <tr>\n",
       "      <th>196</th>\n",
       "      <td>39.247</td>\n",
       "    </tr>\n",
       "    <tr>\n",
       "      <th>197</th>\n",
       "      <td>38.7755</td>\n",
       "    </tr>\n",
       "    <tr>\n",
       "      <th>198</th>\n",
       "      <td>38.649</td>\n",
       "    </tr>\n",
       "    <tr>\n",
       "      <th>199</th>\n",
       "      <td>38.843</td>\n",
       "    </tr>\n",
       "  </tbody>\n",
       "</table>\n",
       "<p>200 rows × 1 columns</p>\n",
       "</div>"
      ],
      "text/plain": [
       "    Sample Mean\n",
       "0       38.9636\n",
       "1       38.9781\n",
       "2        38.955\n",
       "3       39.2629\n",
       "4        38.445\n",
       "..          ...\n",
       "195     38.7702\n",
       "196      39.247\n",
       "197     38.7755\n",
       "198      38.649\n",
       "199      38.843\n",
       "\n",
       "[200 rows x 1 columns]"
      ]
     },
     "execution_count": 26,
     "metadata": {},
     "output_type": "execute_result"
    }
   ],
   "source": [
    "result = experiment(200)\n",
    "result"
   ]
  },
  {
   "cell_type": "code",
   "execution_count": 33,
   "metadata": {},
   "outputs": [
    {
     "data": {
      "text/plain": [
       "0.2382874374524277"
      ]
     },
     "execution_count": 33,
     "metadata": {},
     "output_type": "execute_result"
    }
   ],
   "source": [
    "result.iloc[:, 0].std()"
   ]
  },
  {
   "cell_type": "code",
   "execution_count": 32,
   "metadata": {},
   "outputs": [
    {
     "data": {
      "text/plain": [
       "(38.65596026490066, 38.8069536423841, 38.97831125827815)"
      ]
     },
     "execution_count": 32,
     "metadata": {},
     "output_type": "execute_result"
    }
   ],
   "source": [
    "result.iloc[:, 0].quantile(q=0.25), result.iloc[:, 0].median(), result.iloc[:, 0].quantile(q=0.75)"
   ]
  },
  {
   "cell_type": "code",
   "execution_count": null,
   "metadata": {},
   "outputs": [],
   "source": []
  }
 ],
 "metadata": {
  "kernelspec": {
   "display_name": "Python 3",
   "language": "python",
   "name": "python3"
  },
  "language_info": {
   "codemirror_mode": {
    "name": "ipython",
    "version": 3
   },
   "file_extension": ".py",
   "mimetype": "text/x-python",
   "name": "python",
   "nbconvert_exporter": "python",
   "pygments_lexer": "ipython3",
   "version": "3.7.4"
  }
 },
 "nbformat": 4,
 "nbformat_minor": 4
}
