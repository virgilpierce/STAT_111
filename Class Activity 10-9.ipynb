{
 "cells": [
  {
   "cell_type": "code",
   "execution_count": null,
   "metadata": {},
   "outputs": [],
   "source": [
    "import pandas as pd\n",
    "import seaborn as sns\n",
    "import numpy as np\n",
    "import matplotlib.pyplot as plt\n",
    "import random"
   ]
  },
  {
   "cell_type": "markdown",
   "metadata": {},
   "source": [
    "# Penguins Dataset\n",
    "\n",
    "Part of our discussion has been sampling with or without replacement. We use random.sample(list, k=n) for sampling from a population without replacement, and random.choices(list, k=n) for sampling from a population with replacement. The general guidelines:\n",
    "\n",
    "- we can use sampling with replacement if the sample size is small compared to the size of the population. \n",
    "- Sampling without replacement is more appropriate if the sample size is large compared to the population (the question we should ask is whether the sample selction could change the distribution.\n",
    "- Sampling with replacement is also called for if the category of interest in the population is small compared to the population size.\n",
    "\n",
    "## Bootstrapping\n",
    "\n",
    "Today's example is another case where samping with replacement is called for. In many cases the data we have does not represent the whole population but is itself a sample from the population. Consider the examples we have seen so far for resampling:\n",
    "\n",
    "- Baseball Players:  Our dataset was all of the players in one season.\n",
    "- Presidential Pardons:  Our dataset was all of the recent pardon petitions.\n",
    "- PPP Data: Our dataset was all of the large PPP loans (well except for the ones with no state listed or no jobs reported as saved)\n",
    "- Airline Flights:  Our dataset was all of the flights in one year.\n",
    "- Class Performance:  Our data (not really a dataset) was the grade distributions from multiple years worth of students in MATH 120.\n",
    "\n",
    "Compare these with the penguin data:  We have a dataset of measurments taken from selected penguins from three islands in Antarctica.  Clearly our dataset is not the population of all penguins but just a sample from it. \n",
    "\n",
    "- Problems with the original sampling methadology that built the dataset.\n",
    "- The number of times we run the experiment.\n",
    "- Irreducible errors in the data.\n",
    "\n",
    "What we would like to try and understand is what is the potential variablity in the mean when the data we have is just a sample of the population."
   ]
  },
  {
   "cell_type": "code",
   "execution_count": null,
   "metadata": {},
   "outputs": [],
   "source": [
    "# Let's continue exploring the penguins data set (our first Case Study that we will work on together)\n",
    "\n",
    "penguins_url = 'https://drive.google.com/uc?export=download&id=1-SiGKvihMs9sP2I2FZd-sVRm-VnZFihi'\n",
    "penguins_data = pd.read_csv(penguins_url)\n",
    "penguins_data"
   ]
  },
  {
   "cell_type": "markdown",
   "metadata": {},
   "source": [
    "Consider just the set of bill lengths of the Adelie penguins. Make a DataFrame, Series, or list of those numbers."
   ]
  },
  {
   "cell_type": "code",
   "execution_count": null,
   "metadata": {},
   "outputs": [],
   "source": [
    "pop_sample = "
   ]
  },
  {
   "cell_type": "markdown",
   "metadata": {},
   "source": [
    "### Q1:  Make a plot of the distribution of the bill_lengths of the penguins."
   ]
  },
  {
   "cell_type": "code",
   "execution_count": null,
   "metadata": {},
   "outputs": [],
   "source": []
  },
  {
   "cell_type": "markdown",
   "metadata": {},
   "source": [
    "### Q2: Find the mean bill length for the Adelie penguins."
   ]
  },
  {
   "cell_type": "code",
   "execution_count": null,
   "metadata": {},
   "outputs": [],
   "source": []
  },
  {
   "cell_type": "markdown",
   "metadata": {},
   "source": [
    "### Q3:  How many Adelie penguins do we have in our population sample (with a bill length)? "
   ]
  },
  {
   "cell_type": "code",
   "execution_count": null,
   "metadata": {},
   "outputs": [],
   "source": [
    "size = "
   ]
  },
  {
   "cell_type": "markdown",
   "metadata": {},
   "source": [
    "## Variability\n",
    "\n",
    "### Standard Deviation\n",
    "\n",
    "There are two types of measures of variability we use. One is the **Standard Deviation** and the related **Variance**.\n",
    "\n",
    "The *Variance* of a list of numbers is average of the squares of the values' differences from the mean:\n",
    "\n",
    "$$ \\mbox{Variance} = \\frac{1}{N-1} \\sum_{n=1}^N \\left( x_i - \\bar{x} \\right)^2 $$\n",
    "\n",
    "Where $\\bar{x}$ is the mean of the $x_i$ and $N$ is the number of $x_i$. Note that it is not *exactly* the average, we divide by N-1. This because the mean $\\bar{x}$ is included and that is reducing the degrees of freedom by 1, hence $N -1$ is what we divide by.\n",
    "\n",
    "The problem with Variance is that the units it has are the square of the units of our variable. This is not great for actually comparing the spread of our data with the data itself, and so we take the square root of the variance to give the standard deviation:\n",
    "\n",
    "$$ \\mbox{Standard Deviation} = \\sqrt{ \\mbox{Variance} } $$\n",
    "\n",
    "The larger the *Standard Deviation* the more our data is spread away from the mean. In the case of the Guassian distribution *Standard Deviation* has a precise meaning and interpretation, but for our purposes it is more useful to just treat it as the appropriate measure of spread if we are working with the mean.\n",
    "\n",
    "Python can compute it.\n"
   ]
  },
  {
   "cell_type": "code",
   "execution_count": null,
   "metadata": {},
   "outputs": [],
   "source": [
    "pop_sample.std()"
   ]
  },
  {
   "cell_type": "markdown",
   "metadata": {},
   "source": [
    "Larger standard deviations indicate more spread.\n",
    "\n",
    "### Percentiles and Quartiles\n",
    "\n",
    "The other notion of spread, related to the *median* is the locations of quartiles and percentiles for the data. The advantage of this measurment over Standard Deviation is it neglects the distance of the data points from each other and in particular is less influenced by outliers and very large values (like for the median).  The pth percentile is the value where p percent of the data is at that value or less."
   ]
  },
  {
   "cell_type": "code",
   "execution_count": null,
   "metadata": {},
   "outputs": [],
   "source": [
    "pop_sample.quantile(q=0.25), pop_sample.median(), pop_sample.quantile(q=0.75)"
   ]
  },
  {
   "cell_type": "markdown",
   "metadata": {},
   "source": [
    "Note for this problem the quartiles and standard deviation are relatively close in their notion of spread. This indicates the data does not have values that are significantly different from the rest of the values."
   ]
  },
  {
   "cell_type": "markdown",
   "metadata": {},
   "source": [
    "### Minimums and Maximums\n",
    "\n",
    "Finally we can also check the minimum and maximum values."
   ]
  },
  {
   "cell_type": "code",
   "execution_count": null,
   "metadata": {},
   "outputs": [],
   "source": [
    "pop_sample.min(), pop_sample.max()"
   ]
  },
  {
   "cell_type": "markdown",
   "metadata": {},
   "source": [
    "## How much does the mean vary?\n",
    "\n",
    "Our question though is not really how much variablity there is in individual Adelie penguins, but how much the mean of the population sample we have taken should be expected to vary.\n",
    "\n",
    "What we have is a sample of the population and so the best we can do is use that. What we will do is choose sets of bill lenghts from the Adelie lengths with replacement that are the same size as the original population sample. \n",
    "\n",
    "Let me pause and point out that this means, because the sample size is large we are likely to repeat a penguin in our sample, because we are likely to repeat one, that also means we are likely to skip others. This is actually a feature, we are going to learn how important the presence of small changes like that are to our conclusions."
   ]
  },
  {
   "cell_type": "markdown",
   "metadata": {},
   "source": [
    "The following function is going to run our **bootstrap** of the data. In this case the size of the sample we draw for the experiment will match the size of the population sample we have.\n",
    "\n",
    "I'm writing the function so it returns the means."
   ]
  },
  {
   "cell_type": "code",
   "execution_count": null,
   "metadata": {},
   "outputs": [],
   "source": [
    "def experiment(N, s=size, pop = list(pop_sample)):\n",
    "    \n",
    "    # The random functions are a little touchy. They work best when we pass them a list. When I pass them pop_sample\n",
    "    # the pandas series, sometimes it works fine and sometimes it does not.\n",
    "    \n",
    "    result = pd.DataFrame([], columns=['Sample Mean'])\n",
    "    \n",
    "    for k in range(N):\n",
    "        sample = random.choices(pop, k=s)  # We have to use replacement here because the set we are building\n",
    "                                           # is the same size as the population sample.\n",
    "        \n",
    "        result.loc[k, 'Sample Mean'] = np.mean(sample)  # Note I have to use the Numpy Mean because we are acting on list\n",
    "        if pd.isna(result.loc[k, 'Sample Mean']):\n",
    "            print(sample)\n",
    "        \n",
    "        \n",
    "    return result"
   ]
  },
  {
   "cell_type": "code",
   "execution_count": null,
   "metadata": {},
   "outputs": [],
   "source": []
  },
  {
   "cell_type": "markdown",
   "metadata": {},
   "source": [
    "### Q4: Find the Standard Deviation, Quartiles, and minimum and maximums for the means of the bootstrapped samples. What do you observe?\n",
    "\n",
    "Note that the function experiment returns a DataFrame. To compute the standard deviation and quartiles we need to convert it to a single column of the dataframe using a .loc or .iloc command. \n",
    "\n",
    "Increase the number of times you run the sample and see what happens to these measures of variation. Note that they do not get close to zero, though they are smaller than the individual variations. This is giving us a sense of *based on the information we have* how much the mean of this many Adelie penguins is expected to vary. "
   ]
  },
  {
   "cell_type": "code",
   "execution_count": null,
   "metadata": {},
   "outputs": [],
   "source": []
  },
  {
   "cell_type": "markdown",
   "metadata": {},
   "source": [
    "### Q5: Do the same exercise with the other two species. How much do we expect their population sample means to vary?\n",
    "\n",
    "Find some number of times to run the experiment so that the measures of spread are not changing too much and run the experiment for each population of Penguins keeping the results in separate variables."
   ]
  },
  {
   "cell_type": "code",
   "execution_count": null,
   "metadata": {},
   "outputs": [],
   "source": []
  },
  {
   "cell_type": "markdown",
   "metadata": {},
   "source": [
    "### Q6: Show that there is non-zero amount of overlap in the mean of the bootstrap results for two of the species\n",
    "\n",
    "This means that we are finding that it is possible (*based on the infromation we have*) that the mean bill lengths for these two species would be the same. Use the experiment results to give an estimate of how often that occurs."
   ]
  },
  {
   "cell_type": "code",
   "execution_count": null,
   "metadata": {},
   "outputs": [],
   "source": []
  }
 ],
 "metadata": {
  "kernelspec": {
   "display_name": "Python 3",
   "language": "python",
   "name": "python3"
  },
  "language_info": {
   "codemirror_mode": {
    "name": "ipython",
    "version": 3
   },
   "file_extension": ".py",
   "mimetype": "text/x-python",
   "name": "python",
   "nbconvert_exporter": "python",
   "pygments_lexer": "ipython3",
   "version": "3.7.4"
  }
 },
 "nbformat": 4,
 "nbformat_minor": 4
}
