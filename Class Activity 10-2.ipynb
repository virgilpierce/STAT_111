{
 "cells": [
  {
   "cell_type": "code",
   "execution_count": null,
   "metadata": {},
   "outputs": [],
   "source": [
    "import pandas as pd\n",
    "import seaborn as sns\n",
    "import numpy as np\n",
    "import matplotlib.pyplot as plt\n",
    "import random"
   ]
  },
  {
   "cell_type": "code",
   "execution_count": null,
   "metadata": {},
   "outputs": [],
   "source": [
    "flights_url = 'https://drive.google.com/uc?export=download&id=16zXwcAKHmcDMjDQEDBpAftMDdz3poXKH'\n",
    "flights = pd.read_csv(flights_url)\n",
    "\n",
    "flights = flights.loc[flights.loc[:,'ORIGIN_AIRPORT_ID']==11292].iloc[:, [1, -2]].dropna()\n",
    "# 11292 is the code for Denver International. These will be flights leaving DIA\n",
    "# Keep the column with the carrier codes and the arrival delays.\n",
    "\n",
    "# There are a few na values. drop them.\n",
    "flights"
   ]
  },
  {
   "cell_type": "markdown",
   "metadata": {},
   "source": [
    "[You can find the table with the carrier codes here](https://www.transtats.bts.gov/FieldInfo.asp?Field_Desc=Unique%20Carrier%20Code.%20When%20the%20same%20code%20has%20been%20used%20by%20multiple%20carriers%2C%20a%20numeric%20suffix%20is%20used%20for%20earlier%20users%2C%20for%20example%2C%20PA%2C%20PA%281%29%2C%20PA%282%29.%20Use%20this%20field%20for%20analysis%20across%20a%20range%20of%20years.&Field_Type=Char&Lookup_Table=L_UNIQUE_CARRIERS&Table_ID=236&SYS_Table_Name=T_ONTIME_REPORTING&Sys_Field_Name=OP_UNIQUE_CARRIER)\n",
    "\n",
    "Though it is sort of fun to guess from the data which is which."
   ]
  },
  {
   "cell_type": "markdown",
   "metadata": {},
   "source": [
    "### Q1:  Find the mean and median Arrival Delay for all flights departing from DIA in 2018."
   ]
  },
  {
   "cell_type": "code",
   "execution_count": null,
   "metadata": {},
   "outputs": [],
   "source": []
  },
  {
   "cell_type": "markdown",
   "metadata": {},
   "source": [
    "### Q2:  Find the mean and median Arrival Delay for each airline departing from DIA in 2018."
   ]
  },
  {
   "cell_type": "code",
   "execution_count": null,
   "metadata": {},
   "outputs": [],
   "source": []
  },
  {
   "cell_type": "markdown",
   "metadata": {},
   "source": [
    "### Q3: Find the number of flights by each airline departing from DIA in 2018."
   ]
  },
  {
   "cell_type": "code",
   "execution_count": null,
   "metadata": {},
   "outputs": [],
   "source": []
  },
  {
   "cell_type": "code",
   "execution_count": null,
   "metadata": {},
   "outputs": [],
   "source": [
    "# Here is the function you can start from for your sampling. You will need to pass it \n",
    "\n",
    "# N -- the number of times to run the experiment\n",
    "# size -- the size of the samples to use; this would usually be the number of flights run by that airline\n",
    "\n",
    "def experiment(N, size, population = list(flights.iloc[:,1])):\n",
    "    \n",
    "    result = pd.DataFrame([], columns=['Median Delay', 'Mean Delay'])\n",
    "    # Build a dataframe for our output\n",
    "    \n",
    "    \n",
    "    for k in range(N):\n",
    "        \n",
    "        sample = random.sample(population, size)\n",
    "        # Sample from the population - without replacement (maybe with replacment is better)\n",
    "        \n",
    "        # sample = random.choose(population, s) \n",
    "        # Use this one for with replacement\n",
    "        \n",
    "        result.loc[k, :] = [np.median(sample), np.mean(sample)]\n",
    "        \n",
    "    return result\n",
    "        "
   ]
  },
  {
   "cell_type": "markdown",
   "metadata": {},
   "source": [
    "Use the experiment(N, size) function to determine which airlines had a significant (less than 1% chance) larger Median or Mean Arrival delay from the population of all flights."
   ]
  },
  {
   "cell_type": "code",
   "execution_count": null,
   "metadata": {},
   "outputs": [],
   "source": []
  }
 ],
 "metadata": {
  "kernelspec": {
   "display_name": "Python 3",
   "language": "python",
   "name": "python3"
  },
  "language_info": {
   "codemirror_mode": {
    "name": "ipython",
    "version": 3
   },
   "file_extension": ".py",
   "mimetype": "text/x-python",
   "name": "python",
   "nbconvert_exporter": "python",
   "pygments_lexer": "ipython3",
   "version": "3.7.4"
  }
 },
 "nbformat": 4,
 "nbformat_minor": 4
}
