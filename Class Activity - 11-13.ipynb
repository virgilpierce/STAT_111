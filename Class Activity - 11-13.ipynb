{
 "cells": [
  {
   "cell_type": "code",
   "execution_count": 1,
   "metadata": {},
   "outputs": [],
   "source": [
    "import pandas as pd\n",
    "import seaborn as sns\n",
    "import matplotlib.pyplot as plt\n",
    "import numpy as np\n",
    "import random\n",
    "\n",
    "from numpy.random import permutation\n",
    "# there is a permutation function we need from numpy.random\n",
    "\n",
    "import matplotlib.colors as pltco # A package to help with coloring plots"
   ]
  },
  {
   "cell_type": "markdown",
   "metadata": {},
   "source": [
    "# Predicting Counterfeit Bills\n",
    "\n",
    "The dataset for this activity is a collection of measurements and observations made of counterfeit and actual bills (the original database was collected in German 2012, so I suspect the notes studied were Euros).\n",
    "\n",
    "The actual values are numerical scores computed from a grayscale image of each note.b\n",
    "\n",
    "I also am a little puzzled about the Class labels, as I cannot find any documentation about which one indicates a counterfeit bill. My guess is that 1, as it typically represents True in a 0, 1 class would be counterfeit. Perhaps you see something in the data that will help us decide?  Note that the actual bills, because of quality control should have less deviations overall."
   ]
  },
  {
   "cell_type": "code",
   "execution_count": 2,
   "metadata": {},
   "outputs": [
    {
     "data": {
      "text/html": [
       "<div>\n",
       "<style scoped>\n",
       "    .dataframe tbody tr th:only-of-type {\n",
       "        vertical-align: middle;\n",
       "    }\n",
       "\n",
       "    .dataframe tbody tr th {\n",
       "        vertical-align: top;\n",
       "    }\n",
       "\n",
       "    .dataframe thead th {\n",
       "        text-align: right;\n",
       "    }\n",
       "</style>\n",
       "<table border=\"1\" class=\"dataframe\">\n",
       "  <thead>\n",
       "    <tr style=\"text-align: right;\">\n",
       "      <th></th>\n",
       "      <th>Image.Var</th>\n",
       "      <th>Image.Skew</th>\n",
       "      <th>Image.Curt</th>\n",
       "      <th>Entropy</th>\n",
       "      <th>Class</th>\n",
       "    </tr>\n",
       "  </thead>\n",
       "  <tbody>\n",
       "    <tr>\n",
       "      <th>0</th>\n",
       "      <td>3.62160</td>\n",
       "      <td>8.66610</td>\n",
       "      <td>-2.8073</td>\n",
       "      <td>-0.44699</td>\n",
       "      <td>0</td>\n",
       "    </tr>\n",
       "    <tr>\n",
       "      <th>1</th>\n",
       "      <td>4.54590</td>\n",
       "      <td>8.16740</td>\n",
       "      <td>-2.4586</td>\n",
       "      <td>-1.46210</td>\n",
       "      <td>0</td>\n",
       "    </tr>\n",
       "    <tr>\n",
       "      <th>2</th>\n",
       "      <td>3.86600</td>\n",
       "      <td>-2.63830</td>\n",
       "      <td>1.9242</td>\n",
       "      <td>0.10645</td>\n",
       "      <td>0</td>\n",
       "    </tr>\n",
       "    <tr>\n",
       "      <th>3</th>\n",
       "      <td>3.45660</td>\n",
       "      <td>9.52280</td>\n",
       "      <td>-4.0112</td>\n",
       "      <td>-3.59440</td>\n",
       "      <td>0</td>\n",
       "    </tr>\n",
       "    <tr>\n",
       "      <th>4</th>\n",
       "      <td>0.32924</td>\n",
       "      <td>-4.45520</td>\n",
       "      <td>4.5718</td>\n",
       "      <td>-0.98880</td>\n",
       "      <td>0</td>\n",
       "    </tr>\n",
       "    <tr>\n",
       "      <th>...</th>\n",
       "      <td>...</td>\n",
       "      <td>...</td>\n",
       "      <td>...</td>\n",
       "      <td>...</td>\n",
       "      <td>...</td>\n",
       "    </tr>\n",
       "    <tr>\n",
       "      <th>1367</th>\n",
       "      <td>0.40614</td>\n",
       "      <td>1.34920</td>\n",
       "      <td>-1.4501</td>\n",
       "      <td>-0.55949</td>\n",
       "      <td>1</td>\n",
       "    </tr>\n",
       "    <tr>\n",
       "      <th>1368</th>\n",
       "      <td>-1.38870</td>\n",
       "      <td>-4.87730</td>\n",
       "      <td>6.4774</td>\n",
       "      <td>0.34179</td>\n",
       "      <td>1</td>\n",
       "    </tr>\n",
       "    <tr>\n",
       "      <th>1369</th>\n",
       "      <td>-3.75030</td>\n",
       "      <td>-13.45860</td>\n",
       "      <td>17.5932</td>\n",
       "      <td>-2.77710</td>\n",
       "      <td>1</td>\n",
       "    </tr>\n",
       "    <tr>\n",
       "      <th>1370</th>\n",
       "      <td>-3.56370</td>\n",
       "      <td>-8.38270</td>\n",
       "      <td>12.3930</td>\n",
       "      <td>-1.28230</td>\n",
       "      <td>1</td>\n",
       "    </tr>\n",
       "    <tr>\n",
       "      <th>1371</th>\n",
       "      <td>-2.54190</td>\n",
       "      <td>-0.65804</td>\n",
       "      <td>2.6842</td>\n",
       "      <td>1.19520</td>\n",
       "      <td>1</td>\n",
       "    </tr>\n",
       "  </tbody>\n",
       "</table>\n",
       "<p>1372 rows × 5 columns</p>\n",
       "</div>"
      ],
      "text/plain": [
       "      Image.Var  Image.Skew  Image.Curt  Entropy  Class\n",
       "0       3.62160     8.66610     -2.8073 -0.44699      0\n",
       "1       4.54590     8.16740     -2.4586 -1.46210      0\n",
       "2       3.86600    -2.63830      1.9242  0.10645      0\n",
       "3       3.45660     9.52280     -4.0112 -3.59440      0\n",
       "4       0.32924    -4.45520      4.5718 -0.98880      0\n",
       "...         ...         ...         ...      ...    ...\n",
       "1367    0.40614     1.34920     -1.4501 -0.55949      1\n",
       "1368   -1.38870    -4.87730      6.4774  0.34179      1\n",
       "1369   -3.75030   -13.45860     17.5932 -2.77710      1\n",
       "1370   -3.56370    -8.38270     12.3930 -1.28230      1\n",
       "1371   -2.54190    -0.65804      2.6842  1.19520      1\n",
       "\n",
       "[1372 rows x 5 columns]"
      ]
     },
     "execution_count": 2,
     "metadata": {},
     "output_type": "execute_result"
    }
   ],
   "source": [
    "bank_note_url = 'https://drive.google.com/uc?export=download&id=1qOfx-0fL7VMhUFJeQ3fDIYa3EhHeTm-U'\n",
    "\n",
    "bank_note_data = pd.read_csv(bank_note_url)\n",
    "bank_note_data"
   ]
  },
  {
   "cell_type": "markdown",
   "metadata": {},
   "source": [
    "### Q1:  Use seaborn plots to find a pair of variables that look like they will do a good job of predicting the Class"
   ]
  },
  {
   "cell_type": "code",
   "execution_count": null,
   "metadata": {},
   "outputs": [],
   "source": []
  },
  {
   "cell_type": "markdown",
   "metadata": {},
   "source": [
    "### Q2:  Before you get into the modeling, just think for a moment looking at the scatter plot: \n",
    "\n",
    "How accurate do we expect this model to be?  Where are the decision boundaries likely to be, where do we expect to see errors or other features?"
   ]
  },
  {
   "cell_type": "code",
   "execution_count": null,
   "metadata": {},
   "outputs": [],
   "source": []
  },
  {
   "cell_type": "markdown",
   "metadata": {},
   "source": [
    "### Q3:  Set up the X and y variables for your model and then divide them into a testing/training sets."
   ]
  },
  {
   "cell_type": "code",
   "execution_count": null,
   "metadata": {},
   "outputs": [],
   "source": []
  },
  {
   "cell_type": "markdown",
   "metadata": {},
   "source": [
    "### Q4:  Use Crossvalidation or Bootstrapping to determine the best number of neighbors for a K-Nearest Neighbors Classifier\n",
    "\n",
    "You might want to also do individual plots, and you can do that using the plotting function below."
   ]
  },
  {
   "cell_type": "code",
   "execution_count": null,
   "metadata": {},
   "outputs": [],
   "source": []
  },
  {
   "cell_type": "markdown",
   "metadata": {},
   "source": [
    "### Q5: Once you have determined on the best choice for the number of neighbors, train your final model on the entire training set and then plot it with the original testing set.\n",
    "\n",
    "I will put the function for plotting the results here. Note that I had to reduce the number of colors from 3 to 2. You might need to adjust the offsets for xx_min, xx_max, yy_min, and yy_max as they were chosen below for the penguin problem."
   ]
  },
  {
   "cell_type": "code",
   "execution_count": 3,
   "metadata": {},
   "outputs": [],
   "source": [
    "# We need a function to display the results\n",
    "# I am defining it here. Note that this assumes we only have two features for our inputs.\n",
    "\n",
    "# Note I am not going to ask you to write functions like this\n",
    "\n",
    "def plot_cat_model(clf, X_train, y_train, X_test, y_test):\n",
    "    \n",
    "    h = 0.2 # Mesh Size\n",
    "    \n",
    "    # Make a mesh and then plot the decision boundary. To do that we assign a \n",
    "    # color to teach point in the mesh.\n",
    "    # This tries to gets the boundaries for the box to draw. You may have to adjust \n",
    "    # this min and max values in some cases.\n",
    "    xx_min, xx_max = X_train[:, 0].min() - 1, X_train[:, 0].max() + 5\n",
    "    yy_min, yy_max = X_train[:, 1].min() - 1, X_train[:, 1].max() + 5\n",
    "    xx, yy = np.meshgrid(np.arange(xx_min, xx_max, h), \n",
    "                        np.arange(yy_min, yy_max, h))\n",
    "    Z = clf.predict(np.c_[xx.ravel(), yy.ravel()])\n",
    "    \n",
    "    # Put the result into a color plot\n",
    "    Z = Z.reshape(xx.shape)\n",
    "    \n",
    "    # you can adjust the output figure size here\n",
    "    plt.figure(figsize=(8, 6))\n",
    "    \n",
    "    # define the colors - note we need a color for each answer in our output\n",
    "    cmap_light = pltco.ListedColormap(['#FFAAAA', '#AAFFAA'])\n",
    "    cmap_bold = pltco.ListedColormap(['#FF0000', '#00FF00'])\n",
    "    \n",
    "    # plot the classification\n",
    "    plt.pcolormesh(xx, yy, Z, cmap=cmap_light)\n",
    "    \n",
    "    # plot the training set\n",
    "    plt.scatter(X_train[:, 0], X_train[:, 1], c=y_train, cmap=cmap_bold, marker='o')\n",
    "    \n",
    "    # plot the testing set\n",
    "    plt.scatter(X_test[:, 0], X_test[:, 1], c=y_test, cmap=cmap_bold, marker='+')\n",
    "    \n",
    "    # Print out the score results for the classifier also\n",
    "    print('Training Score: {}'.format(clf.score(X_train, y_train)))\n",
    "    print('Testing Score: {}'.format(clf.score(X_test, y_test)))"
   ]
  },
  {
   "cell_type": "code",
   "execution_count": null,
   "metadata": {},
   "outputs": [],
   "source": []
  }
 ],
 "metadata": {
  "kernelspec": {
   "display_name": "Python 3",
   "language": "python",
   "name": "python3"
  },
  "language_info": {
   "codemirror_mode": {
    "name": "ipython",
    "version": 3
   },
   "file_extension": ".py",
   "mimetype": "text/x-python",
   "name": "python",
   "nbconvert_exporter": "python",
   "pygments_lexer": "ipython3",
   "version": "3.7.4"
  }
 },
 "nbformat": 4,
 "nbformat_minor": 4
}
