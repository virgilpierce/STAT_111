{
 "cells": [
  {
   "cell_type": "markdown",
   "metadata": {},
   "source": [
    "# Lists and Strings Activity\n",
    "\n",
    "This is just asking you to put together some of the things we have learned so far. for Lists and Strings, and building up some of the ideas you will need later on. There is one new things in this activity, list generators that we will explore.\n",
    "\n",
    "Much of what we will do here is related to things you will need to do when cleaning data.\n",
    "\n",
    "## List Generators\n",
    "\n",
    "Python provides a remarkable tool for making lists called a generator. This provides a means of cycling through a list, doing an operation to it, and building a new list.\n",
    "\n",
    "In practice you can actually cycle through sets as well as lists, and there are even other objects that this construction works on. But let's keep it simple today."
   ]
  },
  {
   "cell_type": "code",
   "execution_count": 2,
   "metadata": {},
   "outputs": [
    {
     "data": {
      "text/plain": [
       "[0, 2, 4, 6, 8, 10, 12, 14, 16, 18]"
      ]
     },
     "execution_count": 2,
     "metadata": {},
     "output_type": "execute_result"
    }
   ],
   "source": [
    "# Here is an example of a generator\n",
    "\n",
    "evens = [ 2*x for x in range(10) ]\n",
    "evens"
   ]
  },
  {
   "cell_type": "markdown",
   "metadata": {},
   "source": [
    "What struck me when I first learned Python was how readable statements like the one above. If you read it outloud you say exaclty what it does (particularly if you follow the convention of reading \"[\" as \"list.\"\n",
    "\n",
    "#### Q1: Use this construction to make a list of the first 25 odd numbers."
   ]
  },
  {
   "cell_type": "code",
   "execution_count": null,
   "metadata": {},
   "outputs": [],
   "source": []
  },
  {
   "cell_type": "markdown",
   "metadata": {},
   "source": [
    "## Cleaning Data\n",
    "\n",
    "Okay so as promised today we learn some things we need to know for cleaning data. Consider the dataframe of Long-Lat pairs for all registered childcare facilities in Colorado:"
   ]
  },
  {
   "cell_type": "code",
   "execution_count": 13,
   "metadata": {},
   "outputs": [
    {
     "data": {
      "text/plain": [
       "0       (39.919258, -104.911005)\n",
       "1           (39.9101, -104.9344)\n",
       "2       (39.525183, -104.786646)\n",
       "3        (38.86547, -104.867475)\n",
       "4       (39.604151, -105.063248)\n",
       "                  ...           \n",
       "4987    (40.301745, -105.082467)\n",
       "4988    (40.004382, -105.271899)\n",
       "4989    (40.471929, -104.901475)\n",
       "4990    (39.082752, -108.557678)\n",
       "4991    (40.483262, -106.837951)\n",
       "Name: LONG-LAT, Length: 4992, dtype: object"
      ]
     },
     "execution_count": 13,
     "metadata": {},
     "output_type": "execute_result"
    }
   ],
   "source": [
    "import pandas as pd\n",
    "childcare_url = 'https://drive.google.com/uc?export=download&id=1funNzuHvByANXyBkrIzbN2MuFRP66IoZ'\n",
    "childcare_data = pd.read_csv(childcare_url)\n",
    "coords = childcare_data.iloc[:, -1]\n",
    "coords"
   ]
  },
  {
   "cell_type": "markdown",
   "metadata": {},
   "source": [
    "Note by the way, that because this is a single column of a data frame it is a pandas series, which is a list with a bit of extra information (Name, Length, and dtype)."
   ]
  },
  {
   "cell_type": "markdown",
   "metadata": {},
   "source": [
    "#### Q2:  What type is each entry in coords?"
   ]
  },
  {
   "cell_type": "code",
   "execution_count": null,
   "metadata": {},
   "outputs": [],
   "source": []
  },
  {
   "cell_type": "markdown",
   "metadata": {},
   "source": [
    "Note that you can access each entry as if coords was a list. \n",
    "\n",
    "#### Q3: What is the fifth entry?\n",
    "\n",
    "(hint, coords is a list, so you can get elements from it the way get elements from lists)."
   ]
  },
  {
   "cell_type": "code",
   "execution_count": null,
   "metadata": {},
   "outputs": [],
   "source": []
  },
  {
   "cell_type": "markdown",
   "metadata": {},
   "source": [
    "There are a couple of ways to go about getting the first and then the second number out of this entry. \n",
    "\n",
    "One method is to use find() which is a function that finds the first place a character appears in a string."
   ]
  },
  {
   "cell_type": "code",
   "execution_count": 1,
   "metadata": {},
   "outputs": [
    {
     "data": {
      "text/plain": [
       "4"
      ]
     },
     "execution_count": 1,
     "metadata": {},
     "output_type": "execute_result"
    }
   ],
   "source": [
    "test = '(4.0, 5.1)'\n",
    "test.find(',')"
   ]
  },
  {
   "cell_type": "code",
   "execution_count": 2,
   "metadata": {},
   "outputs": [
    {
     "data": {
      "text/plain": [
       "','"
      ]
     },
     "execution_count": 2,
     "metadata": {},
     "output_type": "execute_result"
    }
   ],
   "source": [
    "test[4]"
   ]
  },
  {
   "cell_type": "markdown",
   "metadata": {},
   "source": [
    "Then recall that strings are really lists, and in particular that means we can use the slicing mechanism:  test[start:end] to get a sub-sequence (or in this case a sub string).\n",
    "\n",
    "#### Q4:  For the example test write an expression that pulls out the first number and pass it through float() to turn it into a float number."
   ]
  },
  {
   "cell_type": "code",
   "execution_count": null,
   "metadata": {},
   "outputs": [],
   "source": []
  },
  {
   "cell_type": "markdown",
   "metadata": {},
   "source": [
    "#### Q5: Perhaps a little harder, so the same for the second number in test"
   ]
  },
  {
   "cell_type": "code",
   "execution_count": null,
   "metadata": {},
   "outputs": [],
   "source": []
  },
  {
   "cell_type": "markdown",
   "metadata": {},
   "source": [
    "What we want to do is use seaborn to plot each childcare facilities location. \n",
    "\n",
    "To do this what we will do is build two separate lists with the Longitude and Lattitude data respectively. Do this by using a list generator as above to cycle over each entry in coords and pull out the first or the second number for that entry.\n",
    "\n",
    "#### Q6:  So now put it all together. Give a generator expression that builds a list of the first number in each pair from coords; do the same and build a second list with the second numbers."
   ]
  },
  {
   "cell_type": "code",
   "execution_count": null,
   "metadata": {},
   "outputs": [],
   "source": [
    "long = "
   ]
  },
  {
   "cell_type": "code",
   "execution_count": null,
   "metadata": {},
   "outputs": [],
   "source": [
    "lat = "
   ]
  },
  {
   "cell_type": "markdown",
   "metadata": {},
   "source": [
    "#### Q7: Now combine your two lists into a DataFrame so that we can use Seaborn to plot it.\n",
    "\n",
    "Hint use pd.DataFrame([long, lat], columns=['longitude', 'latitude'] ) where long and lat are your two lists from above."
   ]
  },
  {
   "cell_type": "code",
   "execution_count": null,
   "metadata": {},
   "outputs": [],
   "source": []
  },
  {
   "cell_type": "markdown",
   "metadata": {},
   "source": [
    "#### Q8: Use Seaborns Scatter Plot to plot the result\n",
    "\n",
    "I've put in the command but you need to fill in strings for the x and y coordinates and for the name of your dataframe in Q7."
   ]
  },
  {
   "cell_type": "code",
   "execution_count": null,
   "metadata": {},
   "outputs": [],
   "source": [
    "import seaborn\n",
    "seaborn.scatterplot(x=, y=, data= )"
   ]
  },
  {
   "cell_type": "markdown",
   "metadata": {},
   "source": []
  }
 ],
 "metadata": {
  "kernelspec": {
   "display_name": "Python 3",
   "language": "python",
   "name": "python3"
  },
  "language_info": {
   "codemirror_mode": {
    "name": "ipython",
    "version": 3
   },
   "file_extension": ".py",
   "mimetype": "text/x-python",
   "name": "python",
   "nbconvert_exporter": "python",
   "pygments_lexer": "ipython3",
   "version": "3.7.4"
  }
 },
 "nbformat": 4,
 "nbformat_minor": 2
}
