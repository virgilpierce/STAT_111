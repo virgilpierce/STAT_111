{
 "cells": [
  {
   "cell_type": "code",
   "execution_count": 1,
   "metadata": {},
   "outputs": [],
   "source": [
    "import pandas as pd\n",
    "import seaborn as sns\n",
    "import matplotlib.pyplot as plt\n",
    "import numpy as np\n",
    "import random"
   ]
  },
  {
   "cell_type": "markdown",
   "metadata": {},
   "source": [
    "# Resampling from multiple populations.\n",
    "\n",
    "Today's example is from my own work. Trying to understand how we are doing in educating student at UNC. This is also an example where we are going to simmulate the data rather than work with real data. One reason for this is that I want to show you exactly what is happening, and the other is that in doing research on human subjects, you need to be respectful of their data and privacy. We can understand what we need to from the problem using simmulated data, and sharing the actual data could potentially be a concern.\n",
    "\n",
    "## Grades in Courses\n",
    "\n",
    "The university is very concerned with passing rates in our courses and occasionally that concern comes down to individual sections of a multi section course. For example we offer 5-8 sections of MATH 120 - *Mathematics for Liberal Arts* each semester. The question is sometimes, did one section have particularly low or high grades because of something the instructor did, the time of day it was offered, or some other factor.\n",
    "\n",
    "These things absolutely have an effect. But sometimes the variations in distributions of grades that are observed across sections are just because of the randomness with which students divide themselves up into sections.\n",
    "\n",
    "I also want to demonstrate how we can do these experiments without building up the whole population like we did last week. We will need to do this using random sampling with replacement. \n",
    "\n",
    "## With Replacement\n",
    "\n",
    "So last week most of our examples used random sampling without replacement. The difference is in whether when we select an individual for our sample, whether we return them to the population (replace them) or not. If the size of the sample we are taking is large compared to the size of the population (Nixon's pardon petitions for example) then sampling without replacement should be used - our sample is large enough that as it is built it is changing the distribution of the population. But in cases where the sample is much smaller than the population, sampling with replacement is good enough -- what we need to know is that building the sample is not changing the distribution significantly. How small is small enough? It depends on how large the smallest category within the population is that we are trying to study. If the category is small enough that losing members to the sample we are selecting would change their proportion significantly, then we should sample without replacement to take it into account.\n",
    "\n",
    "## The Population\n",
    "\n",
    "So over the last six years MATH 120 has had the following distribution of grades 11% A; 27% B; 30% C; 15% D; and 17% F (again completely made up numbers) for a large population of students (close to 1000). A section of 25 students is found to have 9 A, 6 B; 6 C; 2 D; and 2 F. A slightly better than average performance for the class. \n",
    "\n",
    "\n",
    "### Our Null Hypothesis:  This distribution of grades is the result of randomly chosing 25 students from the total student population with the grade distribution above.\n",
    "\n",
    "### Our Alternative Hypothesis: This distribution of grades is the result of something being different about this section. \n",
    "\n",
    "In particular if we know that the only thing different about this section is that the instructor gave them all a piece of chocolate at the beginning of each class, then our conclusion in the alternative would be that the chocolate improved how the students did in the class.\n",
    "\n",
    "----\n",
    "\n",
    "### The Test Statistic\n",
    "\n",
    "It is not so clear what to use as the **Test Statistic** here. The test statistic is the thing we will compute from our sample to compare.\n",
    "\n",
    "Last week we used:\n",
    "\n",
    "- For the Pitchers/NonPitchers we used the median and mean of their heights (and note that we came to opposite conclusions!)\n",
    "- For Nixon it was the proportion of the petitions received who were granted pardons.\n",
    "- For the PPP loans it was the mean number of jobs saved by the largest loans.\n",
    "- For the airlines it was the median and mean arrival delays of the sample.\n",
    "\n",
    "There are not necessarily rules, but some guidelines:\n",
    "\n",
    "- The test statistic should be meaningful for the problem - and in particular should give you in the Null or Alternative a conclusion.\n",
    "- For numerical data median and mean are common, other test statistics that might be useful would be standard deviation or other measures of spread such as a specific quartile. Even minimum or maximum might be appropriate depending on the problem. \n",
    "- For categorical data the proportion in the category is standard particularly for a categorical variable with only two values. \n",
    "- For categorical variable with multiple values, the total deviation is useful (and what we will use today).\n",
    "\n",
    "**Finally a warning**\n",
    "\n",
    "What you should not do is hunt for a test statistic that lets you reject the null hypothesis. This is a form of p-hacking, is unethical, and can lead you to a false conclusion and a false sense of the confidence in your result. Why would this be? We are interpreting the p-value computed from our experiment as a probability, but it is a probability in the case when the experiment has only been run once. Using the same data to run the expirement multiple times, which essentially what you are doing if you modify the test statistic, breaks down our notion of this interpretation.\n",
    "\n",
    "Note for example the baseball player problem: The mean heights of the pitchers are significantly taller, the median heights of the players are not. Are the pitchers taller than non-pitchers?\n",
    "\n",
    "### Test Statistics for Grades\n",
    "\n",
    "Okay so what test statistics to use for the distribution of grades. There are choices:\n",
    "\n",
    "- Since what we might care about is just whether students passed and not what specific grade they got, we could convert this to a two value categorical variable by changing the grade for a passing / failing and then computing the propotion that passed.\n",
    "\n",
    "- The other thing to do is ask how the propotions of the grades in the class deviated from the proportions of the grades in the population."
   ]
  },
  {
   "cell_type": "code",
   "execution_count": 56,
   "metadata": {},
   "outputs": [
    {
     "data": {
      "text/html": [
       "<div>\n",
       "<style scoped>\n",
       "    .dataframe tbody tr th:only-of-type {\n",
       "        vertical-align: middle;\n",
       "    }\n",
       "\n",
       "    .dataframe tbody tr th {\n",
       "        vertical-align: top;\n",
       "    }\n",
       "\n",
       "    .dataframe thead th {\n",
       "        text-align: right;\n",
       "    }\n",
       "</style>\n",
       "<table border=\"1\" class=\"dataframe\">\n",
       "  <thead>\n",
       "    <tr style=\"text-align: right;\">\n",
       "      <th></th>\n",
       "      <th>Section Distribution</th>\n",
       "      <th>Population Distribution</th>\n",
       "    </tr>\n",
       "  </thead>\n",
       "  <tbody>\n",
       "    <tr>\n",
       "      <th>A</th>\n",
       "      <td>0.36</td>\n",
       "      <td>0.11</td>\n",
       "    </tr>\n",
       "    <tr>\n",
       "      <th>B</th>\n",
       "      <td>0.24</td>\n",
       "      <td>0.27</td>\n",
       "    </tr>\n",
       "    <tr>\n",
       "      <th>C</th>\n",
       "      <td>0.24</td>\n",
       "      <td>0.30</td>\n",
       "    </tr>\n",
       "    <tr>\n",
       "      <th>D</th>\n",
       "      <td>0.08</td>\n",
       "      <td>0.15</td>\n",
       "    </tr>\n",
       "    <tr>\n",
       "      <th>F</th>\n",
       "      <td>0.08</td>\n",
       "      <td>0.17</td>\n",
       "    </tr>\n",
       "  </tbody>\n",
       "</table>\n",
       "</div>"
      ],
      "text/plain": [
       "   Section Distribution  Population Distribution\n",
       "A                  0.36                     0.11\n",
       "B                  0.24                     0.27\n",
       "C                  0.24                     0.30\n",
       "D                  0.08                     0.15\n",
       "F                  0.08                     0.17"
      ]
     },
     "execution_count": 56,
     "metadata": {},
     "output_type": "execute_result"
    }
   ],
   "source": [
    "distributions = pd.DataFrame([ [9/25, 6/25, 6/25, 2/25, 2/25], [0.11, 0.27, 0.30, 0.15, 0.17]], \n",
    "                             index = ['Section Distribution', 'Population Distribution'], \n",
    "                             columns = ['A', 'B', 'C', 'D', 'F']).transpose()\n",
    "distributions"
   ]
  },
  {
   "cell_type": "code",
   "execution_count": 57,
   "metadata": {},
   "outputs": [
    {
     "data": {
      "text/html": [
       "<div>\n",
       "<style scoped>\n",
       "    .dataframe tbody tr th:only-of-type {\n",
       "        vertical-align: middle;\n",
       "    }\n",
       "\n",
       "    .dataframe tbody tr th {\n",
       "        vertical-align: top;\n",
       "    }\n",
       "\n",
       "    .dataframe thead th {\n",
       "        text-align: right;\n",
       "    }\n",
       "</style>\n",
       "<table border=\"1\" class=\"dataframe\">\n",
       "  <thead>\n",
       "    <tr style=\"text-align: right;\">\n",
       "      <th></th>\n",
       "      <th>Section Distribution</th>\n",
       "      <th>Population Distribution</th>\n",
       "      <th>Deviation</th>\n",
       "    </tr>\n",
       "  </thead>\n",
       "  <tbody>\n",
       "    <tr>\n",
       "      <th>A</th>\n",
       "      <td>0.36</td>\n",
       "      <td>0.11</td>\n",
       "      <td>-0.25</td>\n",
       "    </tr>\n",
       "    <tr>\n",
       "      <th>B</th>\n",
       "      <td>0.24</td>\n",
       "      <td>0.27</td>\n",
       "      <td>0.03</td>\n",
       "    </tr>\n",
       "    <tr>\n",
       "      <th>C</th>\n",
       "      <td>0.24</td>\n",
       "      <td>0.30</td>\n",
       "      <td>0.06</td>\n",
       "    </tr>\n",
       "    <tr>\n",
       "      <th>D</th>\n",
       "      <td>0.08</td>\n",
       "      <td>0.15</td>\n",
       "      <td>0.07</td>\n",
       "    </tr>\n",
       "    <tr>\n",
       "      <th>F</th>\n",
       "      <td>0.08</td>\n",
       "      <td>0.17</td>\n",
       "      <td>0.09</td>\n",
       "    </tr>\n",
       "  </tbody>\n",
       "</table>\n",
       "</div>"
      ],
      "text/plain": [
       "   Section Distribution  Population Distribution  Deviation\n",
       "A                  0.36                     0.11      -0.25\n",
       "B                  0.24                     0.27       0.03\n",
       "C                  0.24                     0.30       0.06\n",
       "D                  0.08                     0.15       0.07\n",
       "F                  0.08                     0.17       0.09"
      ]
     },
     "execution_count": 57,
     "metadata": {},
     "output_type": "execute_result"
    }
   ],
   "source": [
    "# Now compute the deviation of the section distribution from the Population's distribution\n",
    "\n",
    "distributions.loc[:, 'Deviation'] = distributions.loc[:, 'Population Distribution'] - distributions.loc[:, 'Section Distribution']\n",
    "distributions"
   ]
  },
  {
   "cell_type": "markdown",
   "metadata": {},
   "source": [
    "What we care about is the total deviation for each category and in particular the magnitude of this (note the sidng indicates whether the distribution was lower or higher than the population's. So we drop the minus signs in this column and add up the results ti get the **Total Deviation** which will be our test statistic."
   ]
  },
  {
   "cell_type": "code",
   "execution_count": 58,
   "metadata": {},
   "outputs": [
    {
     "data": {
      "text/plain": [
       "0.5"
      ]
     },
     "execution_count": 58,
     "metadata": {},
     "output_type": "execute_result"
    }
   ],
   "source": [
    "# Total deviation\n",
    "\n",
    "# note that .abs() is absolute value or magnitude\n",
    "\n",
    "Section_TD = distributions.iloc[:, -1].abs().sum()\n",
    "Section_TD"
   ]
  },
  {
   "cell_type": "markdown",
   "metadata": {},
   "source": [
    "So our hypothesis are:\n",
    "\n",
    "#### Null Hypothesis:  The total deviation of the students' grades of this section did not differ significantly from that of the class.\n",
    "\n",
    "#### Alternative Hypothesis: The total deviation of the students' grades of this section differed significantly from that of the class.\n",
    "\n",
    "### Now we build an experiment\n",
    "\n",
    "To test these hypothesis we build an experiment to sample a class of the same size and compute its total deviation repeatedly and we are asking whether a deviation of Section_TD or greater is likely or not."
   ]
  },
  {
   "cell_type": "code",
   "execution_count": 59,
   "metadata": {},
   "outputs": [],
   "source": [
    "# Using the percentages for the distribution of grades in the whole population we build\n",
    "# a set of 100 grades with the same distribution. If we had fractions of a percent we could either \n",
    "# round the values or if some were really close it we thought it might matter we would build\n",
    "# a population of size 1000 or more. \n",
    "\n",
    "sim_population = ['A']*11 + ['B']*27 + ['C']*30 + ['D']*15 + ['F'] * 17\n",
    "# Note again how easy this is in Python!\n"
   ]
  },
  {
   "cell_type": "markdown",
   "metadata": {},
   "source": [
    "We sample from sim_population but without replacement so that the distribution of the grades always matches that of the whole population of MATH 120 students."
   ]
  },
  {
   "cell_type": "code",
   "execution_count": 60,
   "metadata": {},
   "outputs": [
    {
     "data": {
      "text/plain": [
       "['A',\n",
       " 'D',\n",
       " 'F',\n",
       " 'D',\n",
       " 'B',\n",
       " 'C',\n",
       " 'B',\n",
       " 'B',\n",
       " 'F',\n",
       " 'B',\n",
       " 'F',\n",
       " 'C',\n",
       " 'B',\n",
       " 'D',\n",
       " 'B',\n",
       " 'C',\n",
       " 'B',\n",
       " 'B',\n",
       " 'B',\n",
       " 'B',\n",
       " 'C',\n",
       " 'B',\n",
       " 'B',\n",
       " 'B',\n",
       " 'A']"
      ]
     },
     "execution_count": 60,
     "metadata": {},
     "output_type": "execute_result"
    }
   ],
   "source": [
    "size = 25\n",
    "sample = random.choices(sim_population, k=size)\n",
    "# build our sample class\n",
    "sample"
   ]
  },
  {
   "cell_type": "markdown",
   "metadata": {},
   "source": [
    "Lets compute the number of each grade that we got. "
   ]
  },
  {
   "cell_type": "code",
   "execution_count": 61,
   "metadata": {},
   "outputs": [
    {
     "data": {
      "text/plain": [
       "{'A': 2, 'B': 13, 'C': 4, 'D': 3, 'F': 3}"
      ]
     },
     "execution_count": 61,
     "metadata": {},
     "output_type": "execute_result"
    }
   ],
   "source": [
    "# We can save ourselves some typing by doing this with a for loop and a dictionary. \n",
    "\n",
    "# Alternatively you could just do \n",
    "# num_A = len([x for x in sample if x=='A'])\n",
    "# and type that our for each letter. Either way works.\n",
    "\n",
    "sample_grades = {'A':0, 'B':0, 'C':0, 'D':0, 'F':0}\n",
    "for grade in ['A', 'B', 'C', 'D', 'F']:\n",
    "    sample_grades[grade] = len([x for x in sample if x==grade])\n",
    "sample_grades"
   ]
  },
  {
   "cell_type": "code",
   "execution_count": 62,
   "metadata": {},
   "outputs": [
    {
     "data": {
      "text/html": [
       "<div>\n",
       "<style scoped>\n",
       "    .dataframe tbody tr th:only-of-type {\n",
       "        vertical-align: middle;\n",
       "    }\n",
       "\n",
       "    .dataframe tbody tr th {\n",
       "        vertical-align: top;\n",
       "    }\n",
       "\n",
       "    .dataframe thead th {\n",
       "        text-align: right;\n",
       "    }\n",
       "</style>\n",
       "<table border=\"1\" class=\"dataframe\">\n",
       "  <thead>\n",
       "    <tr style=\"text-align: right;\">\n",
       "      <th></th>\n",
       "      <th>Sample Distribution</th>\n",
       "      <th>Population Distribution</th>\n",
       "    </tr>\n",
       "  </thead>\n",
       "  <tbody>\n",
       "    <tr>\n",
       "      <th>A</th>\n",
       "      <td>0.08</td>\n",
       "      <td>0.11</td>\n",
       "    </tr>\n",
       "    <tr>\n",
       "      <th>B</th>\n",
       "      <td>0.52</td>\n",
       "      <td>0.27</td>\n",
       "    </tr>\n",
       "    <tr>\n",
       "      <th>C</th>\n",
       "      <td>0.16</td>\n",
       "      <td>0.30</td>\n",
       "    </tr>\n",
       "    <tr>\n",
       "      <th>D</th>\n",
       "      <td>0.12</td>\n",
       "      <td>0.15</td>\n",
       "    </tr>\n",
       "    <tr>\n",
       "      <th>F</th>\n",
       "      <td>0.12</td>\n",
       "      <td>0.17</td>\n",
       "    </tr>\n",
       "  </tbody>\n",
       "</table>\n",
       "</div>"
      ],
      "text/plain": [
       "   Sample Distribution  Population Distribution\n",
       "A                 0.08                     0.11\n",
       "B                 0.52                     0.27\n",
       "C                 0.16                     0.30\n",
       "D                 0.12                     0.15\n",
       "F                 0.12                     0.17"
      ]
     },
     "execution_count": 62,
     "metadata": {},
     "output_type": "execute_result"
    }
   ],
   "source": [
    "# build a dataframe with the data as above. \n",
    "# If you used the num_A code above you would replace \n",
    "# sample_grades['A'] with num_A and so on.\n",
    "\n",
    "sample_distribution = pd.DataFrame([ [sample_grades['A']/size, sample_grades['B']/size, \n",
    "                                      sample_grades['C']/size, sample_grades['D']/size, \n",
    "                                      sample_grades['F']/size], [0.11, 0.27, 0.30, 0.15, 0.17]], \n",
    "                             index = ['Sample Distribution', 'Population Distribution'], \n",
    "                             columns = ['A', 'B', 'C', 'D', 'F']).transpose()\n",
    "sample_distribution"
   ]
  },
  {
   "cell_type": "code",
   "execution_count": 63,
   "metadata": {},
   "outputs": [
    {
     "data": {
      "text/html": [
       "<div>\n",
       "<style scoped>\n",
       "    .dataframe tbody tr th:only-of-type {\n",
       "        vertical-align: middle;\n",
       "    }\n",
       "\n",
       "    .dataframe tbody tr th {\n",
       "        vertical-align: top;\n",
       "    }\n",
       "\n",
       "    .dataframe thead th {\n",
       "        text-align: right;\n",
       "    }\n",
       "</style>\n",
       "<table border=\"1\" class=\"dataframe\">\n",
       "  <thead>\n",
       "    <tr style=\"text-align: right;\">\n",
       "      <th></th>\n",
       "      <th>Sample Distribution</th>\n",
       "      <th>Population Distribution</th>\n",
       "      <th>Deviation</th>\n",
       "    </tr>\n",
       "  </thead>\n",
       "  <tbody>\n",
       "    <tr>\n",
       "      <th>A</th>\n",
       "      <td>0.08</td>\n",
       "      <td>0.11</td>\n",
       "      <td>0.03</td>\n",
       "    </tr>\n",
       "    <tr>\n",
       "      <th>B</th>\n",
       "      <td>0.52</td>\n",
       "      <td>0.27</td>\n",
       "      <td>-0.25</td>\n",
       "    </tr>\n",
       "    <tr>\n",
       "      <th>C</th>\n",
       "      <td>0.16</td>\n",
       "      <td>0.30</td>\n",
       "      <td>0.14</td>\n",
       "    </tr>\n",
       "    <tr>\n",
       "      <th>D</th>\n",
       "      <td>0.12</td>\n",
       "      <td>0.15</td>\n",
       "      <td>0.03</td>\n",
       "    </tr>\n",
       "    <tr>\n",
       "      <th>F</th>\n",
       "      <td>0.12</td>\n",
       "      <td>0.17</td>\n",
       "      <td>0.05</td>\n",
       "    </tr>\n",
       "  </tbody>\n",
       "</table>\n",
       "</div>"
      ],
      "text/plain": [
       "   Sample Distribution  Population Distribution  Deviation\n",
       "A                 0.08                     0.11       0.03\n",
       "B                 0.52                     0.27      -0.25\n",
       "C                 0.16                     0.30       0.14\n",
       "D                 0.12                     0.15       0.03\n",
       "F                 0.12                     0.17       0.05"
      ]
     },
     "execution_count": 63,
     "metadata": {},
     "output_type": "execute_result"
    }
   ],
   "source": [
    "# Make a third column with the deviations for each grade\n",
    "\n",
    "sample_distribution.loc[:, 'Deviation'] = sample_distribution.loc[:, 'Population Distribution'] - sample_distribution.loc[:, 'Sample Distribution']\n",
    "\n",
    "sample_distribution"
   ]
  },
  {
   "cell_type": "code",
   "execution_count": 64,
   "metadata": {},
   "outputs": [
    {
     "data": {
      "text/plain": [
       "0.5000000000000001"
      ]
     },
     "execution_count": 64,
     "metadata": {},
     "output_type": "execute_result"
    }
   ],
   "source": [
    "# Find the total deviation for this sample:\n",
    "\n",
    "sample_distribution.iloc[:, -1].abs().sum()"
   ]
  },
  {
   "cell_type": "markdown",
   "metadata": {},
   "source": [
    "So that's the process. Now we just need to do it a thousand times. Let's put all of this into a function:"
   ]
  },
  {
   "cell_type": "code",
   "execution_count": 76,
   "metadata": {},
   "outputs": [],
   "source": [
    "def experiment(N, s=size, population=sim_population):\n",
    "    \n",
    "    # Make a dataframe to collect the results\n",
    "    result = pd.DataFrame([], columns=['Sample Total Deviation'])\n",
    "    \n",
    "    \n",
    "    # run the experiment k times\n",
    "    for k in range(N):\n",
    "    \n",
    "        # build the sample with repeats (note it MUST be repeats for this problem)\n",
    "        sample = random.choices(sim_population, k=s)\n",
    "    \n",
    "        # Compute the distribution of grades in our sample\n",
    "        sample_grades = {'A':0, 'B':0, 'C':0, 'D':0, 'F':0}\n",
    "        for grade in ['A', 'B', 'C', 'D', 'F']:\n",
    "            sample_grades[grade] = len([x for x in sample if x==grade])\n",
    "      \n",
    "        # build a data frame summarizing our results.\n",
    "        # Note this is not strictly necessary, we could just compute the thing we care about, however\n",
    "        # we have the dataframe and it is small enough there is no memory advantage to not using it.\n",
    "        sample_distribution = pd.DataFrame([ [sample_grades['A']/s, sample_grades['B']/s, \n",
    "                                      sample_grades['C']/s, sample_grades['D']/s, \n",
    "                                      sample_grades['F']/s], [0.11, 0.27, 0.30, 0.15, 0.17]], \n",
    "                             index = ['Sample Distribution', 'Population Distribution'], \n",
    "                             columns = ['A', 'B', 'C', 'D', 'F']).transpose()\n",
    "    \n",
    "        # Compute the sample deviation - note this is the one disadvantage of doing this with a DataFrame\n",
    "        # the commands are too long and overrun the margins.\n",
    "        sample_distribution.loc[:, 'Deviation'] = sample_distribution.loc[:, 'Population Distribution'] - sample_distribution.loc[:, 'Sample Distribution']\n",
    "    \n",
    "        # add up the total deviation and put it into our result DataFrame\n",
    "        result.loc[k, 'Sample Total Deviation'] =  sample_distribution.iloc[:, -1].abs().sum()\n",
    "        \n",
    "    # return the result DataFrame\n",
    "    return result \n",
    "    "
   ]
  },
  {
   "cell_type": "code",
   "execution_count": 77,
   "metadata": {},
   "outputs": [
    {
     "data": {
      "text/html": [
       "<div>\n",
       "<style scoped>\n",
       "    .dataframe tbody tr th:only-of-type {\n",
       "        vertical-align: middle;\n",
       "    }\n",
       "\n",
       "    .dataframe tbody tr th {\n",
       "        vertical-align: top;\n",
       "    }\n",
       "\n",
       "    .dataframe thead th {\n",
       "        text-align: right;\n",
       "    }\n",
       "</style>\n",
       "<table border=\"1\" class=\"dataframe\">\n",
       "  <thead>\n",
       "    <tr style=\"text-align: right;\">\n",
       "      <th></th>\n",
       "      <th>Sample Total Deviation</th>\n",
       "    </tr>\n",
       "  </thead>\n",
       "  <tbody>\n",
       "    <tr>\n",
       "      <th>0</th>\n",
       "      <td>0.32</td>\n",
       "    </tr>\n",
       "    <tr>\n",
       "      <th>1</th>\n",
       "      <td>0.58</td>\n",
       "    </tr>\n",
       "    <tr>\n",
       "      <th>2</th>\n",
       "      <td>0.22</td>\n",
       "    </tr>\n",
       "    <tr>\n",
       "      <th>3</th>\n",
       "      <td>0.24</td>\n",
       "    </tr>\n",
       "    <tr>\n",
       "      <th>4</th>\n",
       "      <td>0.38</td>\n",
       "    </tr>\n",
       "    <tr>\n",
       "      <th>...</th>\n",
       "      <td>...</td>\n",
       "    </tr>\n",
       "    <tr>\n",
       "      <th>995</th>\n",
       "      <td>0.2</td>\n",
       "    </tr>\n",
       "    <tr>\n",
       "      <th>996</th>\n",
       "      <td>0.5</td>\n",
       "    </tr>\n",
       "    <tr>\n",
       "      <th>997</th>\n",
       "      <td>0.28</td>\n",
       "    </tr>\n",
       "    <tr>\n",
       "      <th>998</th>\n",
       "      <td>0.56</td>\n",
       "    </tr>\n",
       "    <tr>\n",
       "      <th>999</th>\n",
       "      <td>0.58</td>\n",
       "    </tr>\n",
       "  </tbody>\n",
       "</table>\n",
       "<p>1000 rows × 1 columns</p>\n",
       "</div>"
      ],
      "text/plain": [
       "    Sample Total Deviation\n",
       "0                     0.32\n",
       "1                     0.58\n",
       "2                     0.22\n",
       "3                     0.24\n",
       "4                     0.38\n",
       "..                     ...\n",
       "995                    0.2\n",
       "996                    0.5\n",
       "997                   0.28\n",
       "998                   0.56\n",
       "999                   0.58\n",
       "\n",
       "[1000 rows x 1 columns]"
      ]
     },
     "execution_count": 77,
     "metadata": {},
     "output_type": "execute_result"
    }
   ],
   "source": [
    "result = experiment(1000)\n",
    "result"
   ]
  },
  {
   "cell_type": "code",
   "execution_count": 78,
   "metadata": {},
   "outputs": [
    {
     "data": {
      "text/plain": [
       "<AxesSubplot:ylabel='Count'>"
      ]
     },
     "execution_count": 78,
     "metadata": {},
     "output_type": "execute_result"
    },
    {
     "data": {
      "image/png": "[encoded data removed]",
      "text/plain": [
       "<Figure size 432x288 with 1 Axes>"
      ]
     },
     "metadata": {
      "needs_background": "light"
     },
     "output_type": "display_data"
    }
   ],
   "source": [
    "sns.histplot(data=result, bins=20)"
   ]
  },
  {
   "cell_type": "code",
   "execution_count": 79,
   "metadata": {},
   "outputs": [
    {
     "data": {
      "text/plain": [
       "<AxesSubplot:xlabel='Sample Total Deviation'>"
      ]
     },
     "execution_count": 79,
     "metadata": {},
     "output_type": "execute_result"
    },
    {
     "data": {
      "image/png": "[encoded data removed]",
      "text/plain": [
       "<Figure size 432x288 with 1 Axes>"
      ]
     },
     "metadata": {
      "needs_background": "light"
     },
     "output_type": "display_data"
    }
   ],
   "source": [
    "sns.boxplot(data=result, x='Sample Total Deviation')"
   ]
  },
  {
   "cell_type": "code",
   "execution_count": 80,
   "metadata": {},
   "outputs": [
    {
     "data": {
      "text/plain": [
       "39"
      ]
     },
     "execution_count": 80,
     "metadata": {},
     "output_type": "execute_result"
    }
   ],
   "source": [
    "sum(result.iloc[:, 0] > 0.5)"
   ]
  },
  {
   "cell_type": "markdown",
   "metadata": {},
   "source": [
    "Note as I was prepping this class this result was bouncing around from 6 or 7% to 3.9% of the samples had a sample total deviation greater than 0.5. This indicates we should run the experiment more before trying to make a conclusion - if we are going to use 5% as our decision boundary."
   ]
  },
  {
   "cell_type": "markdown",
   "metadata": {},
   "source": [
    "## Note again that we observe sample variability decrease as sample size increases\n",
    "\n",
    "Larger samples are more and more likely to look like the population (especially with replacement)."
   ]
  },
  {
   "cell_type": "code",
   "execution_count": 81,
   "metadata": {},
   "outputs": [
    {
     "data": {
      "text/plain": [
       "<AxesSubplot:ylabel='Count'>"
      ]
     },
     "execution_count": 81,
     "metadata": {},
     "output_type": "execute_result"
    },
    {
     "data": {
      "image/png": "[encoded data removed]",
      "text/plain": [
       "<Figure size 432x288 with 1 Axes>"
      ]
     },
     "metadata": {
      "needs_background": "light"
     },
     "output_type": "display_data"
    }
   ],
   "source": [
    "result = experiment(1000, s=50)\n",
    "sns.histplot(data=result, bins=20)"
   ]
  },
  {
   "cell_type": "code",
   "execution_count": 82,
   "metadata": {},
   "outputs": [
    {
     "data": {
      "text/plain": [
       "<AxesSubplot:xlabel='Sample Total Deviation'>"
      ]
     },
     "execution_count": 82,
     "metadata": {},
     "output_type": "execute_result"
    },
    {
     "data": {
      "image/png": "[encoded data removed]",
      "text/plain": [
       "<Figure size 432x288 with 1 Axes>"
      ]
     },
     "metadata": {
      "needs_background": "light"
     },
     "output_type": "display_data"
    }
   ],
   "source": [
    "sns.boxplot(data=result, x='Sample Total Deviation')"
   ]
  },
  {
   "cell_type": "code",
   "execution_count": 83,
   "metadata": {},
   "outputs": [
    {
     "data": {
      "text/html": [
       "<div>\n",
       "<style scoped>\n",
       "    .dataframe tbody tr th:only-of-type {\n",
       "        vertical-align: middle;\n",
       "    }\n",
       "\n",
       "    .dataframe tbody tr th {\n",
       "        vertical-align: top;\n",
       "    }\n",
       "\n",
       "    .dataframe thead th {\n",
       "        text-align: right;\n",
       "    }\n",
       "</style>\n",
       "<table border=\"1\" class=\"dataframe\">\n",
       "  <thead>\n",
       "    <tr style=\"text-align: right;\">\n",
       "      <th></th>\n",
       "      <th>Sample Total Deviation</th>\n",
       "    </tr>\n",
       "  </thead>\n",
       "  <tbody>\n",
       "    <tr>\n",
       "      <th>0</th>\n",
       "      <td>0.2</td>\n",
       "    </tr>\n",
       "    <tr>\n",
       "      <th>1</th>\n",
       "      <td>0.14</td>\n",
       "    </tr>\n",
       "    <tr>\n",
       "      <th>2</th>\n",
       "      <td>0.3</td>\n",
       "    </tr>\n",
       "    <tr>\n",
       "      <th>3</th>\n",
       "      <td>0.26</td>\n",
       "    </tr>\n",
       "    <tr>\n",
       "      <th>4</th>\n",
       "      <td>0.3</td>\n",
       "    </tr>\n",
       "    <tr>\n",
       "      <th>...</th>\n",
       "      <td>...</td>\n",
       "    </tr>\n",
       "    <tr>\n",
       "      <th>995</th>\n",
       "      <td>0.34</td>\n",
       "    </tr>\n",
       "    <tr>\n",
       "      <th>996</th>\n",
       "      <td>0.12</td>\n",
       "    </tr>\n",
       "    <tr>\n",
       "      <th>997</th>\n",
       "      <td>0.12</td>\n",
       "    </tr>\n",
       "    <tr>\n",
       "      <th>998</th>\n",
       "      <td>0.16</td>\n",
       "    </tr>\n",
       "    <tr>\n",
       "      <th>999</th>\n",
       "      <td>0.4</td>\n",
       "    </tr>\n",
       "  </tbody>\n",
       "</table>\n",
       "<p>1000 rows × 1 columns</p>\n",
       "</div>"
      ],
      "text/plain": [
       "    Sample Total Deviation\n",
       "0                      0.2\n",
       "1                     0.14\n",
       "2                      0.3\n",
       "3                     0.26\n",
       "4                      0.3\n",
       "..                     ...\n",
       "995                   0.34\n",
       "996                   0.12\n",
       "997                   0.12\n",
       "998                   0.16\n",
       "999                    0.4\n",
       "\n",
       "[1000 rows x 1 columns]"
      ]
     },
     "execution_count": 83,
     "metadata": {},
     "output_type": "execute_result"
    }
   ],
   "source": [
    "result"
   ]
  },
  {
   "cell_type": "code",
   "execution_count": null,
   "metadata": {},
   "outputs": [],
   "source": []
  }
 ],
 "metadata": {
  "kernelspec": {
   "display_name": "Python 3",
   "language": "python",
   "name": "python3"
  },
  "language_info": {
   "codemirror_mode": {
    "name": "ipython",
    "version": 3
   },
   "file_extension": ".py",
   "mimetype": "text/x-python",
   "name": "python",
   "nbconvert_exporter": "python",
   "pygments_lexer": "ipython3",
   "version": "3.7.4"
  }
 },
 "nbformat": 4,
 "nbformat_minor": 4
}
