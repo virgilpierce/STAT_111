{
 "cells": [
  {
   "cell_type": "code",
   "execution_count": null,
   "metadata": {},
   "outputs": [],
   "source": [
    "# import our standard set of packages\n",
    "\n",
    "import pandas as pd\n",
    "import numpy as np\n",
    "import seaborn \n",
    "import matplotlib.pyplot as plt"
   ]
  },
  {
   "cell_type": "markdown",
   "metadata": {},
   "source": [
    "# 5-6: Lists, Sets and DataFrames\n",
    "\n",
    "Most of the additional data types in Python are constructed by combinations of the numbers and strings we saw in our last class. Three important ones are \n",
    "\n",
    "- lists (which you should think of as sequences of numbers or strings), \n",
    "- sets (which are like lists except that order does not matter and duplicates are not allowed), and\n",
    "- DataFrames.\n",
    "\n",
    "DataFrames are pandas objects specifically for working with data. You should think of them as two dimensional lists.\n"
   ]
  },
  {
   "cell_type": "markdown",
   "metadata": {},
   "source": [
    "## Lists\n",
    "\n",
    "Lists are a data type that is built from others. They will take any other Python object in their parts, and you can even mix objects (though you should have a very good reason for doing so). For lists the order matters and the same object can appear in multiple places"
   ]
  },
  {
   "cell_type": "code",
   "execution_count": null,
   "metadata": {},
   "outputs": [],
   "source": [
    "x = [2, 3, 4, 5]\n",
    "x"
   ]
  },
  {
   "cell_type": "code",
   "execution_count": null,
   "metadata": {},
   "outputs": [],
   "source": [
    "y = ['dog', 'cat', 'pig', 'cow']\n",
    "y"
   ]
  },
  {
   "cell_type": "markdown",
   "metadata": {},
   "source": [
    "The elements of a list can be refered to individually. Because we do this so often, Python has some tricks which I will show a few of here.\n",
    "\n",
    "**Note the important convention that 0 is the first element of a list**"
   ]
  },
  {
   "cell_type": "code",
   "execution_count": null,
   "metadata": {},
   "outputs": [],
   "source": [
    "# first element of x\n",
    "\n",
    "x[0]"
   ]
  },
  {
   "cell_type": "code",
   "execution_count": null,
   "metadata": {},
   "outputs": [],
   "source": [
    "# last element of y\n",
    "\n",
    "y[-1]"
   ]
  },
  {
   "cell_type": "code",
   "execution_count": null,
   "metadata": {},
   "outputs": [],
   "source": [
    "# first two elements of x, note that the 0 can be left off (try it)\n",
    "\n",
    "x[1:3]"
   ]
  },
  {
   "cell_type": "code",
   "execution_count": null,
   "metadata": {},
   "outputs": [],
   "source": [
    "# last three elements of y, note Python knows where the list ends.\n",
    "\n",
    "y[-3:]"
   ]
  },
  {
   "cell_type": "code",
   "execution_count": null,
   "metadata": {},
   "outputs": [],
   "source": [
    "# the 2nd and third element of y\n",
    "\n",
    "y[1:3]"
   ]
  },
  {
   "cell_type": "markdown",
   "metadata": {},
   "source": [
    "Strings are actually lists of characters with one important difference:"
   ]
  },
  {
   "cell_type": "code",
   "execution_count": null,
   "metadata": {},
   "outputs": [],
   "source": [
    "full_name = 'Melville, Herman'\n",
    "full_name[:5]"
   ]
  },
  {
   "cell_type": "markdown",
   "metadata": {},
   "source": [
    "Lists are mutable. You can change one of the entries and it updates the list:"
   ]
  },
  {
   "cell_type": "code",
   "execution_count": null,
   "metadata": {},
   "outputs": [],
   "source": [
    "x"
   ]
  },
  {
   "cell_type": "code",
   "execution_count": null,
   "metadata": {},
   "outputs": [],
   "source": [
    "x[0]=1\n",
    "x"
   ]
  },
  {
   "cell_type": "markdown",
   "metadata": {},
   "source": [
    "However that feature has been turned off for strings"
   ]
  },
  {
   "cell_type": "code",
   "execution_count": null,
   "metadata": {},
   "outputs": [],
   "source": [
    "full_name[0]='N'"
   ]
  },
  {
   "cell_type": "markdown",
   "metadata": {},
   "source": [
    "### Lists can be combined with each other"
   ]
  },
  {
   "cell_type": "code",
   "execution_count": null,
   "metadata": {},
   "outputs": [],
   "source": [
    "x, y"
   ]
  },
  {
   "cell_type": "code",
   "execution_count": null,
   "metadata": {},
   "outputs": [],
   "source": [
    "y + x"
   ]
  },
  {
   "cell_type": "markdown",
   "metadata": {},
   "source": [
    "We can do some operations on lists.\n",
    "\n",
    "Note in practice we won't do it this way. We will read the data into a dataframe and then make a list from that."
   ]
  },
  {
   "cell_type": "code",
   "execution_count": null,
   "metadata": {},
   "outputs": [],
   "source": [
    "temperature = [54, 54, 52, 52, 52, 50, 48, 50, 48, 48, 48, 50, 50, 50, 50, 48, 48, 48, 50, \n",
    "               52, 54, 54, 54, 54, 57, 61, 63, 66, 68, 70, 72, 73, 75, 75, 79, 79, 81, 81,\n",
    "               81, 81, 82, 84, 84, 86, 86, 86, 86, 88, 84, 84, 84, 82, 84, 82, 82, 82, 82,\n",
    "               81, 79, 79, 73, 70, 70, 70, 70, 68, 66, 64, 63, 63, 63]"
   ]
  },
  {
   "cell_type": "code",
   "execution_count": null,
   "metadata": {},
   "outputs": [],
   "source": [
    "# Every fourth element\n",
    "\n",
    "temperature[0:-1:4]"
   ]
  },
  {
   "cell_type": "code",
   "execution_count": null,
   "metadata": {},
   "outputs": [],
   "source": [
    "# Length of the list\n",
    "\n",
    "len(temperature)"
   ]
  },
  {
   "cell_type": "code",
   "execution_count": null,
   "metadata": {},
   "outputs": [],
   "source": [
    "# sum of the list\n",
    "\n",
    "sum(temperature)"
   ]
  },
  {
   "cell_type": "code",
   "execution_count": null,
   "metadata": {},
   "outputs": [],
   "source": [
    "# two ways to get the mean temperature\n",
    "\n",
    "sum(temperature)/len(temperature), np.mean(temperature)"
   ]
  },
  {
   "cell_type": "code",
   "execution_count": null,
   "metadata": {},
   "outputs": [],
   "source": [
    "# max and min\n",
    "\n",
    "max(temperature), min(temperature)"
   ]
  },
  {
   "cell_type": "markdown",
   "metadata": {},
   "source": [
    "## List Generators\n",
    "\n",
    "An important construction in Python is called the list generator. This is a method of building a list from an existing one. Here is an example, let's conver the temperature data we have, which is in Farenheit, into Celsius.\n",
    "\n",
    "The formula for that conversion is:  $$ C = \\frac{5 (F - 32)}{9} $$"
   ]
  },
  {
   "cell_type": "code",
   "execution_count": null,
   "metadata": {},
   "outputs": [],
   "source": [
    "temp_C = [ 5*(F-32)/9 for F in temperature ]\n",
    "temp_C"
   ]
  },
  {
   "cell_type": "markdown",
   "metadata": {},
   "source": [
    "We can even add conditions to the generator:"
   ]
  },
  {
   "cell_type": "code",
   "execution_count": null,
   "metadata": {},
   "outputs": [],
   "source": [
    "names = ['dog', 'cat', 'goat', 'doggo', 'dogs', 'farmer', 'dog dad', 'big dog']\n",
    "[x for x in names if 'dog' in x]"
   ]
  },
  {
   "cell_type": "markdown",
   "metadata": {},
   "source": [
    "Again note the remarkable thing with Python, that if you read the statement outloud, it is doing exactly what it says it is doing."
   ]
  },
  {
   "cell_type": "markdown",
   "metadata": {},
   "source": [
    "## Sets and Dataframes\n",
    "\n",
    "We will not do too much with sets. The main use for our class is to find all of the unique entries in a column for a dataframe - i.e. we make use of the property sets have of not allowing duplicates.\n",
    "\n",
    "Dataframes we have already had an introduction to. There is really too much in Pandas for us to completely cover it so I would send you to check the [Pandas help documentation](https://pandas.pydata.org/docs/)."
   ]
  },
  {
   "cell_type": "code",
   "execution_count": null,
   "metadata": {},
   "outputs": [],
   "source": [
    "set(['dog', 'dog', 'dog', 'cow'])"
   ]
  },
  {
   "cell_type": "code",
   "execution_count": null,
   "metadata": {},
   "outputs": [],
   "source": []
  }
 ],
 "metadata": {
  "kernelspec": {
   "display_name": "Python 3",
   "language": "python",
   "name": "python3"
  },
  "language_info": {
   "codemirror_mode": {
    "name": "ipython",
    "version": 3
   },
   "file_extension": ".py",
   "mimetype": "text/x-python",
   "name": "python",
   "nbconvert_exporter": "python",
   "pygments_lexer": "ipython3",
   "version": "3.7.4"
  }
 },
 "nbformat": 4,
 "nbformat_minor": 2
}
