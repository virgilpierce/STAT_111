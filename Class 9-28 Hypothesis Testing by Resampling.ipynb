{
 "cells": [
  {
   "cell_type": "code",
   "execution_count": null,
   "metadata": {},
   "outputs": [],
   "source": [
    "import pandas as pd\n",
    "import seaborn as sns\n",
    "import numpy as np\n",
    "import matplotlib.pyplot as plt"
   ]
  },
  {
   "cell_type": "code",
   "execution_count": 41,
   "metadata": {},
   "outputs": [
    {
     "data": {
      "text/html": [
       "<div>\n",
       "<style scoped>\n",
       "    .dataframe tbody tr th:only-of-type {\n",
       "        vertical-align: middle;\n",
       "    }\n",
       "\n",
       "    .dataframe tbody tr th {\n",
       "        vertical-align: top;\n",
       "    }\n",
       "\n",
       "    .dataframe thead th {\n",
       "        text-align: right;\n",
       "    }\n",
       "</style>\n",
       "<table border=\"1\" class=\"dataframe\">\n",
       "  <thead>\n",
       "    <tr style=\"text-align: right;\">\n",
       "      <th></th>\n",
       "      <th>Name</th>\n",
       "      <th>Team</th>\n",
       "      <th>Position</th>\n",
       "      <th>Height(inches)</th>\n",
       "      <th>Weight(pounds)</th>\n",
       "      <th>Age</th>\n",
       "    </tr>\n",
       "  </thead>\n",
       "  <tbody>\n",
       "    <tr>\n",
       "      <th>0</th>\n",
       "      <td>Adam_Donachie</td>\n",
       "      <td>BAL</td>\n",
       "      <td>Catcher</td>\n",
       "      <td>74</td>\n",
       "      <td>180.0</td>\n",
       "      <td>22.99</td>\n",
       "    </tr>\n",
       "    <tr>\n",
       "      <th>1</th>\n",
       "      <td>Paul_Bako</td>\n",
       "      <td>BAL</td>\n",
       "      <td>Catcher</td>\n",
       "      <td>74</td>\n",
       "      <td>215.0</td>\n",
       "      <td>34.69</td>\n",
       "    </tr>\n",
       "    <tr>\n",
       "      <th>2</th>\n",
       "      <td>Ramon_Hernandez</td>\n",
       "      <td>BAL</td>\n",
       "      <td>Catcher</td>\n",
       "      <td>72</td>\n",
       "      <td>210.0</td>\n",
       "      <td>30.78</td>\n",
       "    </tr>\n",
       "    <tr>\n",
       "      <th>3</th>\n",
       "      <td>Kevin_Millar</td>\n",
       "      <td>BAL</td>\n",
       "      <td>First_Baseman</td>\n",
       "      <td>72</td>\n",
       "      <td>210.0</td>\n",
       "      <td>35.43</td>\n",
       "    </tr>\n",
       "    <tr>\n",
       "      <th>4</th>\n",
       "      <td>Chris_Gomez</td>\n",
       "      <td>BAL</td>\n",
       "      <td>First_Baseman</td>\n",
       "      <td>73</td>\n",
       "      <td>188.0</td>\n",
       "      <td>35.71</td>\n",
       "    </tr>\n",
       "    <tr>\n",
       "      <th>...</th>\n",
       "      <td>...</td>\n",
       "      <td>...</td>\n",
       "      <td>...</td>\n",
       "      <td>...</td>\n",
       "      <td>...</td>\n",
       "      <td>...</td>\n",
       "    </tr>\n",
       "    <tr>\n",
       "      <th>1029</th>\n",
       "      <td>Brad_Thompson</td>\n",
       "      <td>STL</td>\n",
       "      <td>Relief_Pitcher</td>\n",
       "      <td>73</td>\n",
       "      <td>190.0</td>\n",
       "      <td>25.08</td>\n",
       "    </tr>\n",
       "    <tr>\n",
       "      <th>1030</th>\n",
       "      <td>Tyler_Johnson</td>\n",
       "      <td>STL</td>\n",
       "      <td>Relief_Pitcher</td>\n",
       "      <td>74</td>\n",
       "      <td>180.0</td>\n",
       "      <td>25.73</td>\n",
       "    </tr>\n",
       "    <tr>\n",
       "      <th>1031</th>\n",
       "      <td>Chris_Narveson</td>\n",
       "      <td>STL</td>\n",
       "      <td>Relief_Pitcher</td>\n",
       "      <td>75</td>\n",
       "      <td>205.0</td>\n",
       "      <td>25.19</td>\n",
       "    </tr>\n",
       "    <tr>\n",
       "      <th>1032</th>\n",
       "      <td>Randy_Keisler</td>\n",
       "      <td>STL</td>\n",
       "      <td>Relief_Pitcher</td>\n",
       "      <td>75</td>\n",
       "      <td>190.0</td>\n",
       "      <td>31.01</td>\n",
       "    </tr>\n",
       "    <tr>\n",
       "      <th>1033</th>\n",
       "      <td>Josh_Kinney</td>\n",
       "      <td>STL</td>\n",
       "      <td>Relief_Pitcher</td>\n",
       "      <td>73</td>\n",
       "      <td>195.0</td>\n",
       "      <td>27.92</td>\n",
       "    </tr>\n",
       "  </tbody>\n",
       "</table>\n",
       "<p>1034 rows × 6 columns</p>\n",
       "</div>"
      ],
      "text/plain": [
       "                 Name Team        Position  Height(inches)  Weight(pounds)  \\\n",
       "0       Adam_Donachie  BAL         Catcher              74           180.0   \n",
       "1           Paul_Bako  BAL         Catcher              74           215.0   \n",
       "2     Ramon_Hernandez  BAL         Catcher              72           210.0   \n",
       "3        Kevin_Millar  BAL   First_Baseman              72           210.0   \n",
       "4         Chris_Gomez  BAL   First_Baseman              73           188.0   \n",
       "...               ...  ...             ...             ...             ...   \n",
       "1029    Brad_Thompson  STL  Relief_Pitcher              73           190.0   \n",
       "1030    Tyler_Johnson  STL  Relief_Pitcher              74           180.0   \n",
       "1031   Chris_Narveson  STL  Relief_Pitcher              75           205.0   \n",
       "1032    Randy_Keisler  STL  Relief_Pitcher              75           190.0   \n",
       "1033      Josh_Kinney  STL  Relief_Pitcher              73           195.0   \n",
       "\n",
       "        Age  \n",
       "0     22.99  \n",
       "1     34.69  \n",
       "2     30.78  \n",
       "3     35.43  \n",
       "4     35.71  \n",
       "...     ...  \n",
       "1029  25.08  \n",
       "1030  25.73  \n",
       "1031  25.19  \n",
       "1032  31.01  \n",
       "1033  27.92  \n",
       "\n",
       "[1034 rows x 6 columns]"
      ]
     },
     "execution_count": 41,
     "metadata": {},
     "output_type": "execute_result"
    }
   ],
   "source": [
    "baseball_url = 'https://drive.google.com/uc?export=download&id=1-4lEGbDkQi8Wy6h940tpbiMmcfQFxq8E'\n",
    "baseball = pd.read_csv(baseball_url)\n",
    "baseball"
   ]
  },
  {
   "cell_type": "markdown",
   "metadata": {},
   "source": [
    "What we want to do is study Pitchers and NotPitchers and see what the differences are."
   ]
  },
  {
   "cell_type": "code",
   "execution_count": 43,
   "metadata": {},
   "outputs": [
    {
     "data": {
      "text/plain": [
       "{'Catcher',\n",
       " 'Designated_Hitter',\n",
       " 'First_Baseman',\n",
       " 'Outfielder',\n",
       " 'Relief_Pitcher',\n",
       " 'Second_Baseman',\n",
       " 'Shortstop',\n",
       " 'Starting_Pitcher',\n",
       " 'Third_Baseman'}"
      ]
     },
     "execution_count": 43,
     "metadata": {},
     "output_type": "execute_result"
    }
   ],
   "source": [
    "# First we recode the Position to Pitcher and not Pitcher. We do this with a dictionary.\n",
    "\n",
    "pos = set(baseball.loc[:, 'Position'])\n",
    "pos"
   ]
  },
  {
   "cell_type": "code",
   "execution_count": 51,
   "metadata": {},
   "outputs": [
    {
     "data": {
      "text/plain": [
       "{'Starting_Pitcher': 'Pitcher',\n",
       " 'Relief_Pitcher': 'Pitcher',\n",
       " 'Third_Baseman': 'NotPitcher',\n",
       " 'Catcher': 'NotPitcher',\n",
       " 'Shortstop': 'NotPitcher',\n",
       " 'Second_Baseman': 'NotPitcher',\n",
       " 'Designated_Hitter': 'NotPitcher',\n",
       " 'First_Baseman': 'NotPitcher',\n",
       " 'Outfielder': 'NotPitcher'}"
      ]
     },
     "execution_count": 51,
     "metadata": {},
     "output_type": "execute_result"
    }
   ],
   "source": [
    "recode_pitch = { x:'Pitcher' for x in pos if 'Pitcher' in x }\n",
    "# First for any position which has the word Pitcher, we recode that to just be Pitcher.\n",
    "\n",
    "recode_pitch.update({ x:'NotPitcher' for x in pos if not 'Pitcher' in x})\n",
    "# Then recode the ones that do not use the word Pitcher\n",
    "\n",
    "# Python lets us update dictionaries.\n",
    "recode_pitch"
   ]
  },
  {
   "cell_type": "code",
   "execution_count": 52,
   "metadata": {},
   "outputs": [
    {
     "data": {
      "text/plain": [
       "0       NotPitcher\n",
       "1       NotPitcher\n",
       "2       NotPitcher\n",
       "3       NotPitcher\n",
       "4       NotPitcher\n",
       "           ...    \n",
       "1029       Pitcher\n",
       "1030       Pitcher\n",
       "1031       Pitcher\n",
       "1032       Pitcher\n",
       "1033       Pitcher\n",
       "Name: Position, Length: 1034, dtype: object"
      ]
     },
     "execution_count": 52,
     "metadata": {},
     "output_type": "execute_result"
    }
   ],
   "source": [
    "# The map function applied to a series using a dictionary maps the values in the column through the dictionary.\n",
    "\n",
    "baseball.loc[:, 'Position'].map(recode_pitch)"
   ]
  },
  {
   "cell_type": "code",
   "execution_count": 54,
   "metadata": {},
   "outputs": [],
   "source": [
    "# So now fix the column\n",
    "baseball.loc[:, 'Position'] = baseball.loc[:, 'Position'].map(recode_pitch)"
   ]
  },
  {
   "cell_type": "code",
   "execution_count": 64,
   "metadata": {},
   "outputs": [
    {
     "data": {
      "text/plain": [
       "<AxesSubplot:xlabel='Height(inches)', ylabel='Count'>"
      ]
     },
     "execution_count": 64,
     "metadata": {},
     "output_type": "execute_result"
    },
    {
     "data": {
      "image/png": "[encoded data removed]",
      "text/plain": [
       "<Figure size 432x288 with 1 Axes>"
      ]
     },
     "metadata": {
      "needs_background": "light"
     },
     "output_type": "display_data"
    }
   ],
   "source": [
    "sns.histplot(data = baseball, x='Height(inches)', hue='Position', multiple='dodge')"
   ]
  },
  {
   "cell_type": "code",
   "execution_count": 66,
   "metadata": {},
   "outputs": [
    {
     "data": {
      "text/plain": [
       "<AxesSubplot:xlabel='Height(inches)', ylabel='Position'>"
      ]
     },
     "execution_count": 66,
     "metadata": {},
     "output_type": "execute_result"
    },
    {
     "data": {
      "image/png": "[encoded data removed]",
      "text/plain": [
       "<Figure size 432x288 with 1 Axes>"
      ]
     },
     "metadata": {
      "needs_background": "light"
     },
     "output_type": "display_data"
    }
   ],
   "source": [
    "sns.boxplot(data=baseball, x='Height(inches)', y='Position')"
   ]
  },
  {
   "cell_type": "markdown",
   "metadata": {},
   "source": [
    "Our question is:  Are Pitchers significiantly taller?"
   ]
  },
  {
   "cell_type": "code",
   "execution_count": 67,
   "metadata": {},
   "outputs": [
    {
     "data": {
      "text/html": [
       "<div>\n",
       "<style scoped>\n",
       "    .dataframe tbody tr th:only-of-type {\n",
       "        vertical-align: middle;\n",
       "    }\n",
       "\n",
       "    .dataframe tbody tr th {\n",
       "        vertical-align: top;\n",
       "    }\n",
       "\n",
       "    .dataframe thead th {\n",
       "        text-align: right;\n",
       "    }\n",
       "</style>\n",
       "<table border=\"1\" class=\"dataframe\">\n",
       "  <thead>\n",
       "    <tr style=\"text-align: right;\">\n",
       "      <th></th>\n",
       "      <th>Height(inches)</th>\n",
       "      <th>Weight(pounds)</th>\n",
       "      <th>Age</th>\n",
       "    </tr>\n",
       "    <tr>\n",
       "      <th>Position</th>\n",
       "      <th></th>\n",
       "      <th></th>\n",
       "      <th></th>\n",
       "    </tr>\n",
       "  </thead>\n",
       "  <tbody>\n",
       "    <tr>\n",
       "      <th>NotPitcher</th>\n",
       "      <td>72.815261</td>\n",
       "      <td>198.997992</td>\n",
       "      <td>29.083414</td>\n",
       "    </tr>\n",
       "    <tr>\n",
       "      <th>Pitcher</th>\n",
       "      <td>74.516791</td>\n",
       "      <td>204.194393</td>\n",
       "      <td>28.414590</td>\n",
       "    </tr>\n",
       "  </tbody>\n",
       "</table>\n",
       "</div>"
      ],
      "text/plain": [
       "            Height(inches)  Weight(pounds)        Age\n",
       "Position                                             \n",
       "NotPitcher       72.815261      198.997992  29.083414\n",
       "Pitcher          74.516791      204.194393  28.414590"
      ]
     },
     "execution_count": 67,
     "metadata": {},
     "output_type": "execute_result"
    }
   ],
   "source": [
    "baseball.groupby('Position').mean()"
   ]
  },
  {
   "cell_type": "code",
   "execution_count": 68,
   "metadata": {},
   "outputs": [
    {
     "data": {
      "text/html": [
       "<div>\n",
       "<style scoped>\n",
       "    .dataframe tbody tr th:only-of-type {\n",
       "        vertical-align: middle;\n",
       "    }\n",
       "\n",
       "    .dataframe tbody tr th {\n",
       "        vertical-align: top;\n",
       "    }\n",
       "\n",
       "    .dataframe thead th {\n",
       "        text-align: right;\n",
       "    }\n",
       "</style>\n",
       "<table border=\"1\" class=\"dataframe\">\n",
       "  <thead>\n",
       "    <tr style=\"text-align: right;\">\n",
       "      <th></th>\n",
       "      <th>Name</th>\n",
       "      <th>Team</th>\n",
       "      <th>Height(inches)</th>\n",
       "      <th>Weight(pounds)</th>\n",
       "      <th>Age</th>\n",
       "    </tr>\n",
       "    <tr>\n",
       "      <th>Position</th>\n",
       "      <th></th>\n",
       "      <th></th>\n",
       "      <th></th>\n",
       "      <th></th>\n",
       "      <th></th>\n",
       "    </tr>\n",
       "  </thead>\n",
       "  <tbody>\n",
       "    <tr>\n",
       "      <th>NotPitcher</th>\n",
       "      <td>498</td>\n",
       "      <td>498</td>\n",
       "      <td>498</td>\n",
       "      <td>498</td>\n",
       "      <td>498</td>\n",
       "    </tr>\n",
       "    <tr>\n",
       "      <th>Pitcher</th>\n",
       "      <td>536</td>\n",
       "      <td>536</td>\n",
       "      <td>536</td>\n",
       "      <td>535</td>\n",
       "      <td>536</td>\n",
       "    </tr>\n",
       "  </tbody>\n",
       "</table>\n",
       "</div>"
      ],
      "text/plain": [
       "            Name  Team  Height(inches)  Weight(pounds)  Age\n",
       "Position                                                   \n",
       "NotPitcher   498   498             498             498  498\n",
       "Pitcher      536   536             536             535  536"
      ]
     },
     "execution_count": 68,
     "metadata": {},
     "output_type": "execute_result"
    }
   ],
   "source": [
    "baseball.groupby('Position').count()"
   ]
  },
  {
   "cell_type": "code",
   "execution_count": 73,
   "metadata": {},
   "outputs": [
    {
     "data": {
      "text/plain": [
       "1034"
      ]
     },
     "execution_count": 73,
     "metadata": {},
     "output_type": "execute_result"
    }
   ],
   "source": [
    "498+536"
   ]
  },
  {
   "cell_type": "code",
   "execution_count": 69,
   "metadata": {},
   "outputs": [],
   "source": [
    "# We are going to need Python's pseudo random number generators to randomize our samples\n",
    "# Note that these are not truly random numbers. They start with a seed, and then algorithmically choose the results\n",
    "# This means, if you use the same seed, you get the same sequence.\n",
    "\n",
    "# These numbers though, as we change the seed, will behave like random numbers and share many of their properties.\n",
    "\n",
    "import random\n",
    "\n",
    "# the default is for random to use the system clock on your computer to get the seed, this because it uses seconds,\n",
    "# is unpredictiable enough for most applications\n",
    "\n",
    "# When testing your code, it can be useful to set the seed so the same sequence always happens\n",
    "# random.seed(123)"
   ]
  },
  {
   "cell_type": "code",
   "execution_count": 72,
   "metadata": {},
   "outputs": [
    {
     "data": {
      "text/plain": [
       "[0, 33, 11, 44, 44]"
      ]
     },
     "execution_count": 72,
     "metadata": {},
     "output_type": "execute_result"
    }
   ],
   "source": [
    "# Check what the command random.sample is doing\n",
    "\n",
    "random.sample([44, 55, 33, 33, 44, 22, 11, 11, 11, 11, 0, 0, 55, 55], 5)"
   ]
  },
  {
   "cell_type": "markdown",
   "metadata": {},
   "source": [
    "## Our Hypothesis: The mean height of pitchers at 74.5 inches is taller than non-Pitchers\n",
    "\n",
    "The alternative is that the sample of Pitchers being taller was just a result of randomly choosing 536 players out of 1034 ballplayers and just ending up with the taller ones. To see if this could actually be the case, what we are going to do is select sets of 536 ball players from our sample over and over computing the mean teach time, and see how often we end up with a mean of 74.5 inches or more.\n",
    "\n",
    "---\n",
    "\n",
    "In a traditional Statistics class you would explore this question by building up some formulas that you could then use to make a decision Yes/No that Nixon was more likely to grant pardons than the other presidents.  However with computing technology where it is today, there is now a better way. And provided that we run the experiment often enough it will give the same result as the traditional method.\n",
    "\n",
    "The idea is to actually run the experiment. What we will do is draw the set of petitions for Nixon over and over from a population that has 19.9% of them being acceptable to our \"idealized president\" and see how often the proportion gets close to the 50% acceptable that Nixon ended up with. What we will then have is an estimate of how likely it was that Nixon found himself in this position."
   ]
  },
  {
   "cell_type": "code",
   "execution_count": 74,
   "metadata": {},
   "outputs": [],
   "source": [
    "size = 536"
   ]
  },
  {
   "cell_type": "code",
   "execution_count": 77,
   "metadata": {},
   "outputs": [],
   "source": [
    "# Let's make this a function so we don't have to retype it all the time\n",
    "\n",
    "def experiment(N, s = size, population = list(baseball.loc[:, 'Height(inches)'])):\n",
    "    # N is the number of times to run the experiment\n",
    "    # s is a variable that will let us change the size of the sample to pull, the default value size is the number\n",
    "    # of petitions that Nixon received\n",
    "\n",
    "    result = pd.DataFrame([], columns = ['Mean Heights']) # Make a dataframe to catalogue the results\n",
    "    # Note I drop the size, because every sample will have the same size.\n",
    "    \n",
    "    for k in range(N):\n",
    "        \n",
    "        # random.choices(population, size)  \n",
    "        # use this command if we are sampling from the population with replacement\n",
    "    \n",
    "        sample = np.mean(random.sample(population, s))\n",
    "        # use this command if we are sampling from the population without replacement\n",
    "    \n",
    "        row = pd.DataFrame([sample], \n",
    "                       index = ['Mean Heights']).transpose()\n",
    "    \n",
    "        result = result.append(row)\n",
    "    \n",
    "    return result.reset_index().iloc[:, 1:]"
   ]
  },
  {
   "cell_type": "code",
   "execution_count": 81,
   "metadata": {},
   "outputs": [
    {
     "data": {
      "text/plain": [
       "<AxesSubplot:xlabel='Mean Heights', ylabel='Count'>"
      ]
     },
     "execution_count": 81,
     "metadata": {},
     "output_type": "execute_result"
    },
    {
     "data": {
      "image/png": "[encoded data removed]",
      "text/plain": [
       "<Figure size 432x288 with 1 Axes>"
      ]
     },
     "metadata": {
      "needs_background": "light"
     },
     "output_type": "display_data"
    }
   ],
   "source": [
    "result = experiment(1000)\n",
    "sns.histplot(data=result, x='Mean Heights')"
   ]
  },
  {
   "cell_type": "code",
   "execution_count": 82,
   "metadata": {},
   "outputs": [
    {
     "data": {
      "text/plain": [
       "<AxesSubplot:xlabel='Mean Heights'>"
      ]
     },
     "execution_count": 82,
     "metadata": {},
     "output_type": "execute_result"
    },
    {
     "data": {
      "image/png": "[encoded data removed]",
      "text/plain": [
       "<Figure size 432x288 with 1 Axes>"
      ]
     },
     "metadata": {
      "needs_background": "light"
     },
     "output_type": "display_data"
    }
   ],
   "source": [
    "sns.boxplot(data=result, x='Mean Heights')"
   ]
  },
  {
   "cell_type": "markdown",
   "metadata": {},
   "source": [
    "And we see that it never happened!  Which is actually remarkable given that there are many more pitchers than not pitchers."
   ]
  },
  {
   "cell_type": "markdown",
   "metadata": {},
   "source": [
    "### Warnings\n",
    "\n",
    "Some things to be careful of. If the number of non-pitchers was small this technique needs to be tweaked a bit. Changing to sampling with replacement is a first adjustment. But making predictions about small events is hard. Drug use data for example is problematic because the actual prevalence of some drugs in the general population is very low."
   ]
  },
  {
   "cell_type": "markdown",
   "metadata": {},
   "source": [
    "## Presidential Pardons Data\n",
    "\n",
    "I pulled this dataset from kaggle.com.  It is a list of the number of pardons petitions received and granted by US Presidents in the last 75 years."
   ]
  },
  {
   "cell_type": "code",
   "execution_count": null,
   "metadata": {},
   "outputs": [],
   "source": [
    "presidents_url = 'https://drive.google.com/uc?export=download&id=1U56rjU1el9mxuHp94a8tqUVuqMU4N1uk'\n",
    "presidents = pd.read_csv(presidents_url)\n",
    "presidents = presidents.iloc[:, [0, 4, 7]]\n",
    "presidents = presidents.groupby('President').sum().reset_index()\n",
    "presidents"
   ]
  },
  {
   "cell_type": "code",
   "execution_count": null,
   "metadata": {},
   "outputs": [],
   "source": [
    "presidents.loc[:, 'Proportion Granted'] = presidents.iloc[:, 2]/presidents.iloc[:, 1]\n",
    "presidents"
   ]
  },
  {
   "cell_type": "code",
   "execution_count": null,
   "metadata": {},
   "outputs": [],
   "source": [
    "# Total proportion of petitions granted\n",
    "\n",
    "percent_granted = presidents.iloc[:, 2].sum()/presidents.iloc[:, 1].sum()\n",
    "percent_granted"
   ]
  },
  {
   "cell_type": "code",
   "execution_count": null,
   "metadata": {},
   "outputs": [],
   "source": [
    "sns.barplot(x = 'Proportion Granted', y='President', data=presidents, color='lightblue');"
   ]
  },
  {
   "cell_type": "code",
   "execution_count": null,
   "metadata": {},
   "outputs": [],
   "source": [
    "size = int(presidents.loc[6, 'Petitions Received (Pardons)'])  # set the size of the sample to pull\n",
    "# Note I needed to convert this to int()\n",
    "\n",
    "total_petitions = int(presidents.loc[:, 'Petitions Received (Pardons)'].sum()) # Note I needed to convert these to int\n",
    "total_granted = int(presidents.loc[:, 'Pardons'].sum()) # Note I needed to convert these to int\n",
    "total_denied = total_petitions - total_granted # The other two are int, so this will be too.\n",
    "\n",
    "population = ['granted']*total_granted + ['denied']*total_denied\n",
    "# Note what we do here. We rebuild the entire population!  We can do this because with our computers, the \n",
    "# size of this thing does not matter until we get into the millions. There are other things to do, but \n",
    "# this idea of building the whole population and simmulating from it is the most generic.\n",
    "\n",
    "# Also note how easy it is to build our population in Python. \n",
    "# ['granted'] * total_granted make a list of length total_granted where each entry is 'granted'"
   ]
  },
  {
   "cell_type": "markdown",
   "metadata": {},
   "source": [
    "### Our Hypothesis:  Nixon granted an unusually large proportion of the pardon petitions he recieved.\n",
    "\n",
    "The alternative is that in fact Nixon just randomly recieved a larger proportion of acceptable pardons. \n",
    "\n",
    "Note things break a little bit here, as we are assuming in our alternative that who the president is does not have an affect on who decides to petition them. We should try to find out for example what was the mean sentence for the petitions that a president received. "
   ]
  },
  {
   "cell_type": "code",
   "execution_count": null,
   "metadata": {},
   "outputs": [],
   "source": [
    "# Let's make this a function so we don't have to retype it all the time\n",
    "\n",
    "def experiment(N, s = size):\n",
    "    # N is the number of times to run the experiment\n",
    "    # s is a variable that will let us change the size of the sample to pull, the default value size is the number\n",
    "    # of petitions that Nixon received\n",
    "\n",
    "    result = pd.DataFrame([], columns = ['Pardons', 'Proportion Granted']) # Make a dataframe to catalogue the results\n",
    "    # Note I drop the size, because every sample will have the same size.\n",
    "    \n",
    "    for k in range(N):\n",
    "        \n",
    "        # random.choices(population, size)  \n",
    "        # use this command if we are sampling from the population with replacement\n",
    "    \n",
    "        sample = random.sample(population, s)\n",
    "        # use this command if we are sampling from the population without replacement\n",
    "    \n",
    "        row = pd.DataFrame([sample.count('granted'), sample.count('granted')/s], \n",
    "                       index = ['Pardons', 'Proportion Granted']).transpose()\n",
    "    \n",
    "        result = result.append(row)\n",
    "    \n",
    "    return result.reset_index().iloc[:, 1:]\n"
   ]
  },
  {
   "cell_type": "code",
   "execution_count": null,
   "metadata": {},
   "outputs": [],
   "source": [
    "result1000 = experiment(1000)\n",
    "result1000"
   ]
  },
  {
   "cell_type": "code",
   "execution_count": null,
   "metadata": {},
   "outputs": [],
   "source": [
    "# So did any of these 1000 experimental Nixon's samples ever get close to real Nixon's 50%?\n",
    "\n",
    "sns.displot(result1000, x='Proportion Granted')"
   ]
  },
  {
   "cell_type": "code",
   "execution_count": null,
   "metadata": {},
   "outputs": [],
   "source": [
    "sns.boxplot(x='Proportion Granted', data=result1000)"
   ]
  },
  {
   "cell_type": "markdown",
   "metadata": {},
   "source": [
    "So in 1000 attempts we got nowhere near Nixon's rate. This implies that indeed Nixon was a unique president in the use of the pardon power.\n",
    "\n",
    "Let's note that if the sample size is smaller (i.e. if the number of requests is low, the question changes).\n",
    "\n",
    "Run this a few times and note that the figure does not change much. \n",
    "\n",
    "Our estimate is that the probability that any president would approve 50% of their pardon requests is less than 1 in 1000 or less than 0.1 precent. We may want to run the experiment for 10000 times to see if we can get a finer result. Note that this does take time."
   ]
  },
  {
   "cell_type": "code",
   "execution_count": null,
   "metadata": {},
   "outputs": [],
   "source": [
    "result10000 = experiment(10000)\n",
    "sns.displot(result1000, x='Proportion Granted')"
   ]
  },
  {
   "cell_type": "markdown",
   "metadata": {},
   "source": [
    "We again see that it is very unlikely.\n",
    "\n",
    "Just to illustrate how the sample sizes affects the spread of the results, consider a sample size of 10.  We expect to have some of these with a 5 in 10 or larger number of 'granted'"
   ]
  },
  {
   "cell_type": "code",
   "execution_count": null,
   "metadata": {},
   "outputs": [],
   "source": [
    "result1000 = experiment(1000, s=10)\n",
    "sns.displot(result1000, x='Proportion Granted')"
   ]
  },
  {
   "cell_type": "code",
   "execution_count": null,
   "metadata": {},
   "outputs": [],
   "source": [
    "sns.boxplot(x='Proportion Granted', data=result1000)"
   ]
  },
  {
   "cell_type": "code",
   "execution_count": null,
   "metadata": {},
   "outputs": [],
   "source": [
    "(result1000.loc[:, 'Proportion Granted'] >= 0.5).sum()"
   ]
  },
  {
   "cell_type": "markdown",
   "metadata": {},
   "source": [
    "So if the samples are of size 10, then 37 times our of 1000 we find more than 50% of the pardons approved by all presidents. So that puts the probability at 3.7 %.\n",
    "\n",
    "Note the precise number will vary every time we run this, though if we do the experiment more it will become more stable.\n",
    "\n",
    "Also note that the Bell Shape we saw in the previous exampls is breaking down here. This is because the propotion stops at 0.0, and so the result sort of stack up there. This is an example of where the resampling experiment is providing better information than a more traditional statistics approach."
   ]
  },
  {
   "cell_type": "markdown",
   "metadata": {},
   "source": [
    "## Let's do another example\n",
    "\n",
    "This dataset is from the PPP loans given out as part of the CARES Act in 2020. It is a database on the loans awarded for more than $150,000 witha. bit of information about who they were awarded to.\n",
    "\n",
    "I pulled this dataset from a project on kaggle.com"
   ]
  },
  {
   "cell_type": "code",
   "execution_count": null,
   "metadata": {},
   "outputs": [],
   "source": [
    "# This is a big data set and it did not play well with Google Drive.\n",
    "PPP = pd.read_csv('PPP_data_150k_plus.csv').iloc[:, [0, 4, -4]] # only three columns for what we want to do today\n",
    "PPP"
   ]
  },
  {
   "cell_type": "code",
   "execution_count": null,
   "metadata": {},
   "outputs": [],
   "source": [
    "set(PPP.loc[:, 'LoanRange'])"
   ]
  },
  {
   "cell_type": "markdown",
   "metadata": {},
   "source": [
    "Note this is a nice example as it the first one we are doing where the size of the file is too big to open in Excel or similar on many computers. It is a dataset that really needs to be dealt with by a tool like Python or R.\n",
    "\n",
    "What type of variable are we getting for 'LoanRange'?"
   ]
  },
  {
   "cell_type": "code",
   "execution_count": null,
   "metadata": {},
   "outputs": [],
   "source": [
    "# Let's drop the ones we have no State assigned to.\n",
    "# In reality it would probably be worth figuring out why some of them do not have a state assigned.\n",
    "\n",
    "no_state_index = PPP.loc[:, 'State'] == 'XX'\n",
    "no_state = PPP.loc[no_state_index, :]\n",
    "state = PPP.drop(no_state.index, axis=0)\n",
    "state"
   ]
  },
  {
   "cell_type": "markdown",
   "metadata": {},
   "source": [
    "How many jobs were retained by the loans by value:"
   ]
  },
  {
   "cell_type": "code",
   "execution_count": null,
   "metadata": {},
   "outputs": [],
   "source": [
    "state_by_value = state.groupby(['State', 'LoanRange']).mean()\n",
    "state_by_value"
   ]
  },
  {
   "cell_type": "code",
   "execution_count": null,
   "metadata": {},
   "outputs": [],
   "source": [
    "# Note this is a multi-index. It is possible to peal off the first one \n",
    "# specifying a state we want to look more closely at\n",
    "\n",
    "state_by_value.loc['CO', :]"
   ]
  },
  {
   "cell_type": "markdown",
   "metadata": {},
   "source": [
    "How did Colorado do compared to the whole country:"
   ]
  },
  {
   "cell_type": "code",
   "execution_count": null,
   "metadata": {},
   "outputs": [],
   "source": [
    "whole_by_value = state.groupby('LoanRange').mean()\n",
    "whole_by_value"
   ]
  },
  {
   "cell_type": "code",
   "execution_count": null,
   "metadata": {},
   "outputs": [],
   "source": [
    "large_loans = state.loc[ state.loc[:, 'LoanRange']=='a $5-10 million']\n",
    "# We will drop the ones that are missing 'JobsRetained' values. It would be nice with more time to understand\n",
    "# why these are missing for some.\n",
    "large_loans = large_loans.loc[ pd.notna(large_loans.loc[:, 'JobsRetained'])]\n",
    "sns.histplot(large_loans.iloc[:, -1])"
   ]
  },
  {
   "cell_type": "markdown",
   "metadata": {},
   "source": [
    "Again worth pausing here and pointing out:  Note a nice bell curve."
   ]
  },
  {
   "cell_type": "code",
   "execution_count": null,
   "metadata": {},
   "outputs": [],
   "source": [
    "# We can visualize the distribution with a boxplot also\n",
    "sns.boxplot(x = 'JobsRetained', data = large_loans)"
   ]
  },
  {
   "cell_type": "markdown",
   "metadata": {},
   "source": [
    "Now we do our sampling expriment to see if Colorado was unique or not. In this case the dataset we will sample from is already built for us, it is the state dataframe with the jobs saved for each PPP loan in the large category."
   ]
  },
  {
   "cell_type": "code",
   "execution_count": null,
   "metadata": {},
   "outputs": [],
   "source": [
    "# We need to know how large the sample was (and also check for missing values)\n",
    "large_loans.groupby('State').count()"
   ]
  },
  {
   "cell_type": "code",
   "execution_count": null,
   "metadata": {},
   "outputs": [],
   "source": [
    "size = 90"
   ]
  },
  {
   "cell_type": "code",
   "execution_count": null,
   "metadata": {},
   "outputs": [],
   "source": [
    "# Let's make this a function so we don't have to retype it all the time\n",
    "\n",
    "def experiment(N, s = size, population = list(large_loans.loc[:, 'JobsRetained'])):\n",
    "    # N is the number of times to run the experiment\n",
    "    # s is a variable that will let us change the size of the sample to pull, the default value size is the number\n",
    "    # of large loans in Colorado\n",
    "\n",
    "    result = pd.DataFrame([], columns = ['Mean Jobs Retained']) # Make a dataframe to catalogue the results\n",
    "    \n",
    "    for k in range(N):\n",
    "        \n",
    "        # random.choices(population, size).mean()  \n",
    "        # use this command if we are sampling from the population with replacement\n",
    "    \n",
    "        sample = np.mean(random.sample(population, s))\n",
    "        # use this command if we are sampling from the population without replacement\n",
    "    \n",
    "        row = pd.DataFrame([sample], \n",
    "                       index = ['Mean Jobs Retained']).transpose()\n",
    "    \n",
    "        result = result.append(row)\n",
    "    \n",
    "    return result.reset_index().iloc[:, 1:]\n"
   ]
  },
  {
   "cell_type": "code",
   "execution_count": null,
   "metadata": {},
   "outputs": [],
   "source": [
    "experiment(10)"
   ]
  },
  {
   "cell_type": "code",
   "execution_count": null,
   "metadata": {},
   "outputs": [],
   "source": [
    "result = experiment(100)\n",
    "sns.boxplot(x = 'Mean Jobs Retained', data = result)"
   ]
  },
  {
   "cell_type": "code",
   "execution_count": null,
   "metadata": {},
   "outputs": [],
   "source": [
    "sns.histplot(x='Mean Jobs Retained', data=result)"
   ]
  },
  {
   "cell_type": "code",
   "execution_count": null,
   "metadata": {},
   "outputs": [],
   "source": [
    "result.loc[ result.loc[:, 'Mean Jobs Retained']>376.455556].count()"
   ]
  },
  {
   "cell_type": "code",
   "execution_count": null,
   "metadata": {},
   "outputs": [],
   "source": []
  }
 ],
 "metadata": {
  "kernelspec": {
   "display_name": "Python 3",
   "language": "python",
   "name": "python3"
  },
  "language_info": {
   "codemirror_mode": {
    "name": "ipython",
    "version": 3
   },
   "file_extension": ".py",
   "mimetype": "text/x-python",
   "name": "python",
   "nbconvert_exporter": "python",
   "pygments_lexer": "ipython3",
   "version": "3.7.4"
  }
 },
 "nbformat": 4,
 "nbformat_minor": 4
}
