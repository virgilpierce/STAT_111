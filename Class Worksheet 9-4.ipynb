{
 "cells": [
  {
   "cell_type": "markdown",
   "metadata": {},
   "source": [
    "# Pandas Data Frames\n",
    "\n",
    "Today we will do a bit more work with data frames, and also practice with data types and sequences."
   ]
  },
  {
   "cell_type": "code",
   "execution_count": null,
   "metadata": {},
   "outputs": [],
   "source": [
    "# import our standard set of packages\n",
    "\n",
    "import urllib\n",
    "import pandas as pd\n",
    "import numpy as np\n",
    "import seaborn\n",
    "import matplotlib.pyplot as plt"
   ]
  },
  {
   "cell_type": "markdown",
   "metadata": {},
   "source": [
    "For today we will work with a data set built from a sample of people being studied for kidney disease. We will start by loading the data from a csv file. I will do this here with a share link from google drive. In your own problems you just need to have the csv file in the same location as your Jupyter notebook file, and then put the name in quotes in the read_csv() command.\n",
    "\n",
    "One difference with this file is that the names of the features (columns) are provided separately, so we have to add them as a list of names in the read_csv()."
   ]
  },
  {
   "cell_type": "code",
   "execution_count": null,
   "metadata": {},
   "outputs": [],
   "source": [
    "# Let's continue exploring the penguins data set (our first Case Study that we will work on together)\n",
    "\n",
    "kidney_url = 'https://drive.google.com/uc?export=download&id=1R8H9Hno1_fu7ON6yQlk9jNQsTXG6loup'\n",
    "data_names = ['age', 'blood pressure', 'specific gravity', 'albumin', 'sugar',\n",
    "            'red blood cells', 'pus cell', 'pus cell clumps', 'bacteria',\n",
    "            'blood glucose random', 'blood urea', 'serum creatinine',\n",
    "            'sodium', 'potassium', 'hemoglobin', 'packed cell volume',\n",
    "            'white blood cell count', 'red blood cell count', 'hypertension',\n",
    "            'diabetes mellitus', 'coronary artery disease', 'appetite',\n",
    "            'pedal edema', 'anemia', 'class']\n",
    "\n",
    "kidney_data = pd.read_csv(kidney_url, names=data_names)\n",
    "\n",
    "# This is a large dataset, so we check by just displaying the first few rows using .head()\n",
    "kidney_data.head()"
   ]
  },
  {
   "cell_type": "markdown",
   "metadata": {},
   "source": [
    "There are two questions that we always ask as we start to deal with a new data set. Well really three, but we have already dealt with the first:  What are the feature names.\n",
    "\n",
    "The second question is:  Is there missing data and what symbol was used to represent it?\n",
    "\n",
    "Q1:  Can you identify from just the first few rows what symbol was used by the data collectors to represent missing data? Put that symbol as a string in the object below:"
   ]
  },
  {
   "cell_type": "code",
   "execution_count": null,
   "metadata": {},
   "outputs": [],
   "source": [
    "# Enter a string with the symbol used for missing data\n",
    "\n",
    "data_missing ="
   ]
  },
  {
   "cell_type": "markdown",
   "metadata": {},
   "source": [
    "We then rerun the read_csv() command passing it the parameter na_values = data_missing\n",
    "\n",
    "Note that generally you can pass na_values as a list of all of the symbols used in the data to represent missing values."
   ]
  },
  {
   "cell_type": "code",
   "execution_count": null,
   "metadata": {},
   "outputs": [],
   "source": [
    "kidney_data = pd.read_csv(kidney_url, names=data_names, na_values = data_missing)\n",
    "\n",
    "# This is a large dataset, so we check by just displaying the first few rows using .head()\n",
    "kidney_data.head()"
   ]
  },
  {
   "cell_type": "markdown",
   "metadata": {},
   "source": [
    "Notice now that the symbol NaN appears. This is Python's representation for missing data. This is better, the Pandas and Seaborn functions we will use are built to recognize that this value means missing data.\n",
    "\n",
    "## Data Types\n",
    "\n",
    "Now we are in a position to ask the third question we start with:  What types of data do we have for our features?\n",
    "\n",
    "Usually this is obvious unless something has gone wrong. \n",
    "\n",
    "#### Q2: Just inspecting the columns above what do you see for data types?"
   ]
  },
  {
   "cell_type": "markdown",
   "metadata": {},
   "source": []
  },
  {
   "cell_type": "markdown",
   "metadata": {},
   "source": [
    "#### Q3: Python has made some guesses about what types the data are. The possibilities are a little bigger than just the int, float, and str that we learned about, but not that much bigger. Use the command kidney_data.dtypes and see what we get. Did it match your answer above?\n",
    "\n",
    "What does Pandas mean by 'object'?"
   ]
  },
  {
   "cell_type": "code",
   "execution_count": null,
   "metadata": {},
   "outputs": [],
   "source": []
  },
  {
   "cell_type": "markdown",
   "metadata": {},
   "source": [
    "A few of the columns have been misclassified. For now let's ignore them. The problem is that our data has some extra characters in some of it."
   ]
  },
  {
   "cell_type": "markdown",
   "metadata": {},
   "source": [
    "## Making a new Data Frame\n",
    "\n",
    "Maybe by now you have noticed the last column:  class. The values for class are"
   ]
  },
  {
   "cell_type": "code",
   "execution_count": null,
   "metadata": {},
   "outputs": [],
   "source": [
    "set(kidney_data.loc[:, 'class'])"
   ]
  },
  {
   "cell_type": "markdown",
   "metadata": {},
   "source": [
    "Well okay we have a small problem to fix there. The \\t is a special charachter - it represents the \"tab\". "
   ]
  },
  {
   "cell_type": "code",
   "execution_count": null,
   "metadata": {},
   "outputs": [],
   "source": [
    "# Note the differences\n",
    "\n",
    "print('ckd\\tckd')\n",
    "print('ckdcdk')"
   ]
  },
  {
   "cell_type": "markdown",
   "metadata": {},
   "source": [
    "We can remove it with a .rstrip() which removes the special characters from right side of a string. By the way, this is another example of something that is much easier with Python than it is in other software.\n",
    "\n",
    "For more on this see [pandas help](https://pandas.pydata.org/pandas-docs/stable/reference/api/pandas.Series.str.strip.html)"
   ]
  },
  {
   "cell_type": "code",
   "execution_count": null,
   "metadata": {},
   "outputs": [],
   "source": [
    "# this command .str.rstrip() canonly be used on sequences -- single columns of the dataframe\n",
    "\n",
    "kidney_data.loc[:, 'class'] = kidney_data.loc[:, 'class'].str.rstrip()\n",
    "set(kidney_data.loc[:, 'class'])"
   ]
  },
  {
   "cell_type": "markdown",
   "metadata": {},
   "source": [
    "CKD stands for Chronic Kidney Disease, and NOTCKD stands for Not Chronic Kidney Disease. The long term task with this data is whether we can predict from the tests, whether a patient is likely to have Chronic Kidney Disease or not.\n",
    "\n",
    "This is a great dataset for our class as it illustrates one of the fundamental problems we are going to have. It is BIG. \n",
    "\n",
    "#### Q4: Use some of the methods you learned last week to determine how many patients are in our sample:"
   ]
  },
  {
   "cell_type": "code",
   "execution_count": null,
   "metadata": {},
   "outputs": [],
   "source": []
  },
  {
   "cell_type": "markdown",
   "metadata": {},
   "source": [
    "But this dataset is also big in the sense that there are lots of features. That is also a problem. It is hard to visualizae many features at once and it is hard to know which features are the important ones.\n",
    "\n",
    "There are two ways to make a data frame with fewer columns from a big one. \n",
    "\n",
    "### You can select the columns you want\n",
    "\n",
    "Lets take a dataframe that has just the *age* and *blood pressure* features, together with the classification of kidney disease."
   ]
  },
  {
   "cell_type": "code",
   "execution_count": null,
   "metadata": {},
   "outputs": [],
   "source": [
    "kidney2_data = kidney_data.loc[:, ['age', 'blood pressure', 'class'] ]\n",
    "kidney2_data.head()"
   ]
  },
  {
   "cell_type": "markdown",
   "metadata": {},
   "source": [
    "You might want to verify that doing this did not modify the original dataframe (another big advantage over doing this in Python compared to a spreadsheet).\n",
    "\n",
    "### You can drop the columns you don't want\n",
    "\n",
    "Pandas also gives us a command for dropping columns."
   ]
  },
  {
   "cell_type": "code",
   "execution_count": null,
   "metadata": {},
   "outputs": [],
   "source": [
    "num_cols = ['age',\n",
    " 'blood pressure',\n",
    " 'specific gravity',\n",
    " 'albumin',\n",
    " 'sugar',\n",
    " 'blood glucose random',\n",
    " 'blood urea',\n",
    " 'serum creatinine',\n",
    " 'sodium',\n",
    " 'potassium',\n",
    " 'hemoglobin', \n",
    " 'packed cell volume', \n",
    " 'white blood cell count',\n",
    " 'red blood cell count']"
   ]
  },
  {
   "cell_type": "code",
   "execution_count": null,
   "metadata": {},
   "outputs": [],
   "source": [
    "# drop takes a list of columns (or rows) and then axis = 1 for columns and axis = 0 for rows.\n",
    "kidney3_data = kidney_data.drop(num_cols, axis=1)\n",
    "kidney3_data.head()"
   ]
  },
  {
   "cell_type": "markdown",
   "metadata": {},
   "source": [
    "### Q5: Practice using Groupby \n",
    "\n",
    "Use kidney2 to pratice using groupby for summarizing the data.\n"
   ]
  },
  {
   "cell_type": "code",
   "execution_count": null,
   "metadata": {},
   "outputs": [],
   "source": []
  },
  {
   "cell_type": "markdown",
   "metadata": {},
   "source": [
    "### Dealing with Categorical Data\n",
    "\n",
    "Dealing with categorical data is harder. In this case. Let's see how hypertension relates to Chronic Kidney Disease.\n",
    "\n",
    "#### Q6:  Make a data frame that includes just the hypertension variable and the class."
   ]
  },
  {
   "cell_type": "code",
   "execution_count": null,
   "metadata": {},
   "outputs": [],
   "source": [
    "kidney4_data = kidney3_data.loc[:, ['hypertension', 'class']]\n",
    "kidney4_data.head()"
   ]
  },
  {
   "cell_type": "markdown",
   "metadata": {},
   "source": [
    "Now we will build a new data frame that summarizes these results. Note that there are 4 types of patients now. Those with or without hypertension; and for each of those, those with or without chronic kidney disease."
   ]
  },
  {
   "cell_type": "code",
   "execution_count": null,
   "metadata": {},
   "outputs": [],
   "source": [
    "# Compute how many patients with hypertension had ckd\n",
    "\n",
    "hypten = kidney4_data.loc[:, 'hypertension']=='yes'\n",
    "\n",
    "# summing up a sequence of True/False values counts the number of True\n",
    "\n",
    "sum(kidney4_data.loc[hypten, 'class'] == 'ckd')"
   ]
  },
  {
   "cell_type": "markdown",
   "metadata": {},
   "source": [
    "Okay so note that there are 4 possibilities:  hypertension and ckd; hypertension and not-ckd; not-hypertension and ckd; and not hypertension and not ckd.\n",
    "\n",
    "#### Q7: Find all 4 values by modifying the code above"
   ]
  },
  {
   "cell_type": "code",
   "execution_count": null,
   "metadata": {},
   "outputs": [],
   "source": []
  },
  {
   "cell_type": "code",
   "execution_count": null,
   "metadata": {},
   "outputs": [],
   "source": [
    "# Put them together into a Data Frame by adjusting the values in the entry below. \n",
    "# Note you may have to try it a couple of times to figure out which number is put where by Pandas\n",
    "\n",
    "df = pd.DataFrame([ [147, 147], [147, 147]], \n",
    "                  index = ['hyperten', 'not hyperten'], \n",
    "                  columns = ['ckd', 'notckd'])\n",
    "\n",
    "df"
   ]
  },
  {
   "cell_type": "markdown",
   "metadata": {},
   "source": [
    "This is now a very simple 2x2 datafram. Let's add a row to it that gives the sum of the entries in the columns. \n",
    "\n",
    "#### Q8: You can use df.sum() to sum each colum up. Try it:"
   ]
  },
  {
   "cell_type": "code",
   "execution_count": null,
   "metadata": {},
   "outputs": [],
   "source": []
  },
  {
   "cell_type": "markdown",
   "metadata": {},
   "source": [
    "#### Q9: Now you can add this row to the df dataframe by just specifying 'total' as a new row in the data frame like so (you need to add something after the equal sign):"
   ]
  },
  {
   "cell_type": "code",
   "execution_count": null,
   "metadata": {},
   "outputs": [],
   "source": [
    "df.loc['total ckd', :] = "
   ]
  },
  {
   "cell_type": "markdown",
   "metadata": {},
   "source": [
    "Simmilarly, we add a new column by just giving it a name and refering to it. Python can do the arithematic automatically"
   ]
  },
  {
   "cell_type": "code",
   "execution_count": null,
   "metadata": {},
   "outputs": [],
   "source": [
    "df.loc[:, 'total hypertension'] = df.loc[:, 'ckd'] + df.loc[:, 'notckd']\n",
    "df"
   ]
  },
  {
   "cell_type": "markdown",
   "metadata": {},
   "source": [
    "### Q10:  What proportion of patients with hyptertension had chronic kidney disease?"
   ]
  },
  {
   "cell_type": "code",
   "execution_count": null,
   "metadata": {},
   "outputs": [],
   "source": []
  }
 ],
 "metadata": {
  "kernelspec": {
   "display_name": "Python 3",
   "language": "python",
   "name": "python3"
  },
  "language_info": {
   "codemirror_mode": {
    "name": "ipython",
    "version": 3
   },
   "file_extension": ".py",
   "mimetype": "text/x-python",
   "name": "python",
   "nbconvert_exporter": "python",
   "pygments_lexer": "ipython3",
   "version": "3.7.4"
  }
 },
 "nbformat": 4,
 "nbformat_minor": 2
}
