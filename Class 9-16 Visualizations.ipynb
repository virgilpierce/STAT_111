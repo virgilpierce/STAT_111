{
 "cells": [
  {
   "cell_type": "code",
   "execution_count": null,
   "metadata": {},
   "outputs": [],
   "source": [
    "# Load our usual set of packages\n",
    "\n",
    "import pandas as pd\n",
    "import seaborn as sns\n",
    "import matplotlib.pyplot as plt\n",
    "import numpy as np"
   ]
  },
  {
   "cell_type": "markdown",
   "metadata": {},
   "source": [
    "# Visualizations\n",
    "\n",
    "We have seen that DataFrames are a useful way of looking at data, and using the groupby function we can in some cases reduce a complicated dataframe down to a simpler one. However with large data sets we usually find that we need to use graphical representations of the data in order to understand the whole data set at once.\n",
    "\n",
    "Our goal this week is to explore some common tools for creating visualizations. We will not have time to go over everything, and in fact we hope to offer a STAT 202 - Data Visualization class that spends a whole semester on this topic. \n",
    "\n",
    "The first thing to understand is that our approach to visualizing *Numerical Data* is different from that for *Categorical Data*. Furthermore numerical data comes in *serial* and *un-serial* formats, while categorical data comes in two types *Ordered* and *Unordered*. Ordered categorical data are where the responses are not numbers, but there is an order to them:  For example the quality of the roof on a house might be classified as:  Excellent, Good, Fair, Poor, Awful. While these responses will be strings or objects in Python and Pandas; there is an order to them. Unordered categorical data is where the responses to a question do not have a natural order. For example the color of a house would be an unordered categorical data.\n",
    "\n",
    "## Numerical Data\n",
    "\n",
    "### Scatter Plots\n",
    "\n",
    "Let's start with the data set about actors our book uses:"
   ]
  },
  {
   "cell_type": "code",
   "execution_count": null,
   "metadata": {},
   "outputs": [],
   "source": [
    "actors_url = 'https://drive.google.com/uc?export=download&id=1BkZuOs7u61DjhyaMn152ZbZUVhbInrwd'\n",
    "actors_data = pd.read_csv(actors_url)\n",
    "actors_data.head()"
   ]
  },
  {
   "cell_type": "code",
   "execution_count": null,
   "metadata": {},
   "outputs": [],
   "source": [
    "# Check how big this dataset is\n",
    "\n",
    "actors_data.shape"
   ]
  },
  {
   "cell_type": "code",
   "execution_count": null,
   "metadata": {},
   "outputs": [],
   "source": [
    "# Check the dtypes and make sure they are what we expect\n",
    "\n",
    "actors_data.dtypes"
   ]
  },
  {
   "cell_type": "markdown",
   "metadata": {},
   "source": [
    "So the primary issue we have is that we can really only visualy handle two dimensional plots, which mostly means that for numerical data we can choose two of the variables and use them as the horizontal and vertical coordinates of a plot. We can (and sometimes will) try to use color, or shape/size to represent other variables at the same time.\n",
    "\n",
    "Seaborn has a convenient tool for trying to identify what numerical variables are interesting in a dataframe.\n",
    "\n",
    "(also before we go much futher, the [Seaborn help manual](https://seaborn.pydata.org/introduction.html) I particularly use the Gallery frequently).\n",
    "\n",
    "Also before we get started, this quote from the seaborn website is worth reading:  \n",
    "> There is no universally best way to visualize data. Different questions are best answered by different plots. Seaborn makes it easy to switch between different visual representations by using a consistent dataset-oriented API.\n",
    "\n",
    "In particular it is easy to make asthetic adjustments to your graphs in ways that can then be consistently applied to all of the images used in a project."
   ]
  },
  {
   "cell_type": "code",
   "execution_count": null,
   "metadata": {},
   "outputs": [],
   "source": [
    "# Let's start with an overview of the numerical variables in the dataset\n",
    "\n",
    "sns.pairplot(data=actors_data );"
   ]
  },
  {
   "cell_type": "markdown",
   "metadata": {},
   "source": [
    "Pairplot gives us **scatter plots** for all of the pairs of numerical data in the DataFrame. What we are looking for depends on the questions we want to answer. What stands out to you?"
   ]
  },
  {
   "cell_type": "code",
   "execution_count": null,
   "metadata": {},
   "outputs": [],
   "source": [
    "# Look at a single scatter plot\n",
    "\n",
    "sns.scatterplot(data=actors_data, x='Number of Movies', y='Average per Movie');"
   ]
  },
  {
   "cell_type": "markdown",
   "metadata": {},
   "source": [
    "Okay. So who is the actor off by themselves with very few movies, but a very high average gross of box office receipts (i.e. movies that sold a lot of tickets)?"
   ]
  },
  {
   "cell_type": "code",
   "execution_count": null,
   "metadata": {},
   "outputs": [],
   "source": [
    "actors_data.loc[actors_data.loc[:, 'Number of Movies']<10]"
   ]
  },
  {
   "cell_type": "markdown",
   "metadata": {},
   "source": [
    "Who is Anthony Daniels?  Well it turns out he is someone whose only roles are in the Star Wars series, and he has been in nearly all of them*. (I actually want to say all of them, I think our dataset may be somewhat out of date).\n",
    "\n",
    "### Outliers\n",
    "\n",
    "So let's redo the plot but without this outlier. However first an interlude.\n",
    "\n",
    "We need to be very careful about dropping outliers from our dataset without thinking about what we are doing. For this dataset about actors, the consequences of removing an actor and drawing a mistaken conclusion are relatively low. However:  [Be careful removing outliers](https://fivethirtyeight.com/features/what-went-wrong-in-flint-water-crisis-michigan/)\n",
    "\n",
    "In 2014 the City of Flint, MI was conducting an EPA mandated periodic test of the water quality in the city. This involved testers collecting water samples from inside a random sample of houses. There were problems with the sampling methadology, the testers were not properly trained or supervised. Some of them did not run the faucet for the required time before collecting the samples, others collected the samples only from one faucet and not multiple faucets in the house.\n",
    "\n",
    "When the city analyzed the data, to their dismay they discovered that more than 10% of the samples collected had an actionable level of lead (more than 15 parts per billion). The data analysts looked at the results and realized that if they removed two of the outliers with very high lead readings, justifying it with their knowledge that testing procedures were possibly not followed leading to a highere reading, then the percentage of samples at the actionable level would be less than 10%.\n",
    "\n",
    "Why is 10% important to the city water company?  Well if more than 10% of the samples are above the actionable level, they are required by law to notify their customers that the city water may be contaminated with lead. At less than 10%of the samples being high, they did not need to notify anyone. \n",
    "\n",
    "**Three years later** a group of pediatricians in the city would come to the umistakable conclusion that the city water supply was contaiminated with lead. Lead poisoning is particularly insiduous because it causes damage to DNA that is then passed on to cause diseases in peoples offspring. \n",
    "\n",
    "We can remove outliers from datasets. However we need to do it with an awareness of (a) first and foremost what are the consequences if we make the wrong conclusion and (b) realizing that some problems will naturually have outliers and that they are true results not always evidence of errors in the samples. \n"
   ]
  },
  {
   "cell_type": "code",
   "execution_count": null,
   "metadata": {},
   "outputs": [],
   "source": [
    "# Look at a single scatter plot\n",
    "\n",
    "sns.scatterplot(data=actors_data.drop(14), x='Number of Movies', y='Average per Movie');"
   ]
  },
  {
   "cell_type": "markdown",
   "metadata": {},
   "source": [
    "It appears there is a negative association between the number of movies an actor is in, and the average gross box office receipt for those movies. Why might this be? What else would you like to know?"
   ]
  },
  {
   "cell_type": "markdown",
   "metadata": {},
   "source": [
    "### Line Graphs\n",
    "\n",
    "Line graphs are commonly used for data that is *chronological* or *serial*. The classic example of time series data is studying how the price of a commodity or stock evolves over time. Consider this dataset of the price of regular gasoline and diesel in the US over time."
   ]
  },
  {
   "cell_type": "code",
   "execution_count": null,
   "metadata": {},
   "outputs": [],
   "source": [
    "gas_url = 'https://drive.google.com/uc?export=download&id=17CZVxZb_UwxpoOcGADfkdNzdIe8p1ngF'\n",
    "gas_data = pd.read_csv(gas_url)\n",
    "gas_data"
   ]
  },
  {
   "cell_type": "code",
   "execution_count": null,
   "metadata": {},
   "outputs": [],
   "source": [
    "# Okay so small problem here. We have the dates but you might notice that they are not numerical\n",
    "\n",
    "gas_data.dtypes"
   ]
  },
  {
   "cell_type": "markdown",
   "metadata": {},
   "source": [
    "Python actually gives us some convenient tools for working with dates, and I'd like to use them here to show you how it sort of looks. \n",
    "\n",
    "First we are going to go through the 'Week of' columns and convert it to a Python date value. This is also going to be our first example of a Python function written by us."
   ]
  },
  {
   "cell_type": "code",
   "execution_count": null,
   "metadata": {},
   "outputs": [],
   "source": [
    "from datetime import date\n",
    "\n",
    "\n",
    "# Define a function read_date that takes a string of the form 'mm/dd/yyyy' or 'm/d/yyyy' and converts it to a \n",
    "# date(yyyy, mm, dd) object.\n",
    "\n",
    "def read_date(s):\n",
    "    \n",
    "    month = int(s[:s.find('/')])   # Note you did exactly this construction on Friday\n",
    "    year = int(s[-4:])   # The year is always the last 4 digits\n",
    "    str2 = str[s.find('/')+1:]\n",
    "    day = int(str2[:str2.find('/')] ) # Finallly we get the day by peeling off the month and then looking for the next '/'\n",
    "    \n",
    "    # Note the advantage of doing it this way is we did not need to assume that month or day were two digits\n",
    "    # in the string. \n",
    "    \n",
    "    return date(year, month, day)\n",
    "\n",
    "    # Every Python function starts with a def function_name(arguments):\n",
    "    \n",
    "    # Has its commands one tab in from the def\n",
    "    \n",
    "    # Ends when it reaches a return and returns whatever object is put there."
   ]
  },
  {
   "cell_type": "code",
   "execution_count": null,
   "metadata": {},
   "outputs": [],
   "source": [
    "# Let's make sure it works:\n",
    "\n",
    "read_date('9/14/2020')"
   ]
  },
  {
   "cell_type": "code",
   "execution_count": null,
   "metadata": {},
   "outputs": [],
   "source": [
    "# Put it through a list generator construction just like you did on Friday\n",
    "\n",
    "gas_data.loc[:, 'Week of'] = [read_date(x) for x in gas_data.loc[:, 'Week of']]"
   ]
  },
  {
   "cell_type": "code",
   "execution_count": null,
   "metadata": {},
   "outputs": [],
   "source": [
    "gas_data"
   ]
  },
  {
   "cell_type": "markdown",
   "metadata": {},
   "source": [
    "Once we have the date in this standard Python format, Seaborn knows how to handle it. (Which is just awesome as converting these dates to a number, plotting it, and then changing the labels on the plot back to dates is a pain)."
   ]
  },
  {
   "cell_type": "code",
   "execution_count": null,
   "metadata": {},
   "outputs": [],
   "source": [
    "sns.lineplot(x='Week of', y='U.S. Regular All Formulations Retail Gasoline Prices $/gal', data=gas_data)"
   ]
  },
  {
   "cell_type": "markdown",
   "metadata": {},
   "source": [
    "### Multiple Line Plots\n",
    "\n",
    "Suppose we want to plot both columns at once and use a color to identify them.\n",
    "\n",
    "What we need to do is create a new data frame with a column that is the date, a column that is the price, and a third column that specifies what type of fuel."
   ]
  },
  {
   "cell_type": "code",
   "execution_count": null,
   "metadata": {},
   "outputs": [],
   "source": [
    "fuel_gas_data = pd.DataFrame([gas_data.iloc[:, 0], gas_data.iloc[:, 2]], index = ['date', 'price']).transpose()\n",
    "# Note the transpose. For some reason Pandas defaults to rows when doing this.\n",
    "\n",
    "fuel_gas_data.loc[:, 'type'] = 'gasoline'\n",
    "# Set the type to be 'gasoline'\n",
    "\n",
    "fuel_gas_data"
   ]
  },
  {
   "cell_type": "code",
   "execution_count": null,
   "metadata": {},
   "outputs": [],
   "source": [
    "# Now do the same for diesel (column 1 rather than 2) note it is going to be important that we use the same\n",
    "# names for the columns in this DataFrame\n",
    "\n",
    "fuel_diesel_data = pd.DataFrame([gas_data.iloc[:, 0], gas_data.iloc[:, 1]], index = ['date', 'price']).transpose()\n",
    "\n",
    "fuel_diesel_data.loc[:, 'type'] = 'diesel'"
   ]
  },
  {
   "cell_type": "code",
   "execution_count": null,
   "metadata": {},
   "outputs": [],
   "source": [
    "# Now combine the two dataframes into one with pandas.concat\n",
    "\n",
    "fuel_data = pd.concat([fuel_gas_data, fuel_diesel_data], axis = 0)\n",
    "\n",
    "# The dtype of 'price' needs to be reset (more or less the problem is the .transpose() I had to use above. \n",
    "# Python casts the dtype by column not by row).\n",
    "\n",
    "fuel_data.loc[:, 'price'] = fuel_data.loc[:, 'price'].astype('float64')\n",
    "\n",
    "\n",
    "fuel_data"
   ]
  },
  {
   "cell_type": "code",
   "execution_count": null,
   "metadata": {},
   "outputs": [],
   "source": [
    "# Now send it to seaborn lineplot again, but now with a hue\n",
    "\n",
    "plt.figure(figsize = (12, 8))\n",
    "sns.lineplot(x='date', y='price', hue='type', data=fuel_data)"
   ]
  },
  {
   "cell_type": "markdown",
   "metadata": {},
   "source": [
    "That's really neat. \n",
    "\n",
    "What if we just want the plot since January, 2016?  What could we do?"
   ]
  },
  {
   "cell_type": "code",
   "execution_count": null,
   "metadata": {},
   "outputs": [],
   "source": []
  },
  {
   "cell_type": "markdown",
   "metadata": {},
   "source": [
    "So one of the punchlines here is that you need the x, y, hue, and shape variables to all be single columns from your dataframe. But you need to be ready to manipulate your initial dataframe into one that is set up to produce the graph you have in mind.\n",
    "\n",
    "## Categorical Data\n",
    "\n",
    "\n",
    "Consider the dataset of the top grossing US movies of all time (from our textbook)."
   ]
  },
  {
   "cell_type": "code",
   "execution_count": null,
   "metadata": {},
   "outputs": [],
   "source": [
    "top_url = 'https://drive.google.com/uc?export=download&id=116jGAaBaAneK-jt4jLSe7iAwo9DeBrbn'\n",
    "top_data = pd.read_csv(top_url)\n",
    "top_data"
   ]
  },
  {
   "cell_type": "markdown",
   "metadata": {},
   "source": [
    "Note that the 'title' and 'Studio' factors are categorical variables. In particular it does not really make a lot of sense to try and use them as the positions on an axis. Note that the 'Year' answer while being a number, has more in common with a cateagorical variables -- There are a limited number of answers and each one is used multiple times.\n",
    "\n",
    "The Disney subsidiary Buena Vista appears frequently as does the Fox studio. Let's compare how frequently using .groupby() and .count()."
   ]
  },
  {
   "cell_type": "code",
   "execution_count": null,
   "metadata": {},
   "outputs": [],
   "source": [
    "# First we drop the numerical variables\n",
    "\n",
    "top2_data = top_data.loc[:, ['Title', 'Studio']]\n",
    "top2_data"
   ]
  },
  {
   "cell_type": "markdown",
   "metadata": {},
   "source": [
    "Question:  What are two more methods of producing top2_data we could have used?"
   ]
  },
  {
   "cell_type": "code",
   "execution_count": null,
   "metadata": {},
   "outputs": [],
   "source": [
    "# now let's use groupby to get the studio frequencies\n",
    "\n",
    "movies_count = top2_data.groupby(['Studio']).count()\n",
    "movies_count"
   ]
  },
  {
   "cell_type": "markdown",
   "metadata": {},
   "source": [
    "Note that this produces a number in the Title column. It probably makes more sense to rename that columns. It also has used the first column, the name of the studio, as the index. For Seaborn to work with this we are going to need to turn that back into a column. Let's do both those things next."
   ]
  },
  {
   "cell_type": "code",
   "execution_count": null,
   "metadata": {},
   "outputs": [],
   "source": [
    "# We can rename the columns by setting dataframe.columns equal to a list of the new names -- order matters!\n",
    "movies_count.columns = ['count']\n",
    "\n",
    "# .groupby('Studio') uses the 'Studio' factor as the index in the dataframe it produces. to change this back into a \n",
    "# factor we can use reset_index() notice what changes.\n",
    "movies_count = movies_count.reset_index()\n",
    "movies_count.head()"
   ]
  },
  {
   "cell_type": "markdown",
   "metadata": {},
   "source": [
    "We then can use Seaborn's barplot to plot the data. Let's start by seeing what we get out of the box."
   ]
  },
  {
   "cell_type": "code",
   "execution_count": null,
   "metadata": {},
   "outputs": [],
   "source": [
    "# Seaborn barplot then plots these. \n",
    "\n",
    "plt.figure(figsize=(7, 10))\n",
    "sns.barplot(x='count', y='Studio', data=movies_count, color='#2B547E')"
   ]
  },
  {
   "cell_type": "markdown",
   "metadata": {},
   "source": [
    "#### Color\n",
    "\n",
    "This is the first plot where the default colors from seaborn are not a great choice (try it without the color parameter and see). \n",
    "\n",
    "You can specifcy colors in a number of ways, but the way I find most useful is to use the HTML color codes. [Here is a website where you can look those up](http://computerhope.com/htmcolor.htm)."
   ]
  },
  {
   "cell_type": "markdown",
   "metadata": {},
   "source": [
    "A couple of notes. Normally I like my barplots to be vertical not horizontal like above. However,\n",
    "\n",
    "- if the number of features is large\n",
    "- or the names of the features are long\n",
    "\n",
    "A vertical orientation is better because the graph we get is more readable.\n",
    "\n",
    "Note what went wrong though."
   ]
  },
  {
   "cell_type": "code",
   "execution_count": null,
   "metadata": {},
   "outputs": [],
   "source": [
    "# It might make more sense to sort the data first.\n",
    "\n",
    "plt.figure(figsize=(7, 10))\n",
    "sns.barplot(x='count', y='Studio', data=movies_count.sort_values('count', ascending=False), color='#2B547E')"
   ]
  },
  {
   "cell_type": "markdown",
   "metadata": {},
   "source": [
    "## Ordinal Categorical Data \n",
    "\n",
    "Some categorical data, like the 'year' in the top_data dataframe has a natural order to it. In this case it is obviously the year the movie was released. "
   ]
  },
  {
   "cell_type": "code",
   "execution_count": null,
   "metadata": {},
   "outputs": [],
   "source": [
    "# Pull in the columns we want to use from the original dataframe, groupby the year, and then count the titles.\n",
    "movies_by_year = top_data.loc[:, ['Title', 'Year']].groupby('Year').count()\n",
    "\n",
    "# Change the 'Title' column to be 'count'\n",
    "movies_by_year.columns = ['count']\n",
    "\n",
    "# Reindex so that the 'Year' is again a feature\n",
    "movies_by_year = movies_by_year.reset_index()\n",
    "\n",
    "movies_by_year.tail()"
   ]
  },
  {
   "cell_type": "code",
   "execution_count": null,
   "metadata": {},
   "outputs": [],
   "source": [
    "# Plot it. Note that I had to pass the orient parameter 'h'.  Try it without that and see what we get.\n",
    "\n",
    "plt.figure(figsize=(7, 15))\n",
    "sns.barplot(x='count', y='Year', data=movies_by_year, color='#2B547E', orient='h');"
   ]
  },
  {
   "cell_type": "markdown",
   "metadata": {},
   "source": [
    "#### Things to watch out for\n",
    "\n",
    "Seaborn is not going to give you a warning if the years were read as 'objects' for some reason. If the dtype of that column is 'object' then they will be displayed by seaborn in the order they appear in the dataframe (like the first example) which is probably not waht you want.\n",
    "\n",
    "You might have to do some data cleaning of the original dataframe so you can change the dtype of 'Year' to int64. \n"
   ]
  },
  {
   "cell_type": "markdown",
   "metadata": {},
   "source": [
    "## Distributions\n",
    "\n",
    "A very common task is to count numerical data by the frequency with which it appears within close ranges. What we are trying to do in these case is get a sense about the distribution of the response. You can see the type of plot we want to make in the sns.pairplot() example above on the diagonal values.\n"
   ]
  },
  {
   "cell_type": "code",
   "execution_count": null,
   "metadata": {},
   "outputs": [],
   "source": [
    "# pair down our datafram to just one of the numerical features\n",
    "adj_gross = top_data.iloc[:, -2]\n",
    "\n",
    "# First let me introduce you to the .describe() function. This gives us some information about the\n",
    "# distribution of our data. \n",
    "adj_gross.describe()"
   ]
  },
  {
   "cell_type": "code",
   "execution_count": null,
   "metadata": {},
   "outputs": [],
   "source": [
    "# One thing we notice is that our data is made up of some consistently large numbers. Let's pair it down\n",
    "# to a more reasonable size by scaling it by 1e+06 (or $1,000,000 of dollars)\n",
    "\n",
    "adj_gross = adj_gross/1e+06\n",
    "adj_gross.name = 'Gross (Adjusted) Millions'\n",
    "adj_gross.describe()"
   ]
  },
  {
   "cell_type": "code",
   "execution_count": null,
   "metadata": {},
   "outputs": [],
   "source": [
    "# Seaborns histogram. Note that Pandas also has a historgram plot, but it will not fit the pattern of seaborn.\n",
    "\n",
    "plt.figure(figsize=(12, 8))\n",
    "sns.distplot(adj_gross, bins=20, kde=False);"
   ]
  },
  {
   "cell_type": "markdown",
   "metadata": {},
   "source": [
    "A note here that you may have to update this code depending on the version of Seaborn you are running."
   ]
  },
  {
   "cell_type": "markdown",
   "metadata": {},
   "source": [
    "## How to get your figures out of Python?\n",
    "\n",
    "So you have produced a beautiful figure illustrating some features in your data. How to you get it out so that you can use it in a document or report?\n",
    "\n",
    "Well for one thing, you could ust the markup language here in Jupyter and write your report in Jupyter. However, usually I do not want to show code to people unless they already know the language. So instead you can use the savefig function to save the figure as a file.\n",
    "\n",
    "While we are on the topic you can use .to_csv() to save a DataFrame you have made as a csv file (which can then be read by Excel)."
   ]
  },
  {
   "cell_type": "code",
   "execution_count": null,
   "metadata": {},
   "outputs": [],
   "source": [
    "# It might make more sense to sort the data first.\n",
    "\n",
    "plt.figure(figsize=(7, 10))\n",
    "sns.barplot(x='count', y='Studio', data=movies_count.sort_values('count', ascending=False), color='#2B547E')\n",
    "plt.savefig('studios.png')\n",
    "\n",
    "movies_count.sort_values('count', ascending=False).to_csv('studios.csv')"
   ]
  },
  {
   "cell_type": "code",
   "execution_count": null,
   "metadata": {},
   "outputs": [],
   "source": []
  }
 ],
 "metadata": {
  "kernelspec": {
   "display_name": "Python 3",
   "language": "python",
   "name": "python3"
  },
  "language_info": {
   "codemirror_mode": {
    "name": "ipython",
    "version": 3
   },
   "file_extension": ".py",
   "mimetype": "text/x-python",
   "name": "python",
   "nbconvert_exporter": "python",
   "pygments_lexer": "ipython3",
   "version": "3.7.3"
  }
 },
 "nbformat": 4,
 "nbformat_minor": 4
}
