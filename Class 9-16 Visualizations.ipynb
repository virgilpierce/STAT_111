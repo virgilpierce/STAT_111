{
 "cells": [
  {
   "cell_type": "code",
   "execution_count": 115,
   "metadata": {},
   "outputs": [],
   "source": [
    "# Load our usual set of packages\n",
    "\n",
    "import pandas as pd\n",
    "import seaborn as sns\n",
    "import matplotlib.pyplot as plt\n",
    "import numpy as np"
   ]
  },
  {
   "cell_type": "markdown",
   "metadata": {},
   "source": [
    "# Visualizations\n",
    "\n",
    "We have seen that DataFrames are a useful way of looking at data, and using the groupby function we can in some cases reduce a complicated dataframe down to a simpler one. However with large data sets we usually find that we need to use graphical representations of the data in order to understand the whole data set at once.\n",
    "\n",
    "Our goal this week is to explore some common tools for creating visualizations. We will not have time to go over everything, and in fact we hope to offer a STAT 202 - Data Visualization class that spends a whole semester on this topic. \n",
    "\n",
    "The first thing to understand is that our approach to visualizing *Numerical Data* is different from that for *Categorical Data*. Furthermore categorical data comes in two types *Ordered* and *Unordered*. Ordered categorical data are where the responses are not numbers, but there is an order to them:  For example the quality of the roof on a house might be classified as:  Excellent, Good, Fair, Poor, Awful. While these responses will be strings or objects in Python and Pandas; there is an order to them. Unordered categorical data is where the responses to a question do not have a natural order. For example the color of a house would be an unordered categorical data.\n",
    "\n",
    "In the interest of avoiding some complications from messy data, we will work this week using the data sets from our textbook: actors.csv, movies_by_year.csv, and top_movies.csv.\n",
    "\n",
    "## Numerical Data\n",
    "\n",
    "### Scatter Plots\n",
    "\n",
    "Let's start with the data set about actors:"
   ]
  },
  {
   "cell_type": "code",
   "execution_count": 116,
   "metadata": {},
   "outputs": [
    {
     "data": {
      "text/html": [
       "<div>\n",
       "<style scoped>\n",
       "    .dataframe tbody tr th:only-of-type {\n",
       "        vertical-align: middle;\n",
       "    }\n",
       "\n",
       "    .dataframe tbody tr th {\n",
       "        vertical-align: top;\n",
       "    }\n",
       "\n",
       "    .dataframe thead th {\n",
       "        text-align: right;\n",
       "    }\n",
       "</style>\n",
       "<table border=\"1\" class=\"dataframe\">\n",
       "  <thead>\n",
       "    <tr style=\"text-align: right;\">\n",
       "      <th></th>\n",
       "      <th>Actor</th>\n",
       "      <th>Total Gross</th>\n",
       "      <th>Number of Movies</th>\n",
       "      <th>Average per Movie</th>\n",
       "      <th>#1 Movie</th>\n",
       "      <th>Gross</th>\n",
       "    </tr>\n",
       "  </thead>\n",
       "  <tbody>\n",
       "    <tr>\n",
       "      <th>0</th>\n",
       "      <td>Harrison Ford</td>\n",
       "      <td>4871.7</td>\n",
       "      <td>41</td>\n",
       "      <td>118.8</td>\n",
       "      <td>Star Wars: The Force Awakens</td>\n",
       "      <td>936.7</td>\n",
       "    </tr>\n",
       "    <tr>\n",
       "      <th>1</th>\n",
       "      <td>Samuel L. Jackson</td>\n",
       "      <td>4772.8</td>\n",
       "      <td>69</td>\n",
       "      <td>69.2</td>\n",
       "      <td>The Avengers</td>\n",
       "      <td>623.4</td>\n",
       "    </tr>\n",
       "    <tr>\n",
       "      <th>2</th>\n",
       "      <td>Morgan Freeman</td>\n",
       "      <td>4468.3</td>\n",
       "      <td>61</td>\n",
       "      <td>73.3</td>\n",
       "      <td>The Dark Knight</td>\n",
       "      <td>534.9</td>\n",
       "    </tr>\n",
       "    <tr>\n",
       "      <th>3</th>\n",
       "      <td>Tom Hanks</td>\n",
       "      <td>4340.8</td>\n",
       "      <td>44</td>\n",
       "      <td>98.7</td>\n",
       "      <td>Toy Story 3</td>\n",
       "      <td>415.0</td>\n",
       "    </tr>\n",
       "    <tr>\n",
       "      <th>4</th>\n",
       "      <td>Robert Downey, Jr.</td>\n",
       "      <td>3947.3</td>\n",
       "      <td>53</td>\n",
       "      <td>74.5</td>\n",
       "      <td>The Avengers</td>\n",
       "      <td>623.4</td>\n",
       "    </tr>\n",
       "  </tbody>\n",
       "</table>\n",
       "</div>"
      ],
      "text/plain": [
       "                Actor  Total Gross  Number of Movies  Average per Movie  \\\n",
       "0       Harrison Ford       4871.7                41              118.8   \n",
       "1   Samuel L. Jackson       4772.8                69               69.2   \n",
       "2      Morgan Freeman       4468.3                61               73.3   \n",
       "3           Tom Hanks       4340.8                44               98.7   \n",
       "4  Robert Downey, Jr.       3947.3                53               74.5   \n",
       "\n",
       "                       #1 Movie  Gross  \n",
       "0  Star Wars: The Force Awakens  936.7  \n",
       "1                  The Avengers  623.4  \n",
       "2               The Dark Knight  534.9  \n",
       "3                   Toy Story 3  415.0  \n",
       "4                  The Avengers  623.4  "
      ]
     },
     "execution_count": 116,
     "metadata": {},
     "output_type": "execute_result"
    }
   ],
   "source": [
    "actors_url = 'https://drive.google.com/uc?export=download&id=1BkZuOs7u61DjhyaMn152ZbZUVhbInrwd'\n",
    "actors_data = pd.read_csv(actors_url)\n",
    "actors_data.head()"
   ]
  },
  {
   "cell_type": "code",
   "execution_count": 117,
   "metadata": {},
   "outputs": [
    {
     "data": {
      "text/plain": [
       "(50, 6)"
      ]
     },
     "execution_count": 117,
     "metadata": {},
     "output_type": "execute_result"
    }
   ],
   "source": [
    "# Check how big this dataset is\n",
    "\n",
    "actors_data.shape"
   ]
  },
  {
   "cell_type": "code",
   "execution_count": 118,
   "metadata": {},
   "outputs": [
    {
     "data": {
      "text/plain": [
       "Actor                 object\n",
       "Total Gross          float64\n",
       "Number of Movies       int64\n",
       "Average per Movie    float64\n",
       "#1 Movie              object\n",
       "Gross                float64\n",
       "dtype: object"
      ]
     },
     "execution_count": 118,
     "metadata": {},
     "output_type": "execute_result"
    }
   ],
   "source": [
    "# Check the dtypes and make sure they are what we expect\n",
    "\n",
    "actors_data.dtypes"
   ]
  },
  {
   "cell_type": "markdown",
   "metadata": {},
   "source": [
    "So the primary issue we have is that we can really only visualy handle two dimensional plots, which mostly means that for numerical data we can choose two of the variables and use them as the horizontal and vertical coordinates of a plot. We can (and sometimes will) try to use color, or shape/size to represent other variables at the same time.\n",
    "\n",
    "Seaborn has a convenient tool for trying to identify what numerical variables are interesting in a dataframe.\n",
    "\n",
    "(also before we go much futher, the [Seaborn help manual](https://seaborn.pydata.org/introduction.html) I particularly use the Gallery frequently).\n",
    "\n",
    "Also before we get started, this quote from the seaborn website is worth reading:  \n",
    "> There is no universally best way to visualize data. Different questions are best answered by different plots. Seaborn makes it easy to switch between different visual representations by using a consistent dataset-oriented API."
   ]
  },
  {
   "cell_type": "code",
   "execution_count": 119,
   "metadata": {},
   "outputs": [
    {
     "data": {
      "image/png": "[encoded data removed]",
      "text/plain": [
       "<Figure size 720x720 with 20 Axes>"
      ]
     },
     "metadata": {
      "needs_background": "light"
     },
     "output_type": "display_data"
    }
   ],
   "source": [
    "# Let's start with an overview of the numerical variables in the dataset\n",
    "\n",
    "sns.pairplot(data=actors_data );"
   ]
  },
  {
   "cell_type": "markdown",
   "metadata": {},
   "source": [
    "Pairplot gives us **scatter plots** for all of the pairs of numerical data in the DataFrame. What we are looking for depends on the questions we want to answer. What stands out to you?"
   ]
  },
  {
   "cell_type": "code",
   "execution_count": 120,
   "metadata": {},
   "outputs": [
    {
     "data": {
      "image/png": "[encoded data removed]",
      "text/plain": [
       "<Figure size 432x288 with 1 Axes>"
      ]
     },
     "metadata": {
      "needs_background": "light"
     },
     "output_type": "display_data"
    }
   ],
   "source": [
    "# Look at a single scatter plot\n",
    "\n",
    "sns.scatterplot(data=actors_data, x='Number of Movies', y='Average per Movie');"
   ]
  },
  {
   "cell_type": "markdown",
   "metadata": {},
   "source": [
    "Okay. So who is the actor off by themselves with very few movies, but a very high average gross of box office receipts (i.e. movies that sold a lot of tickets)?"
   ]
  },
  {
   "cell_type": "code",
   "execution_count": 121,
   "metadata": {},
   "outputs": [
    {
     "data": {
      "text/html": [
       "<div>\n",
       "<style scoped>\n",
       "    .dataframe tbody tr th:only-of-type {\n",
       "        vertical-align: middle;\n",
       "    }\n",
       "\n",
       "    .dataframe tbody tr th {\n",
       "        vertical-align: top;\n",
       "    }\n",
       "\n",
       "    .dataframe thead th {\n",
       "        text-align: right;\n",
       "    }\n",
       "</style>\n",
       "<table border=\"1\" class=\"dataframe\">\n",
       "  <thead>\n",
       "    <tr style=\"text-align: right;\">\n",
       "      <th></th>\n",
       "      <th>Actor</th>\n",
       "      <th>Total Gross</th>\n",
       "      <th>Number of Movies</th>\n",
       "      <th>Average per Movie</th>\n",
       "      <th>#1 Movie</th>\n",
       "      <th>Gross</th>\n",
       "    </tr>\n",
       "  </thead>\n",
       "  <tbody>\n",
       "    <tr>\n",
       "      <th>14</th>\n",
       "      <td>Anthony Daniels</td>\n",
       "      <td>3162.9</td>\n",
       "      <td>7</td>\n",
       "      <td>451.8</td>\n",
       "      <td>Star Wars: The Force Awakens</td>\n",
       "      <td>936.7</td>\n",
       "    </tr>\n",
       "  </tbody>\n",
       "</table>\n",
       "</div>"
      ],
      "text/plain": [
       "              Actor  Total Gross  Number of Movies  Average per Movie  \\\n",
       "14  Anthony Daniels       3162.9                 7              451.8   \n",
       "\n",
       "                        #1 Movie  Gross  \n",
       "14  Star Wars: The Force Awakens  936.7  "
      ]
     },
     "execution_count": 121,
     "metadata": {},
     "output_type": "execute_result"
    }
   ],
   "source": [
    "actors_data.loc[actors_data.loc[:, 'Number of Movies']<10]"
   ]
  },
  {
   "cell_type": "markdown",
   "metadata": {},
   "source": [
    "Who is Anthony Daniels?  Well it turns out he is someone whose only roles are in the Star Wars series, and he has been in nearly all of them*. (I actually want to say all of them, I think our dataset may be somewhat out of date).\n",
    "\n",
    "### Outliers\n",
    "\n",
    "So let's redo the plot but without this outlier. However first an interlude.\n",
    "\n",
    "We need to be very careful about dropping outliers from our dataset without thinking about what we are doing. For this dataset about actors, the consequences of removing an actor and drawing a mistaken conclusion are relatively low. However:  [Be careful removing outliers](https://fivethirtyeight.com/features/what-went-wrong-in-flint-water-crisis-michigan/)\n",
    "\n",
    "In 2014 the City of Flint, MI was conducting an EPA mandated periodic test of the water quality in the city. This involved testers collecting water samples from inside a random sample of houses. There were problems with the sampling methadology, the testers were not properly trained or supervised. Some of them did not run the faucet for the required time before collecting the samples, others collected the samples only from one faucet and not multiple faucets in the house.\n",
    "\n",
    "When the city analyzed the data, to their dismay they discovered that more than 10% of the samples collected had an actionable level of lead (more than 15 parts per billion). The data analysts looked at the results and realized that if they removed two of the outliers with very high lead readings, justifying it with their knowledge that testing procedures were possibly not followed leading to a highere reading, then the percentage of samples at the actionable level would be less than 10%.\n",
    "\n",
    "Why is 10% important to the city water company?  Well if more than 10% of the samples are above the actionable level, they are required by law to notify their customers that the city water may be contaminated with lead. At less than 10%of the samples being high, they did not need to notify anyone. \n",
    "\n",
    "**Three years later** a group of pediatricians in the city would come to the umistakable conclusion that the city water supply was contaiminated with lead. Lead poisoning is particularly insiduous because it causes damage to DNA that is then passed on to cause diseases in peoples offspring. \n",
    "\n",
    "We can remove outliers from datasets. However we need to do it with an awareness of (a) first and foremost what are the consequences if we make the wrong conclusion and (b) realizing that some problems will naturually have outliers and that they are true results not always evidence of errors in the samples. \n"
   ]
  },
  {
   "cell_type": "code",
   "execution_count": 122,
   "metadata": {},
   "outputs": [
    {
     "data": {
      "image/png": "[encoded data removed]",
      "text/plain": [
       "<Figure size 432x288 with 1 Axes>"
      ]
     },
     "metadata": {
      "needs_background": "light"
     },
     "output_type": "display_data"
    }
   ],
   "source": [
    "# Look at a single scatter plot\n",
    "\n",
    "sns.scatterplot(data=actors_data.drop(14), x='Number of Movies', y='Average per Movie');"
   ]
  },
  {
   "cell_type": "markdown",
   "metadata": {},
   "source": [
    "It appears there is a negative association between the number of movies an actor is in, and the average gross box office receipt for those movies. Why might this be? What else would you like to know?"
   ]
  },
  {
   "cell_type": "markdown",
   "metadata": {},
   "source": [
    "### Line Graphs\n",
    "\n",
    "Line graphs are commonly used for data that is *chronological* or *time series*. The classic example of time series data is studying how the price of a commodity or stock evolves over time. Consider this dataset of the price of regular gasoline and diesel in the US over time."
   ]
  },
  {
   "cell_type": "code",
   "execution_count": 123,
   "metadata": {},
   "outputs": [
    {
     "data": {
      "text/html": [
       "<div>\n",
       "<style scoped>\n",
       "    .dataframe tbody tr th:only-of-type {\n",
       "        vertical-align: middle;\n",
       "    }\n",
       "\n",
       "    .dataframe tbody tr th {\n",
       "        vertical-align: top;\n",
       "    }\n",
       "\n",
       "    .dataframe thead th {\n",
       "        text-align: right;\n",
       "    }\n",
       "</style>\n",
       "<table border=\"1\" class=\"dataframe\">\n",
       "  <thead>\n",
       "    <tr style=\"text-align: right;\">\n",
       "      <th></th>\n",
       "      <th>Week of</th>\n",
       "      <th>U.S. No 2 Diesel Retail Prices $/gal</th>\n",
       "      <th>U.S. Regular All Formulations Retail Gasoline Prices $/gal</th>\n",
       "    </tr>\n",
       "  </thead>\n",
       "  <tbody>\n",
       "    <tr>\n",
       "      <th>0</th>\n",
       "      <td>09/07/2020</td>\n",
       "      <td>2.435</td>\n",
       "      <td>2.211</td>\n",
       "    </tr>\n",
       "    <tr>\n",
       "      <th>1</th>\n",
       "      <td>08/31/2020</td>\n",
       "      <td>2.441</td>\n",
       "      <td>2.222</td>\n",
       "    </tr>\n",
       "    <tr>\n",
       "      <th>2</th>\n",
       "      <td>08/24/2020</td>\n",
       "      <td>2.426</td>\n",
       "      <td>2.182</td>\n",
       "    </tr>\n",
       "    <tr>\n",
       "      <th>3</th>\n",
       "      <td>08/17/2020</td>\n",
       "      <td>2.427</td>\n",
       "      <td>2.166</td>\n",
       "    </tr>\n",
       "    <tr>\n",
       "      <th>4</th>\n",
       "      <td>08/10/2020</td>\n",
       "      <td>2.428</td>\n",
       "      <td>2.166</td>\n",
       "    </tr>\n",
       "    <tr>\n",
       "      <th>...</th>\n",
       "      <td>...</td>\n",
       "      <td>...</td>\n",
       "      <td>...</td>\n",
       "    </tr>\n",
       "    <tr>\n",
       "      <th>1564</th>\n",
       "      <td>09/17/1990</td>\n",
       "      <td>NaN</td>\n",
       "      <td>1.266</td>\n",
       "    </tr>\n",
       "    <tr>\n",
       "      <th>1565</th>\n",
       "      <td>09/10/1990</td>\n",
       "      <td>NaN</td>\n",
       "      <td>1.252</td>\n",
       "    </tr>\n",
       "    <tr>\n",
       "      <th>1566</th>\n",
       "      <td>09/03/1990</td>\n",
       "      <td>NaN</td>\n",
       "      <td>1.242</td>\n",
       "    </tr>\n",
       "    <tr>\n",
       "      <th>1567</th>\n",
       "      <td>08/27/1990</td>\n",
       "      <td>NaN</td>\n",
       "      <td>1.245</td>\n",
       "    </tr>\n",
       "    <tr>\n",
       "      <th>1568</th>\n",
       "      <td>08/20/1990</td>\n",
       "      <td>NaN</td>\n",
       "      <td>1.191</td>\n",
       "    </tr>\n",
       "  </tbody>\n",
       "</table>\n",
       "<p>1569 rows × 3 columns</p>\n",
       "</div>"
      ],
      "text/plain": [
       "         Week of  U.S. No 2 Diesel Retail Prices $/gal  \\\n",
       "0     09/07/2020                                 2.435   \n",
       "1     08/31/2020                                 2.441   \n",
       "2     08/24/2020                                 2.426   \n",
       "3     08/17/2020                                 2.427   \n",
       "4     08/10/2020                                 2.428   \n",
       "...          ...                                   ...   \n",
       "1564  09/17/1990                                   NaN   \n",
       "1565  09/10/1990                                   NaN   \n",
       "1566  09/03/1990                                   NaN   \n",
       "1567  08/27/1990                                   NaN   \n",
       "1568  08/20/1990                                   NaN   \n",
       "\n",
       "      U.S. Regular All Formulations Retail Gasoline Prices $/gal  \n",
       "0                                                 2.211           \n",
       "1                                                 2.222           \n",
       "2                                                 2.182           \n",
       "3                                                 2.166           \n",
       "4                                                 2.166           \n",
       "...                                                 ...           \n",
       "1564                                              1.266           \n",
       "1565                                              1.252           \n",
       "1566                                              1.242           \n",
       "1567                                              1.245           \n",
       "1568                                              1.191           \n",
       "\n",
       "[1569 rows x 3 columns]"
      ]
     },
     "execution_count": 123,
     "metadata": {},
     "output_type": "execute_result"
    }
   ],
   "source": [
    "gas_url = 'https://drive.google.com/uc?export=download&id=17CZVxZb_UwxpoOcGADfkdNzdIe8p1ngF'\n",
    "gas_data = pd.read_csv(gas_url)\n",
    "gas_data"
   ]
  },
  {
   "cell_type": "code",
   "execution_count": 124,
   "metadata": {},
   "outputs": [
    {
     "data": {
      "text/plain": [
       "Week of                                                        object\n",
       "U.S. No 2 Diesel Retail Prices $/gal                          float64\n",
       "U.S. Regular All Formulations Retail Gasoline Prices $/gal    float64\n",
       "dtype: object"
      ]
     },
     "execution_count": 124,
     "metadata": {},
     "output_type": "execute_result"
    }
   ],
   "source": [
    "# Okay so small problem here. We have the dates but you might notice that they are not numerical\n",
    "\n",
    "gas_data.dtypes"
   ]
  },
  {
   "cell_type": "markdown",
   "metadata": {},
   "source": [
    "Python actually gives us some convenient tools for working with dates, and I'd like to use them here to show you how it sort of looks. \n",
    "\n",
    "First we are going to go through the 'Week of' columns and convert it to a Python date value. This is also going to be our first example of a Python function written by us."
   ]
  },
  {
   "cell_type": "code",
   "execution_count": 125,
   "metadata": {},
   "outputs": [],
   "source": [
    "from datetime import date\n",
    "\n",
    "\n",
    "# Define a function read_date that takes a string of the form 'mm/dd/yyyy' or 'm/d/yyyy' and converts it to a \n",
    "# date(yyyy, mm, dd) object.\n",
    "\n",
    "def read_date(str):\n",
    "    \n",
    "    month = int(str[:str.find('/')])   # Note you did exactly this construction on Friday\n",
    "    year = int(str[-4:])   # The year is always the last 4 digits\n",
    "    str2 = str[str.find('/')+1:]\n",
    "    day = int(str2[:str2.find('/')] ) # Finallly we get the day by peeling off the month and then looking for the next '/'\n",
    "    \n",
    "    # Note the advantage of doing it this way is we did not need to assume that month or day were two digits\n",
    "    # in the string. \n",
    "    \n",
    "    return date(year, month, day)\n",
    "\n",
    "    # Every Python function starts with a def function_name(arguments):\n",
    "    \n",
    "    # Has its commands one tab in from the def\n",
    "    \n",
    "    # Ends when it reaches a return and returns whatever object is put there."
   ]
  },
  {
   "cell_type": "code",
   "execution_count": 126,
   "metadata": {},
   "outputs": [
    {
     "data": {
      "text/plain": [
       "datetime.date(2020, 9, 14)"
      ]
     },
     "execution_count": 126,
     "metadata": {},
     "output_type": "execute_result"
    }
   ],
   "source": [
    "# Let's make sure it works:\n",
    "\n",
    "read_date('9/14/2020')"
   ]
  },
  {
   "cell_type": "code",
   "execution_count": 127,
   "metadata": {},
   "outputs": [],
   "source": [
    "gas_data.loc[:, 'Week of'] = [read_date(x) for x in gas_data.loc[:, 'Week of']]"
   ]
  },
  {
   "cell_type": "code",
   "execution_count": 128,
   "metadata": {},
   "outputs": [
    {
     "data": {
      "text/html": [
       "<div>\n",
       "<style scoped>\n",
       "    .dataframe tbody tr th:only-of-type {\n",
       "        vertical-align: middle;\n",
       "    }\n",
       "\n",
       "    .dataframe tbody tr th {\n",
       "        vertical-align: top;\n",
       "    }\n",
       "\n",
       "    .dataframe thead th {\n",
       "        text-align: right;\n",
       "    }\n",
       "</style>\n",
       "<table border=\"1\" class=\"dataframe\">\n",
       "  <thead>\n",
       "    <tr style=\"text-align: right;\">\n",
       "      <th></th>\n",
       "      <th>Week of</th>\n",
       "      <th>U.S. No 2 Diesel Retail Prices $/gal</th>\n",
       "      <th>U.S. Regular All Formulations Retail Gasoline Prices $/gal</th>\n",
       "    </tr>\n",
       "  </thead>\n",
       "  <tbody>\n",
       "    <tr>\n",
       "      <th>0</th>\n",
       "      <td>2020-09-07</td>\n",
       "      <td>2.435</td>\n",
       "      <td>2.211</td>\n",
       "    </tr>\n",
       "    <tr>\n",
       "      <th>1</th>\n",
       "      <td>2020-08-31</td>\n",
       "      <td>2.441</td>\n",
       "      <td>2.222</td>\n",
       "    </tr>\n",
       "    <tr>\n",
       "      <th>2</th>\n",
       "      <td>2020-08-24</td>\n",
       "      <td>2.426</td>\n",
       "      <td>2.182</td>\n",
       "    </tr>\n",
       "    <tr>\n",
       "      <th>3</th>\n",
       "      <td>2020-08-17</td>\n",
       "      <td>2.427</td>\n",
       "      <td>2.166</td>\n",
       "    </tr>\n",
       "    <tr>\n",
       "      <th>4</th>\n",
       "      <td>2020-08-10</td>\n",
       "      <td>2.428</td>\n",
       "      <td>2.166</td>\n",
       "    </tr>\n",
       "    <tr>\n",
       "      <th>...</th>\n",
       "      <td>...</td>\n",
       "      <td>...</td>\n",
       "      <td>...</td>\n",
       "    </tr>\n",
       "    <tr>\n",
       "      <th>1564</th>\n",
       "      <td>1990-09-17</td>\n",
       "      <td>NaN</td>\n",
       "      <td>1.266</td>\n",
       "    </tr>\n",
       "    <tr>\n",
       "      <th>1565</th>\n",
       "      <td>1990-09-10</td>\n",
       "      <td>NaN</td>\n",
       "      <td>1.252</td>\n",
       "    </tr>\n",
       "    <tr>\n",
       "      <th>1566</th>\n",
       "      <td>1990-09-03</td>\n",
       "      <td>NaN</td>\n",
       "      <td>1.242</td>\n",
       "    </tr>\n",
       "    <tr>\n",
       "      <th>1567</th>\n",
       "      <td>1990-08-27</td>\n",
       "      <td>NaN</td>\n",
       "      <td>1.245</td>\n",
       "    </tr>\n",
       "    <tr>\n",
       "      <th>1568</th>\n",
       "      <td>1990-08-20</td>\n",
       "      <td>NaN</td>\n",
       "      <td>1.191</td>\n",
       "    </tr>\n",
       "  </tbody>\n",
       "</table>\n",
       "<p>1569 rows × 3 columns</p>\n",
       "</div>"
      ],
      "text/plain": [
       "         Week of  U.S. No 2 Diesel Retail Prices $/gal  \\\n",
       "0     2020-09-07                                 2.435   \n",
       "1     2020-08-31                                 2.441   \n",
       "2     2020-08-24                                 2.426   \n",
       "3     2020-08-17                                 2.427   \n",
       "4     2020-08-10                                 2.428   \n",
       "...          ...                                   ...   \n",
       "1564  1990-09-17                                   NaN   \n",
       "1565  1990-09-10                                   NaN   \n",
       "1566  1990-09-03                                   NaN   \n",
       "1567  1990-08-27                                   NaN   \n",
       "1568  1990-08-20                                   NaN   \n",
       "\n",
       "      U.S. Regular All Formulations Retail Gasoline Prices $/gal  \n",
       "0                                                 2.211           \n",
       "1                                                 2.222           \n",
       "2                                                 2.182           \n",
       "3                                                 2.166           \n",
       "4                                                 2.166           \n",
       "...                                                 ...           \n",
       "1564                                              1.266           \n",
       "1565                                              1.252           \n",
       "1566                                              1.242           \n",
       "1567                                              1.245           \n",
       "1568                                              1.191           \n",
       "\n",
       "[1569 rows x 3 columns]"
      ]
     },
     "execution_count": 128,
     "metadata": {},
     "output_type": "execute_result"
    }
   ],
   "source": [
    "gas_data"
   ]
  },
  {
   "cell_type": "markdown",
   "metadata": {},
   "source": [
    "Once we have the date in this standard Python format, Seaborn knows how to handle it."
   ]
  },
  {
   "cell_type": "code",
   "execution_count": 129,
   "metadata": {},
   "outputs": [
    {
     "data": {
      "text/plain": [
       "<AxesSubplot:xlabel='Week of', ylabel='U.S. Regular All Formulations Retail Gasoline Prices $/gal'>"
      ]
     },
     "execution_count": 129,
     "metadata": {},
     "output_type": "execute_result"
    },
    {
     "data": {
      "image/png": "[encoded data removed]",
      "text/plain": [
       "<Figure size 432x288 with 1 Axes>"
      ]
     },
     "metadata": {
      "needs_background": "light"
     },
     "output_type": "display_data"
    }
   ],
   "source": [
    "sns.lineplot(x='Week of', y='U.S. Regular All Formulations Retail Gasoline Prices $/gal', data=gas_data)"
   ]
  },
  {
   "cell_type": "markdown",
   "metadata": {},
   "source": [
    "### Multiple Line Plots\n",
    "\n",
    "Suppose we want to plot both columns at once and use a color to identify them.\n",
    "\n",
    "What we need to do is create a new data frame with a column that is the date, a column that is the price, and a third column that specifies what type of fuel."
   ]
  },
  {
   "cell_type": "code",
   "execution_count": 130,
   "metadata": {},
   "outputs": [
    {
     "data": {
      "text/html": [
       "<div>\n",
       "<style scoped>\n",
       "    .dataframe tbody tr th:only-of-type {\n",
       "        vertical-align: middle;\n",
       "    }\n",
       "\n",
       "    .dataframe tbody tr th {\n",
       "        vertical-align: top;\n",
       "    }\n",
       "\n",
       "    .dataframe thead th {\n",
       "        text-align: right;\n",
       "    }\n",
       "</style>\n",
       "<table border=\"1\" class=\"dataframe\">\n",
       "  <thead>\n",
       "    <tr style=\"text-align: right;\">\n",
       "      <th></th>\n",
       "      <th>date</th>\n",
       "      <th>price</th>\n",
       "      <th>type</th>\n",
       "    </tr>\n",
       "  </thead>\n",
       "  <tbody>\n",
       "    <tr>\n",
       "      <th>0</th>\n",
       "      <td>2020-09-07</td>\n",
       "      <td>2.211</td>\n",
       "      <td>gasoline</td>\n",
       "    </tr>\n",
       "    <tr>\n",
       "      <th>1</th>\n",
       "      <td>2020-08-31</td>\n",
       "      <td>2.222</td>\n",
       "      <td>gasoline</td>\n",
       "    </tr>\n",
       "    <tr>\n",
       "      <th>2</th>\n",
       "      <td>2020-08-24</td>\n",
       "      <td>2.182</td>\n",
       "      <td>gasoline</td>\n",
       "    </tr>\n",
       "    <tr>\n",
       "      <th>3</th>\n",
       "      <td>2020-08-17</td>\n",
       "      <td>2.166</td>\n",
       "      <td>gasoline</td>\n",
       "    </tr>\n",
       "    <tr>\n",
       "      <th>4</th>\n",
       "      <td>2020-08-10</td>\n",
       "      <td>2.166</td>\n",
       "      <td>gasoline</td>\n",
       "    </tr>\n",
       "    <tr>\n",
       "      <th>...</th>\n",
       "      <td>...</td>\n",
       "      <td>...</td>\n",
       "      <td>...</td>\n",
       "    </tr>\n",
       "    <tr>\n",
       "      <th>1564</th>\n",
       "      <td>1990-09-17</td>\n",
       "      <td>1.266</td>\n",
       "      <td>gasoline</td>\n",
       "    </tr>\n",
       "    <tr>\n",
       "      <th>1565</th>\n",
       "      <td>1990-09-10</td>\n",
       "      <td>1.252</td>\n",
       "      <td>gasoline</td>\n",
       "    </tr>\n",
       "    <tr>\n",
       "      <th>1566</th>\n",
       "      <td>1990-09-03</td>\n",
       "      <td>1.242</td>\n",
       "      <td>gasoline</td>\n",
       "    </tr>\n",
       "    <tr>\n",
       "      <th>1567</th>\n",
       "      <td>1990-08-27</td>\n",
       "      <td>1.245</td>\n",
       "      <td>gasoline</td>\n",
       "    </tr>\n",
       "    <tr>\n",
       "      <th>1568</th>\n",
       "      <td>1990-08-20</td>\n",
       "      <td>1.191</td>\n",
       "      <td>gasoline</td>\n",
       "    </tr>\n",
       "  </tbody>\n",
       "</table>\n",
       "<p>1569 rows × 3 columns</p>\n",
       "</div>"
      ],
      "text/plain": [
       "            date  price      type\n",
       "0     2020-09-07  2.211  gasoline\n",
       "1     2020-08-31  2.222  gasoline\n",
       "2     2020-08-24  2.182  gasoline\n",
       "3     2020-08-17  2.166  gasoline\n",
       "4     2020-08-10  2.166  gasoline\n",
       "...          ...    ...       ...\n",
       "1564  1990-09-17  1.266  gasoline\n",
       "1565  1990-09-10  1.252  gasoline\n",
       "1566  1990-09-03  1.242  gasoline\n",
       "1567  1990-08-27  1.245  gasoline\n",
       "1568  1990-08-20  1.191  gasoline\n",
       "\n",
       "[1569 rows x 3 columns]"
      ]
     },
     "execution_count": 130,
     "metadata": {},
     "output_type": "execute_result"
    }
   ],
   "source": [
    "fuel_gas_data = pd.DataFrame([gas_data.iloc[:, 0], gas_data.iloc[:, 2]], index = ['date', 'price']).transpose()\n",
    "# Note the transpose. For some reason Pandas defaults to rows when doing this.\n",
    "\n",
    "fuel_gas_data.loc[:, 'type'] = 'gasoline'\n",
    "# Set the type to be 'gasoline'\n",
    "\n",
    "fuel_gas_data"
   ]
  },
  {
   "cell_type": "code",
   "execution_count": 131,
   "metadata": {},
   "outputs": [],
   "source": [
    "# Now do the same for diesel (column 1 rather than 2) note it is going to be important that we use the same\n",
    "# names for the columns in this DataFrame\n",
    "\n",
    "fuel_diesel_data = pd.DataFrame([gas_data.iloc[:, 0], gas_data.iloc[:, 1]], index = ['date', 'price']).transpose()\n",
    "\n",
    "fuel_diesel_data.loc[:, 'type'] = 'diesel'"
   ]
  },
  {
   "cell_type": "code",
   "execution_count": 132,
   "metadata": {},
   "outputs": [
    {
     "data": {
      "text/html": [
       "<div>\n",
       "<style scoped>\n",
       "    .dataframe tbody tr th:only-of-type {\n",
       "        vertical-align: middle;\n",
       "    }\n",
       "\n",
       "    .dataframe tbody tr th {\n",
       "        vertical-align: top;\n",
       "    }\n",
       "\n",
       "    .dataframe thead th {\n",
       "        text-align: right;\n",
       "    }\n",
       "</style>\n",
       "<table border=\"1\" class=\"dataframe\">\n",
       "  <thead>\n",
       "    <tr style=\"text-align: right;\">\n",
       "      <th></th>\n",
       "      <th>date</th>\n",
       "      <th>price</th>\n",
       "      <th>type</th>\n",
       "    </tr>\n",
       "  </thead>\n",
       "  <tbody>\n",
       "    <tr>\n",
       "      <th>0</th>\n",
       "      <td>2020-09-07</td>\n",
       "      <td>2.211</td>\n",
       "      <td>gasoline</td>\n",
       "    </tr>\n",
       "    <tr>\n",
       "      <th>1</th>\n",
       "      <td>2020-08-31</td>\n",
       "      <td>2.222</td>\n",
       "      <td>gasoline</td>\n",
       "    </tr>\n",
       "    <tr>\n",
       "      <th>2</th>\n",
       "      <td>2020-08-24</td>\n",
       "      <td>2.182</td>\n",
       "      <td>gasoline</td>\n",
       "    </tr>\n",
       "    <tr>\n",
       "      <th>3</th>\n",
       "      <td>2020-08-17</td>\n",
       "      <td>2.166</td>\n",
       "      <td>gasoline</td>\n",
       "    </tr>\n",
       "    <tr>\n",
       "      <th>4</th>\n",
       "      <td>2020-08-10</td>\n",
       "      <td>2.166</td>\n",
       "      <td>gasoline</td>\n",
       "    </tr>\n",
       "    <tr>\n",
       "      <th>...</th>\n",
       "      <td>...</td>\n",
       "      <td>...</td>\n",
       "      <td>...</td>\n",
       "    </tr>\n",
       "    <tr>\n",
       "      <th>1564</th>\n",
       "      <td>1990-09-17</td>\n",
       "      <td>NaN</td>\n",
       "      <td>diesel</td>\n",
       "    </tr>\n",
       "    <tr>\n",
       "      <th>1565</th>\n",
       "      <td>1990-09-10</td>\n",
       "      <td>NaN</td>\n",
       "      <td>diesel</td>\n",
       "    </tr>\n",
       "    <tr>\n",
       "      <th>1566</th>\n",
       "      <td>1990-09-03</td>\n",
       "      <td>NaN</td>\n",
       "      <td>diesel</td>\n",
       "    </tr>\n",
       "    <tr>\n",
       "      <th>1567</th>\n",
       "      <td>1990-08-27</td>\n",
       "      <td>NaN</td>\n",
       "      <td>diesel</td>\n",
       "    </tr>\n",
       "    <tr>\n",
       "      <th>1568</th>\n",
       "      <td>1990-08-20</td>\n",
       "      <td>NaN</td>\n",
       "      <td>diesel</td>\n",
       "    </tr>\n",
       "  </tbody>\n",
       "</table>\n",
       "<p>3138 rows × 3 columns</p>\n",
       "</div>"
      ],
      "text/plain": [
       "            date  price      type\n",
       "0     2020-09-07  2.211  gasoline\n",
       "1     2020-08-31  2.222  gasoline\n",
       "2     2020-08-24  2.182  gasoline\n",
       "3     2020-08-17  2.166  gasoline\n",
       "4     2020-08-10  2.166  gasoline\n",
       "...          ...    ...       ...\n",
       "1564  1990-09-17    NaN    diesel\n",
       "1565  1990-09-10    NaN    diesel\n",
       "1566  1990-09-03    NaN    diesel\n",
       "1567  1990-08-27    NaN    diesel\n",
       "1568  1990-08-20    NaN    diesel\n",
       "\n",
       "[3138 rows x 3 columns]"
      ]
     },
     "execution_count": 132,
     "metadata": {},
     "output_type": "execute_result"
    }
   ],
   "source": [
    "# Now combine the two dataframes into one with pandas.concat\n",
    "\n",
    "fuel_data = pd.concat([fuel_gas_data, fuel_diesel_data], axis = 0)\n",
    "\n",
    "# The dtype of 'price' needs to be reset (more or less the problem is the .transpose() I had to use above. \n",
    "# Python casts the dtype by column not by row).\n",
    "\n",
    "fuel_data.loc[:, 'price'] = fuel_data.loc[:, 'price'].astype('float64')\n",
    "\n",
    "\n",
    "fuel_data"
   ]
  },
  {
   "cell_type": "code",
   "execution_count": 133,
   "metadata": {},
   "outputs": [
    {
     "data": {
      "text/plain": [
       "<AxesSubplot:xlabel='date', ylabel='price'>"
      ]
     },
     "execution_count": 133,
     "metadata": {},
     "output_type": "execute_result"
    },
    {
     "data": {
      "image/png": "[encoded data removed]",
      "text/plain": [
       "<Figure size 864x576 with 1 Axes>"
      ]
     },
     "metadata": {
      "needs_background": "light"
     },
     "output_type": "display_data"
    }
   ],
   "source": [
    "# Now send it to seaborn lineplot again, but now with a hue\n",
    "\n",
    "plt.figure(figsize = (12, 8))\n",
    "sns.lineplot(x='date', y='price', hue='type', data=fuel_data)"
   ]
  },
  {
   "cell_type": "markdown",
   "metadata": {},
   "source": [
    "That's really neat. \n",
    "\n",
    "What if we just want the plot since January, 2016?  What could we do?"
   ]
  },
  {
   "cell_type": "code",
   "execution_count": null,
   "metadata": {},
   "outputs": [],
   "source": []
  },
  {
   "cell_type": "markdown",
   "metadata": {},
   "source": [
    "So one of the punchlines here is that you need the x, y, hue, and shape variables to all be single columns from your dataframe. But you need to be ready to manipulate your initial dataframe into one that is set up to produce the graph you have in mind.\n",
    "\n",
    "## Categorical Data\n",
    "\n",
    "\n",
    "Consider the dataset of the top grossing US movies of all time."
   ]
  },
  {
   "cell_type": "code",
   "execution_count": 134,
   "metadata": {},
   "outputs": [
    {
     "data": {
      "text/html": [
       "<div>\n",
       "<style scoped>\n",
       "    .dataframe tbody tr th:only-of-type {\n",
       "        vertical-align: middle;\n",
       "    }\n",
       "\n",
       "    .dataframe tbody tr th {\n",
       "        vertical-align: top;\n",
       "    }\n",
       "\n",
       "    .dataframe thead th {\n",
       "        text-align: right;\n",
       "    }\n",
       "</style>\n",
       "<table border=\"1\" class=\"dataframe\">\n",
       "  <thead>\n",
       "    <tr style=\"text-align: right;\">\n",
       "      <th></th>\n",
       "      <th>Title</th>\n",
       "      <th>Studio</th>\n",
       "      <th>Gross</th>\n",
       "      <th>Gross (Adjusted)</th>\n",
       "      <th>Year</th>\n",
       "    </tr>\n",
       "  </thead>\n",
       "  <tbody>\n",
       "    <tr>\n",
       "      <th>0</th>\n",
       "      <td>Star Wars: The Force Awakens</td>\n",
       "      <td>Buena Vista (Disney)</td>\n",
       "      <td>906723418</td>\n",
       "      <td>906723400</td>\n",
       "      <td>2015</td>\n",
       "    </tr>\n",
       "    <tr>\n",
       "      <th>1</th>\n",
       "      <td>Avatar</td>\n",
       "      <td>Fox</td>\n",
       "      <td>760507625</td>\n",
       "      <td>846120800</td>\n",
       "      <td>2009</td>\n",
       "    </tr>\n",
       "    <tr>\n",
       "      <th>2</th>\n",
       "      <td>Titanic</td>\n",
       "      <td>Paramount</td>\n",
       "      <td>658672302</td>\n",
       "      <td>1178627900</td>\n",
       "      <td>1997</td>\n",
       "    </tr>\n",
       "    <tr>\n",
       "      <th>3</th>\n",
       "      <td>Jurassic World</td>\n",
       "      <td>Universal</td>\n",
       "      <td>652270625</td>\n",
       "      <td>687728000</td>\n",
       "      <td>2015</td>\n",
       "    </tr>\n",
       "    <tr>\n",
       "      <th>4</th>\n",
       "      <td>Marvel's The Avengers</td>\n",
       "      <td>Buena Vista (Disney)</td>\n",
       "      <td>623357910</td>\n",
       "      <td>668866600</td>\n",
       "      <td>2012</td>\n",
       "    </tr>\n",
       "    <tr>\n",
       "      <th>...</th>\n",
       "      <td>...</td>\n",
       "      <td>...</td>\n",
       "      <td>...</td>\n",
       "      <td>...</td>\n",
       "      <td>...</td>\n",
       "    </tr>\n",
       "    <tr>\n",
       "      <th>195</th>\n",
       "      <td>The Caine Mutiny</td>\n",
       "      <td>Columbia</td>\n",
       "      <td>21750000</td>\n",
       "      <td>386173500</td>\n",
       "      <td>1954</td>\n",
       "    </tr>\n",
       "    <tr>\n",
       "      <th>196</th>\n",
       "      <td>The Bells of St. Mary's</td>\n",
       "      <td>RKO</td>\n",
       "      <td>21333333</td>\n",
       "      <td>545882400</td>\n",
       "      <td>1945</td>\n",
       "    </tr>\n",
       "    <tr>\n",
       "      <th>197</th>\n",
       "      <td>Duel in the Sun</td>\n",
       "      <td>Selz.</td>\n",
       "      <td>20408163</td>\n",
       "      <td>443877500</td>\n",
       "      <td>1946</td>\n",
       "    </tr>\n",
       "    <tr>\n",
       "      <th>198</th>\n",
       "      <td>Sergeant York</td>\n",
       "      <td>Warner Bros.</td>\n",
       "      <td>16361885</td>\n",
       "      <td>418671800</td>\n",
       "      <td>1941</td>\n",
       "    </tr>\n",
       "    <tr>\n",
       "      <th>199</th>\n",
       "      <td>The Four Horsemen of the Apocalypse</td>\n",
       "      <td>MPC</td>\n",
       "      <td>9183673</td>\n",
       "      <td>399489800</td>\n",
       "      <td>1921</td>\n",
       "    </tr>\n",
       "  </tbody>\n",
       "</table>\n",
       "<p>200 rows × 5 columns</p>\n",
       "</div>"
      ],
      "text/plain": [
       "                                   Title                Studio      Gross  \\\n",
       "0           Star Wars: The Force Awakens  Buena Vista (Disney)  906723418   \n",
       "1                                 Avatar                   Fox  760507625   \n",
       "2                                Titanic             Paramount  658672302   \n",
       "3                         Jurassic World             Universal  652270625   \n",
       "4                  Marvel's The Avengers  Buena Vista (Disney)  623357910   \n",
       "..                                   ...                   ...        ...   \n",
       "195                     The Caine Mutiny              Columbia   21750000   \n",
       "196              The Bells of St. Mary's                   RKO   21333333   \n",
       "197                      Duel in the Sun                 Selz.   20408163   \n",
       "198                        Sergeant York          Warner Bros.   16361885   \n",
       "199  The Four Horsemen of the Apocalypse                   MPC    9183673   \n",
       "\n",
       "     Gross (Adjusted)  Year  \n",
       "0           906723400  2015  \n",
       "1           846120800  2009  \n",
       "2          1178627900  1997  \n",
       "3           687728000  2015  \n",
       "4           668866600  2012  \n",
       "..                ...   ...  \n",
       "195         386173500  1954  \n",
       "196         545882400  1945  \n",
       "197         443877500  1946  \n",
       "198         418671800  1941  \n",
       "199         399489800  1921  \n",
       "\n",
       "[200 rows x 5 columns]"
      ]
     },
     "execution_count": 134,
     "metadata": {},
     "output_type": "execute_result"
    }
   ],
   "source": [
    "top_url = 'https://drive.google.com/uc?export=download&id=116jGAaBaAneK-jt4jLSe7iAwo9DeBrbn'\n",
    "top_data = pd.read_csv(top_url)\n",
    "top_data"
   ]
  },
  {
   "cell_type": "markdown",
   "metadata": {},
   "source": [
    "Note that the 'title' and 'Studio' factors are categorical variables. In particular it does not really make a lot of sense to try and use them as the positions on an axis. Note that the 'Year' answer while being a number, has more in common with a cateagorical variables -- There are a limited number of answers and each one is used multiple times.\n",
    "\n",
    "The Disney subsidiary Buena Vista appears frequently as does the Fox studio. Let's compare how frequently using .groupby() and .count()."
   ]
  },
  {
   "cell_type": "code",
   "execution_count": 135,
   "metadata": {},
   "outputs": [
    {
     "data": {
      "text/html": [
       "<div>\n",
       "<style scoped>\n",
       "    .dataframe tbody tr th:only-of-type {\n",
       "        vertical-align: middle;\n",
       "    }\n",
       "\n",
       "    .dataframe tbody tr th {\n",
       "        vertical-align: top;\n",
       "    }\n",
       "\n",
       "    .dataframe thead th {\n",
       "        text-align: right;\n",
       "    }\n",
       "</style>\n",
       "<table border=\"1\" class=\"dataframe\">\n",
       "  <thead>\n",
       "    <tr style=\"text-align: right;\">\n",
       "      <th></th>\n",
       "      <th>Title</th>\n",
       "      <th>Studio</th>\n",
       "    </tr>\n",
       "  </thead>\n",
       "  <tbody>\n",
       "    <tr>\n",
       "      <th>0</th>\n",
       "      <td>Star Wars: The Force Awakens</td>\n",
       "      <td>Buena Vista (Disney)</td>\n",
       "    </tr>\n",
       "    <tr>\n",
       "      <th>1</th>\n",
       "      <td>Avatar</td>\n",
       "      <td>Fox</td>\n",
       "    </tr>\n",
       "    <tr>\n",
       "      <th>2</th>\n",
       "      <td>Titanic</td>\n",
       "      <td>Paramount</td>\n",
       "    </tr>\n",
       "    <tr>\n",
       "      <th>3</th>\n",
       "      <td>Jurassic World</td>\n",
       "      <td>Universal</td>\n",
       "    </tr>\n",
       "    <tr>\n",
       "      <th>4</th>\n",
       "      <td>Marvel's The Avengers</td>\n",
       "      <td>Buena Vista (Disney)</td>\n",
       "    </tr>\n",
       "    <tr>\n",
       "      <th>...</th>\n",
       "      <td>...</td>\n",
       "      <td>...</td>\n",
       "    </tr>\n",
       "    <tr>\n",
       "      <th>195</th>\n",
       "      <td>The Caine Mutiny</td>\n",
       "      <td>Columbia</td>\n",
       "    </tr>\n",
       "    <tr>\n",
       "      <th>196</th>\n",
       "      <td>The Bells of St. Mary's</td>\n",
       "      <td>RKO</td>\n",
       "    </tr>\n",
       "    <tr>\n",
       "      <th>197</th>\n",
       "      <td>Duel in the Sun</td>\n",
       "      <td>Selz.</td>\n",
       "    </tr>\n",
       "    <tr>\n",
       "      <th>198</th>\n",
       "      <td>Sergeant York</td>\n",
       "      <td>Warner Bros.</td>\n",
       "    </tr>\n",
       "    <tr>\n",
       "      <th>199</th>\n",
       "      <td>The Four Horsemen of the Apocalypse</td>\n",
       "      <td>MPC</td>\n",
       "    </tr>\n",
       "  </tbody>\n",
       "</table>\n",
       "<p>200 rows × 2 columns</p>\n",
       "</div>"
      ],
      "text/plain": [
       "                                   Title                Studio\n",
       "0           Star Wars: The Force Awakens  Buena Vista (Disney)\n",
       "1                                 Avatar                   Fox\n",
       "2                                Titanic             Paramount\n",
       "3                         Jurassic World             Universal\n",
       "4                  Marvel's The Avengers  Buena Vista (Disney)\n",
       "..                                   ...                   ...\n",
       "195                     The Caine Mutiny              Columbia\n",
       "196              The Bells of St. Mary's                   RKO\n",
       "197                      Duel in the Sun                 Selz.\n",
       "198                        Sergeant York          Warner Bros.\n",
       "199  The Four Horsemen of the Apocalypse                   MPC\n",
       "\n",
       "[200 rows x 2 columns]"
      ]
     },
     "execution_count": 135,
     "metadata": {},
     "output_type": "execute_result"
    }
   ],
   "source": [
    "# First we drop the numerical variables\n",
    "\n",
    "top2_data = top_data.loc[:, ['Title', 'Studio']]\n",
    "top2_data"
   ]
  },
  {
   "cell_type": "markdown",
   "metadata": {},
   "source": [
    "Question:  What are two more methods of producing top2_data we could have used?"
   ]
  },
  {
   "cell_type": "code",
   "execution_count": 136,
   "metadata": {},
   "outputs": [
    {
     "data": {
      "text/html": [
       "<div>\n",
       "<style scoped>\n",
       "    .dataframe tbody tr th:only-of-type {\n",
       "        vertical-align: middle;\n",
       "    }\n",
       "\n",
       "    .dataframe tbody tr th {\n",
       "        vertical-align: top;\n",
       "    }\n",
       "\n",
       "    .dataframe thead th {\n",
       "        text-align: right;\n",
       "    }\n",
       "</style>\n",
       "<table border=\"1\" class=\"dataframe\">\n",
       "  <thead>\n",
       "    <tr style=\"text-align: right;\">\n",
       "      <th></th>\n",
       "      <th>Title</th>\n",
       "    </tr>\n",
       "    <tr>\n",
       "      <th>Studio</th>\n",
       "      <th></th>\n",
       "    </tr>\n",
       "  </thead>\n",
       "  <tbody>\n",
       "    <tr>\n",
       "      <th>AVCO</th>\n",
       "      <td>1</td>\n",
       "    </tr>\n",
       "    <tr>\n",
       "      <th>Buena Vista (Disney)</th>\n",
       "      <td>29</td>\n",
       "    </tr>\n",
       "    <tr>\n",
       "      <th>Columbia</th>\n",
       "      <td>10</td>\n",
       "    </tr>\n",
       "    <tr>\n",
       "      <th>Disney</th>\n",
       "      <td>11</td>\n",
       "    </tr>\n",
       "    <tr>\n",
       "      <th>Dreamworks</th>\n",
       "      <td>3</td>\n",
       "    </tr>\n",
       "    <tr>\n",
       "      <th>Fox</th>\n",
       "      <td>26</td>\n",
       "    </tr>\n",
       "    <tr>\n",
       "      <th>IFC</th>\n",
       "      <td>1</td>\n",
       "    </tr>\n",
       "    <tr>\n",
       "      <th>Lionsgate</th>\n",
       "      <td>3</td>\n",
       "    </tr>\n",
       "    <tr>\n",
       "      <th>MGM</th>\n",
       "      <td>7</td>\n",
       "    </tr>\n",
       "    <tr>\n",
       "      <th>MPC</th>\n",
       "      <td>1</td>\n",
       "    </tr>\n",
       "    <tr>\n",
       "      <th>NM</th>\n",
       "      <td>1</td>\n",
       "    </tr>\n",
       "    <tr>\n",
       "      <th>New Line</th>\n",
       "      <td>5</td>\n",
       "    </tr>\n",
       "    <tr>\n",
       "      <th>Orion</th>\n",
       "      <td>1</td>\n",
       "    </tr>\n",
       "    <tr>\n",
       "      <th>Paramount</th>\n",
       "      <td>25</td>\n",
       "    </tr>\n",
       "    <tr>\n",
       "      <th>Paramount/Dreamworks</th>\n",
       "      <td>4</td>\n",
       "    </tr>\n",
       "    <tr>\n",
       "      <th>RKO</th>\n",
       "      <td>3</td>\n",
       "    </tr>\n",
       "    <tr>\n",
       "      <th>Selz.</th>\n",
       "      <td>1</td>\n",
       "    </tr>\n",
       "    <tr>\n",
       "      <th>Sony</th>\n",
       "      <td>6</td>\n",
       "    </tr>\n",
       "    <tr>\n",
       "      <th>Sum.</th>\n",
       "      <td>2</td>\n",
       "    </tr>\n",
       "    <tr>\n",
       "      <th>TriS</th>\n",
       "      <td>2</td>\n",
       "    </tr>\n",
       "    <tr>\n",
       "      <th>UA</th>\n",
       "      <td>6</td>\n",
       "    </tr>\n",
       "    <tr>\n",
       "      <th>Universal</th>\n",
       "      <td>22</td>\n",
       "    </tr>\n",
       "    <tr>\n",
       "      <th>Warner Bros.</th>\n",
       "      <td>29</td>\n",
       "    </tr>\n",
       "    <tr>\n",
       "      <th>Warner Bros. (New Line)</th>\n",
       "      <td>1</td>\n",
       "    </tr>\n",
       "  </tbody>\n",
       "</table>\n",
       "</div>"
      ],
      "text/plain": [
       "                         Title\n",
       "Studio                        \n",
       "AVCO                         1\n",
       "Buena Vista (Disney)        29\n",
       "Columbia                    10\n",
       "Disney                      11\n",
       "Dreamworks                   3\n",
       "Fox                         26\n",
       "IFC                          1\n",
       "Lionsgate                    3\n",
       "MGM                          7\n",
       "MPC                          1\n",
       "NM                           1\n",
       "New Line                     5\n",
       "Orion                        1\n",
       "Paramount                   25\n",
       "Paramount/Dreamworks         4\n",
       "RKO                          3\n",
       "Selz.                        1\n",
       "Sony                         6\n",
       "Sum.                         2\n",
       "TriS                         2\n",
       "UA                           6\n",
       "Universal                   22\n",
       "Warner Bros.                29\n",
       "Warner Bros. (New Line)      1"
      ]
     },
     "execution_count": 136,
     "metadata": {},
     "output_type": "execute_result"
    }
   ],
   "source": [
    "# now let's use groupby to get the studio frequencies\n",
    "\n",
    "movies_count = top2_data.groupby(['Studio']).count()\n",
    "movies_count"
   ]
  },
  {
   "cell_type": "markdown",
   "metadata": {},
   "source": [
    "Note that this produces a number in the Title column. It probably makes more sense to rename that columns. It also has used the first column, the name of the studio, as the index. For Seaborn to work with this we are going to need to turn that back into a column. Let's do both those things next."
   ]
  },
  {
   "cell_type": "code",
   "execution_count": 137,
   "metadata": {},
   "outputs": [
    {
     "data": {
      "text/html": [
       "<div>\n",
       "<style scoped>\n",
       "    .dataframe tbody tr th:only-of-type {\n",
       "        vertical-align: middle;\n",
       "    }\n",
       "\n",
       "    .dataframe tbody tr th {\n",
       "        vertical-align: top;\n",
       "    }\n",
       "\n",
       "    .dataframe thead th {\n",
       "        text-align: right;\n",
       "    }\n",
       "</style>\n",
       "<table border=\"1\" class=\"dataframe\">\n",
       "  <thead>\n",
       "    <tr style=\"text-align: right;\">\n",
       "      <th></th>\n",
       "      <th>Studio</th>\n",
       "      <th>count</th>\n",
       "    </tr>\n",
       "  </thead>\n",
       "  <tbody>\n",
       "    <tr>\n",
       "      <th>0</th>\n",
       "      <td>AVCO</td>\n",
       "      <td>1</td>\n",
       "    </tr>\n",
       "    <tr>\n",
       "      <th>1</th>\n",
       "      <td>Buena Vista (Disney)</td>\n",
       "      <td>29</td>\n",
       "    </tr>\n",
       "    <tr>\n",
       "      <th>2</th>\n",
       "      <td>Columbia</td>\n",
       "      <td>10</td>\n",
       "    </tr>\n",
       "    <tr>\n",
       "      <th>3</th>\n",
       "      <td>Disney</td>\n",
       "      <td>11</td>\n",
       "    </tr>\n",
       "    <tr>\n",
       "      <th>4</th>\n",
       "      <td>Dreamworks</td>\n",
       "      <td>3</td>\n",
       "    </tr>\n",
       "  </tbody>\n",
       "</table>\n",
       "</div>"
      ],
      "text/plain": [
       "                 Studio  count\n",
       "0                  AVCO      1\n",
       "1  Buena Vista (Disney)     29\n",
       "2              Columbia     10\n",
       "3                Disney     11\n",
       "4            Dreamworks      3"
      ]
     },
     "execution_count": 137,
     "metadata": {},
     "output_type": "execute_result"
    }
   ],
   "source": [
    "# We can rename the columns by setting dataframe.columns equal to a list of the new names -- order matters!\n",
    "movies_count.columns = ['count']\n",
    "\n",
    "# .groupby('Studio') uses the 'Studio' factor as the index in the dataframe it produces. to change this back into a \n",
    "# factor we can use reset_index() notice what changes.\n",
    "movies_count = movies_count.reset_index()\n",
    "movies_count.head()"
   ]
  },
  {
   "cell_type": "markdown",
   "metadata": {},
   "source": [
    "We then can use Seaborn's barplot to plot the data. Let's start by seeing what we get out of the box."
   ]
  },
  {
   "cell_type": "code",
   "execution_count": 138,
   "metadata": {},
   "outputs": [
    {
     "data": {
      "text/plain": [
       "<AxesSubplot:xlabel='count', ylabel='Studio'>"
      ]
     },
     "execution_count": 138,
     "metadata": {},
     "output_type": "execute_result"
    },
    {
     "data": {
      "image/png": "[encoded data removed]",
      "text/plain": [
       "<Figure size 504x720 with 1 Axes>"
      ]
     },
     "metadata": {
      "needs_background": "light"
     },
     "output_type": "display_data"
    }
   ],
   "source": [
    "# Seaborn barplot then plots these. \n",
    "\n",
    "plt.figure(figsize=(7, 10))\n",
    "sns.barplot(x='count', y='Studio', data=movies_count, color='#2B547E')"
   ]
  },
  {
   "cell_type": "markdown",
   "metadata": {},
   "source": [
    "#### Color\n",
    "\n",
    "This is the first plot where the default colors from seaborn are not a great choice (try it without the color parameter and see). \n",
    "\n",
    "You can specifcy colors in a number of ways, but the way I find most useful is to use the HTML color codes. [Here is a website where you can look those up](http://computerhope.com/htmcolor.htm)."
   ]
  },
  {
   "cell_type": "markdown",
   "metadata": {},
   "source": [
    "A couple of notes. Normally I like my barplots to be vertical not horizontal like above. However,\n",
    "\n",
    "- if the number of features is large\n",
    "- or the names of the features are long\n",
    "\n",
    "A vertical orientation is better because the graph we get is more readable.\n",
    "\n",
    "Note what went wrong though."
   ]
  },
  {
   "cell_type": "code",
   "execution_count": 139,
   "metadata": {},
   "outputs": [
    {
     "data": {
      "text/plain": [
       "<AxesSubplot:xlabel='count', ylabel='Studio'>"
      ]
     },
     "execution_count": 139,
     "metadata": {},
     "output_type": "execute_result"
    },
    {
     "data": {
      "image/png": "[encoded data removed]",
      "text/plain": [
       "<Figure size 504x720 with 1 Axes>"
      ]
     },
     "metadata": {
      "needs_background": "light"
     },
     "output_type": "display_data"
    }
   ],
   "source": [
    "# It might make more sense to sort the data first.\n",
    "\n",
    "plt.figure(figsize=(7, 10))\n",
    "sns.barplot(x='count', y='Studio', data=movies_count.sort_values('count', ascending=False), color='#2B547E')"
   ]
  },
  {
   "cell_type": "markdown",
   "metadata": {},
   "source": [
    "## Ordinal Categorical Data \n",
    "\n",
    "Some categorical data, like the 'year' in the top_data dataframe has a natural order to it. In this case it is obviously the year the movie was released. "
   ]
  },
  {
   "cell_type": "code",
   "execution_count": 140,
   "metadata": {},
   "outputs": [
    {
     "data": {
      "text/html": [
       "<div>\n",
       "<style scoped>\n",
       "    .dataframe tbody tr th:only-of-type {\n",
       "        vertical-align: middle;\n",
       "    }\n",
       "\n",
       "    .dataframe tbody tr th {\n",
       "        vertical-align: top;\n",
       "    }\n",
       "\n",
       "    .dataframe thead th {\n",
       "        text-align: right;\n",
       "    }\n",
       "</style>\n",
       "<table border=\"1\" class=\"dataframe\">\n",
       "  <thead>\n",
       "    <tr style=\"text-align: right;\">\n",
       "      <th></th>\n",
       "      <th>Year</th>\n",
       "      <th>count</th>\n",
       "    </tr>\n",
       "  </thead>\n",
       "  <tbody>\n",
       "    <tr>\n",
       "      <th>65</th>\n",
       "      <td>2011</td>\n",
       "      <td>2</td>\n",
       "    </tr>\n",
       "    <tr>\n",
       "      <th>66</th>\n",
       "      <td>2012</td>\n",
       "      <td>5</td>\n",
       "    </tr>\n",
       "    <tr>\n",
       "      <th>67</th>\n",
       "      <td>2013</td>\n",
       "      <td>4</td>\n",
       "    </tr>\n",
       "    <tr>\n",
       "      <th>68</th>\n",
       "      <td>2014</td>\n",
       "      <td>3</td>\n",
       "    </tr>\n",
       "    <tr>\n",
       "      <th>69</th>\n",
       "      <td>2015</td>\n",
       "      <td>6</td>\n",
       "    </tr>\n",
       "  </tbody>\n",
       "</table>\n",
       "</div>"
      ],
      "text/plain": [
       "    Year  count\n",
       "65  2011      2\n",
       "66  2012      5\n",
       "67  2013      4\n",
       "68  2014      3\n",
       "69  2015      6"
      ]
     },
     "execution_count": 140,
     "metadata": {},
     "output_type": "execute_result"
    }
   ],
   "source": [
    "# Pull in the columns we want to use from the original dataframe, groupby the year, and then count the titles.\n",
    "movies_by_year = top_data.loc[:, ['Title', 'Year']].groupby('Year').count()\n",
    "\n",
    "# Change the 'Title' column to be 'count'\n",
    "movies_by_year.columns = ['count']\n",
    "\n",
    "# Reindex so that the 'Year' is again a feature\n",
    "movies_by_year = movies_by_year.reset_index()\n",
    "\n",
    "movies_by_year.tail()"
   ]
  },
  {
   "cell_type": "code",
   "execution_count": 141,
   "metadata": {},
   "outputs": [
    {
     "data": {
      "image/png": "[encoded data removed]",
      "text/plain": [
       "<Figure size 504x1080 with 1 Axes>"
      ]
     },
     "metadata": {
      "needs_background": "light"
     },
     "output_type": "display_data"
    }
   ],
   "source": [
    "# Plot it. Note that I had to pass the orient parameter 'h'.  Try it without that and see what we get.\n",
    "\n",
    "plt.figure(figsize=(7, 15))\n",
    "sns.barplot(x='count', y='Year', data=movies_by_year, color='#2B547E', orient='h');"
   ]
  },
  {
   "cell_type": "markdown",
   "metadata": {},
   "source": [
    "#### Things to watch out for\n",
    "\n",
    "Seaborn is not going to give you a warning if the years were read as 'objects' for some reason. If the dtype of that column is 'object' then they will be displayed by seaborn in the order they appear in the dataframe (like the first example) which is probably not waht you want.\n",
    "\n",
    "You might have to do some data cleaning of the original dataframe so you can change the dtype of 'Year' to int64. \n"
   ]
  },
  {
   "cell_type": "markdown",
   "metadata": {},
   "source": [
    "## Distributions\n",
    "\n",
    "A very common task is to count numerical data by the frequency with which it appears within close ranges. What we are trying to do in these case is get a sense about the distribution of the response. You can see the type of plot we want to make in the sns.pairplot() example above on the diagonal values.\n",
    "\n",
    "Seaborn is supposed to have a command that will just do this, but unfortunately I am not able to get it to work. So what we need to do is compute the distributions ourselves as a new dataframe and then plot that using the barplot from above."
   ]
  },
  {
   "cell_type": "code",
   "execution_count": 150,
   "metadata": {},
   "outputs": [
    {
     "data": {
      "text/plain": [
       "count    2.000000e+02\n",
       "mean     5.041983e+08\n",
       "std      2.159814e+08\n",
       "min      3.222619e+08\n",
       "25%      3.677804e+08\n",
       "50%      4.388570e+08\n",
       "75%      5.512131e+08\n",
       "max      1.757788e+09\n",
       "Name: Gross (Adjusted), dtype: float64"
      ]
     },
     "execution_count": 150,
     "metadata": {},
     "output_type": "execute_result"
    }
   ],
   "source": [
    "# pair down our datafram to just one of the numerical features\n",
    "adj_gross = top_data.iloc[:, -2]\n",
    "\n",
    "# First let me introduce you to the .describe() function. This gives us some information about the\n",
    "# distribution of our data. \n",
    "adj_gross.describe()"
   ]
  },
  {
   "cell_type": "code",
   "execution_count": 151,
   "metadata": {},
   "outputs": [
    {
     "data": {
      "text/plain": [
       "count     200.000000\n",
       "mean      504.198277\n",
       "std       215.981430\n",
       "min       322.261900\n",
       "25%       367.780375\n",
       "50%       438.857000\n",
       "75%       551.213100\n",
       "max      1757.788200\n",
       "Name: Gross (Adjusted) Millions, dtype: float64"
      ]
     },
     "execution_count": 151,
     "metadata": {},
     "output_type": "execute_result"
    }
   ],
   "source": [
    "# One thing we notice is that our data is made up of some consistently large numbers. Let's pair it down\n",
    "# to a more reasonable size by scaling it by 1e+06 (or $1,000,000 of dollars)\n",
    "\n",
    "adj_gross = adj_gross/1e+06\n",
    "adj_gross.name = 'Gross (Adjusted) Millions'\n",
    "adj_gross.describe()"
   ]
  },
  {
   "cell_type": "code",
   "execution_count": 152,
   "metadata": {},
   "outputs": [
    {
     "data": {
      "image/png": "[encoded data removed]",
      "text/plain": [
       "<Figure size 432x288 with 1 Axes>"
      ]
     },
     "metadata": {
      "needs_background": "light"
     },
     "output_type": "display_data"
    }
   ],
   "source": [
    "# First if all we want is histogram with the size of the bins chosen automatically, we can just use \n",
    "# a pandas plotting function\n",
    "\n",
    "#try different values of bins.\n",
    "adj_gross.plot.hist(bins=20);"
   ]
  },
  {
   "cell_type": "markdown",
   "metadata": {},
   "source": [
    "However, I find this unsatisfacotry. There are two problems:\n",
    "\n",
    "- This graphics object is not a seaborn object and so it is harder to get the labels, colors, and other features to match other plots.\n",
    "- We might want to specify the bins ourselves rather than let Python calculate them automatically."
   ]
  },
  {
   "cell_type": "code",
   "execution_count": 207,
   "metadata": {},
   "outputs": [
    {
     "data": {
      "image/png": "[encoded data removed]",
      "text/plain": [
       "<Figure size 864x576 with 1 Axes>"
      ]
     },
     "metadata": {
      "needs_background": "light"
     },
     "output_type": "display_data"
    }
   ],
   "source": [
    "# Seaborns version\n",
    "\n",
    "plt.figure(figsize=(12, 8))\n",
    "sns.distplot(adj_gross.iloc[:, -1], bins=20, kde=False);"
   ]
  },
  {
   "cell_type": "markdown",
   "metadata": {},
   "source": [
    "## Overload Graphs"
   ]
  },
  {
   "cell_type": "code",
   "execution_count": null,
   "metadata": {},
   "outputs": [],
   "source": []
  },
  {
   "cell_type": "code",
   "execution_count": null,
   "metadata": {},
   "outputs": [],
   "source": []
  },
  {
   "cell_type": "code",
   "execution_count": null,
   "metadata": {},
   "outputs": [],
   "source": []
  },
  {
   "cell_type": "markdown",
   "metadata": {},
   "source": [
    "## How to get your figures out of Python?\n",
    "\n",
    "So you have produced a beautiful figure illustrating some features in your data. How to you get it out so that you can use it in a document or report?\n",
    "\n",
    "Well for one thing, you could ust the markup language here in Jupyter and write your report in Jupyter. However, usually I do not want to show code to people unless they already know the language. So instead you can use the savefig function to save the figure as a file.\n",
    "\n",
    "While we are on the topic you can use .to_csv() to save a DataFrame you have made as a csv file (which can then be read by Excel)."
   ]
  },
  {
   "cell_type": "code",
   "execution_count": 53,
   "metadata": {},
   "outputs": [
    {
     "data": {
      "image/png": "[encoded data removed]",
      "text/plain": [
       "<Figure size 504x720 with 1 Axes>"
      ]
     },
     "metadata": {
      "needs_background": "light"
     },
     "output_type": "display_data"
    }
   ],
   "source": [
    "# It might make more sense to sort the data first.\n",
    "\n",
    "plt.figure(figsize=(7, 10))\n",
    "sns.barplot(x='count', y='Studio', data=movies_count.sort_values('count', ascending=False), color='#2B547E')\n",
    "plt.savefig('studios.png')\n",
    "\n",
    "movies_count.sort_values('count', ascending=False).to_csv('studios.csv')"
   ]
  },
  {
   "cell_type": "code",
   "execution_count": null,
   "metadata": {},
   "outputs": [],
   "source": []
  }
 ],
 "metadata": {
  "kernelspec": {
   "display_name": "Python 3",
   "language": "python",
   "name": "python3"
  },
  "language_info": {
   "codemirror_mode": {
    "name": "ipython",
    "version": 3
   },
   "file_extension": ".py",
   "mimetype": "text/x-python",
   "name": "python",
   "nbconvert_exporter": "python",
   "pygments_lexer": "ipython3",
   "version": "3.7.4"
  }
 },
 "nbformat": 4,
 "nbformat_minor": 4
}
