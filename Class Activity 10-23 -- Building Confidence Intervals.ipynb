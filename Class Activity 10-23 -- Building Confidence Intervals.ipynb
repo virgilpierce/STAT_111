{
 "cells": [
  {
   "cell_type": "code",
   "execution_count": null,
   "metadata": {},
   "outputs": [],
   "source": [
    "import pandas as pd\n",
    "import numpy as np\n",
    "import seaborn as sns\n",
    "import matplotlib.pyplot as plt\n",
    "import random"
   ]
  },
  {
   "cell_type": "markdown",
   "metadata": {},
   "source": [
    "# Building Confidence Intervals\n",
    "\n",
    "Our next resampling activity is to use the method to produce confidence intervals. The idea here is exactly as we have been doing, repeatedly build bootstraps of the data and compute the *test statistic* for each. This represents a simulation of, *based on the data we have*, where the value of the text statistic could be if we were to redo the sample.\n",
    "\n",
    "We can then use the .quantile function to find the middle 95% or 99% interval for the simulated test statistic. This represents the region where we have confidence the value of the test statistic would land if we were to redo the sample (again based on the data we have). "
   ]
  },
  {
   "cell_type": "code",
   "execution_count": null,
   "metadata": {},
   "outputs": [],
   "source": [
    "#wine_url = 'https://drive.google.com/uc?export=download&id=1Viq9HBcLq5QbgwYj_Ur81tcffSGF9Xib'\n",
    "# URL Method Not working for some reason\n",
    "\n",
    "wine_data = pd.read_csv('winequality-red 2.csv')\n",
    "wine_data"
   ]
  },
  {
   "cell_type": "markdown",
   "metadata": {},
   "source": [
    "This dataset is a random sample of 1600 different wines with some chemical analysis and then a subjective quality rating (my understanding is that the quality rating was based on public reviews of the wine).\n",
    "\n",
    "It is instructive to slice this dataset and then see what we can learn from it. Let's compute, for each of the 10 quality ratings, a confidence interval for the median alcohol percentage of the wine.\n",
    "\n",
    "### Q1:  Compute the median of the alcohol content for each of the 10 quality ratings."
   ]
  },
  {
   "cell_type": "code",
   "execution_count": null,
   "metadata": {},
   "outputs": [],
   "source": []
  },
  {
   "cell_type": "markdown",
   "metadata": {},
   "source": [
    "### Q2:  Give a boxplot or violinplot of the alcohol percentage versus the quality."
   ]
  },
  {
   "cell_type": "code",
   "execution_count": null,
   "metadata": {},
   "outputs": [],
   "source": []
  },
  {
   "cell_type": "markdown",
   "metadata": {},
   "source": [
    "## Resampling to make confidence intervals\n",
    "\n",
    "So what we would like to do is use resampling within each quality label to build an estimate on where we expect the median to move if we were to redo the sample form the original population. Again our limitation is that we are doing this with the data we have which may or may not be a truly random sample (and for this problem we really have no way of knowing). \n",
    "\n",
    "What is different from previous resampling exercises is that we will keep the quality labels separate and build each estimate from them. \n",
    "\n",
    "Why is this different from the boxplot you just drew?  That box plot is a representation of the actual sample you have. What we are interested in is the extent to which the median may move if a new sample is collected from the population - i.e. what is the variabaility of the median statistic?  Note it is affected by the size of the sample (the number of wines with that quality) as well as their spread from a center.\n",
    "\n",
    "As you do this, keep in mind that we would like to do it for each quality rating 3-8, so you should build the pieces so they are interchangeable."
   ]
  },
  {
   "cell_type": "markdown",
   "metadata": {},
   "source": [
    "### Q3. Make a list of the data for alcohol percentage for one of the quality ratings 3-8. \n",
    "\n",
    "You might want to structure your code so that you set the quality you are interested in as a variable and then use that - this will make it easy to do the exercise for all of the quality ratings."
   ]
  },
  {
   "cell_type": "code",
   "execution_count": null,
   "metadata": {},
   "outputs": [],
   "source": []
  },
  {
   "cell_type": "markdown",
   "metadata": {},
   "source": [
    "### Q4. We also need to know how many wines we had in the sample for this quality rating.\n",
    "\n",
    "One problem you will see as you explore this is that we do not have very many wines with the low and high quality values. Recall from the patterns we have seen that we expect greater variability from a small sample."
   ]
  },
  {
   "cell_type": "code",
   "execution_count": null,
   "metadata": {},
   "outputs": [],
   "source": []
  },
  {
   "cell_type": "markdown",
   "metadata": {},
   "source": [
    "### Q5. Write an experiment function to repeatedly build a bootstrap sample from the wine in a particular quality,  compute the median alcohol percentage, and then return the result as a dataframe."
   ]
  },
  {
   "cell_type": "code",
   "execution_count": null,
   "metadata": {},
   "outputs": [],
   "source": []
  },
  {
   "cell_type": "markdown",
   "metadata": {},
   "source": [
    "### Q6. Run the bottstrapping and generate a set of results for the experiment. Then use the .quantile(q=0.25) and .quantile(q=0.975) to determine the interval over which 95% of the resulting medians appeared.\n",
    "\n",
    "Note that the quantile function is applied to columns of a data frame, so you will need to use a .iloc or .loc command to choose the column."
   ]
  },
  {
   "cell_type": "code",
   "execution_count": null,
   "metadata": {},
   "outputs": [],
   "source": []
  },
  {
   "cell_type": "markdown",
   "metadata": {},
   "source": [
    "### Q7. Now do this for the other the 3-8 quality ratings. Note which quality ratings have the 95% confidence intervals overlapping."
   ]
  },
  {
   "cell_type": "code",
   "execution_count": null,
   "metadata": {},
   "outputs": [],
   "source": []
  },
  {
   "cell_type": "markdown",
   "metadata": {},
   "source": [
    "## Confidence Intervals Discussion\n",
    "\n",
    "It is worth ending with a note/warning that the phrase *confidence interval* is a bit misleading, especially in the context of this class.\n",
    "\n",
    "- 95% confidence is not really what we mean.\n",
    "- What we know for sure is that 95% of the times that we ran our bootstrapping experiment we had a median that ended up in this interval.\n",
    "\n",
    "The extent to which this means the median for all wine in this quality rating will be in this interval with a 95% chance depends on the extent to which our original sample was a truly random sample. It is as good an estimate as we can get with the data we have.\n",
    "\n",
    "What you can observe in this experiment:  In the quality ratings where we have more wines, we see much less variation in the median and thus a smaller region in which the populations value for this test statistic is found.\n",
    "\n",
    "## Comparing Populations: notes\n",
    "\n",
    "A fundamental problem with the hypothesis testing by resampling that we have done is that if the size of the subpopulations is very different, and in particular if one them is very small like in the wine database, that can lead to invalid conclusions if we try to resample the population. The labels will almost surely matter because the one population is so small.\n",
    "\n",
    "In these cases, the confidence interval approach is better as it instead tries to ask whether there is sufficient variablity within the label that the test statistics could overlap. Our goal in computing confidence intervals is not necessarily to accept or reject a hypothesis, but rather to understand where the true value of the test-statistic might lie. It penalizes populations that are small by giving wider intervals over which the true value might lie.\n",
    "\n",
    "## Next week:  Bayesian Updates\n",
    "\n",
    "Next week we will discuss how to use a formula called Bayes's Theorem to lift information from a population sample to update estimates on the probability of an event. This is a technique that also adapts to situations like this where the size of one of our categories in the sample is small.\n",
    "\n",
    "I will add that working with rare events is still very much an open problem that statisticians and data scientists are still developing techniques for. "
   ]
  },
  {
   "cell_type": "code",
   "execution_count": null,
   "metadata": {},
   "outputs": [],
   "source": []
  }
 ],
 "metadata": {
  "kernelspec": {
   "display_name": "Python 3",
   "language": "python",
   "name": "python3"
  },
  "language_info": {
   "codemirror_mode": {
    "name": "ipython",
    "version": 3
   },
   "file_extension": ".py",
   "mimetype": "text/x-python",
   "name": "python",
   "nbconvert_exporter": "python",
   "pygments_lexer": "ipython3",
   "version": "3.7.4"
  }
 },
 "nbformat": 4,
 "nbformat_minor": 4
}
